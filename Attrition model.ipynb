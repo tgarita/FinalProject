{
 "cells": [
  {
   "cell_type": "code",
   "execution_count": 1,
   "metadata": {},
   "outputs": [],
   "source": [
    "import pandas as pd"
   ]
  },
  {
   "cell_type": "code",
   "execution_count": 2,
   "metadata": {},
   "outputs": [],
   "source": [
    "import numpy as np"
   ]
  },
  {
   "cell_type": "code",
   "execution_count": 3,
   "metadata": {},
   "outputs": [],
   "source": [
    "import sklearn as sk"
   ]
  },
  {
   "cell_type": "code",
   "execution_count": 4,
   "metadata": {},
   "outputs": [],
   "source": [
    "import scipy"
   ]
  },
  {
   "cell_type": "code",
   "execution_count": 5,
   "metadata": {},
   "outputs": [],
   "source": [
    "from math import sqrt"
   ]
  },
  {
   "cell_type": "code",
   "execution_count": 6,
   "metadata": {},
   "outputs": [],
   "source": [
    "import matplotlib.pyplot as plt"
   ]
  },
  {
   "cell_type": "code",
   "execution_count": 7,
   "metadata": {},
   "outputs": [],
   "source": [
    "from sklearn.ensemble import RandomForestClassifier"
   ]
  },
  {
   "cell_type": "code",
   "execution_count": 8,
   "metadata": {},
   "outputs": [],
   "source": [
    "from sklearn import svm"
   ]
  },
  {
   "cell_type": "code",
   "execution_count": 9,
   "metadata": {},
   "outputs": [],
   "source": [
    "from sklearn import tree"
   ]
  },
  {
   "cell_type": "code",
   "execution_count": 10,
   "metadata": {},
   "outputs": [],
   "source": [
    " from sklearn.tree import DecisionTreeClassifier"
   ]
  },
  {
   "cell_type": "code",
   "execution_count": 11,
   "metadata": {},
   "outputs": [],
   "source": [
    "from sklearn.linear_model import SGDClassifier"
   ]
  },
  {
   "cell_type": "code",
   "execution_count": 12,
   "metadata": {},
   "outputs": [],
   "source": [
    "from sklearn.linear_model import LogisticRegression"
   ]
  },
  {
   "cell_type": "code",
   "execution_count": 13,
   "metadata": {},
   "outputs": [],
   "source": [
    "from sklearn import metrics"
   ]
  },
  {
   "cell_type": "code",
   "execution_count": 14,
   "metadata": {},
   "outputs": [],
   "source": [
    " from sklearn.neural_network import MLPClassifier"
   ]
  },
  {
   "cell_type": "code",
   "execution_count": 15,
   "metadata": {},
   "outputs": [],
   "source": [
    "from sklearn import linear_model"
   ]
  },
  {
   "cell_type": "code",
   "execution_count": 16,
   "metadata": {},
   "outputs": [],
   "source": [
    "from sklearn.metrics import r2_score"
   ]
  },
  {
   "cell_type": "code",
   "execution_count": 17,
   "metadata": {},
   "outputs": [],
   "source": [
    "from sklearn.model_selection import cross_val_score"
   ]
  },
  {
   "cell_type": "code",
   "execution_count": 18,
   "metadata": {},
   "outputs": [],
   "source": [
    "from sklearn.model_selection import train_test_split"
   ]
  },
  {
   "cell_type": "code",
   "execution_count": 19,
   "metadata": {},
   "outputs": [],
   "source": [
    "from pandas import ExcelWriter"
   ]
  },
  {
   "cell_type": "code",
   "execution_count": 20,
   "metadata": {},
   "outputs": [],
   "source": [
    "from pandas import ExcelFile "
   ]
  },
  {
   "cell_type": "code",
   "execution_count": 21,
   "metadata": {},
   "outputs": [],
   "source": [
    "Sample = pd.read_excel('MUESTRA_FINAL.xlsx')"
   ]
  },
  {
   "cell_type": "code",
   "execution_count": 22,
   "metadata": {},
   "outputs": [
    {
     "data": {
      "text/html": [
       "<div>\n",
       "<style scoped>\n",
       "    .dataframe tbody tr th:only-of-type {\n",
       "        vertical-align: middle;\n",
       "    }\n",
       "\n",
       "    .dataframe tbody tr th {\n",
       "        vertical-align: top;\n",
       "    }\n",
       "\n",
       "    .dataframe thead th {\n",
       "        text-align: right;\n",
       "    }\n",
       "</style>\n",
       "<table border=\"1\" class=\"dataframe\">\n",
       "  <thead>\n",
       "    <tr style=\"text-align: right;\">\n",
       "      <th></th>\n",
       "      <th>ID</th>\n",
       "      <th>ATRASO</th>\n",
       "      <th>EDAD</th>\n",
       "      <th>SALDO</th>\n",
       "      <th>SIN_SALDO_HOY</th>\n",
       "      <th>ANTIGUEDAD</th>\n",
       "      <th>referencia_rescate</th>\n",
       "      <th>MARCA_RESCATE</th>\n",
       "      <th>TARJETA_ACTIVA</th>\n",
       "      <th>sexo</th>\n",
       "      <th>...</th>\n",
       "      <th>MARCA_BAJA_U6M</th>\n",
       "      <th>MARCA_BAJA_U3M</th>\n",
       "      <th>MARCA_CONGELADA</th>\n",
       "      <th>NACIONAL</th>\n",
       "      <th>MAX_MORAU12M</th>\n",
       "      <th>MAX_MORAU6M</th>\n",
       "      <th>MAX_MORAU3M</th>\n",
       "      <th>AREA_RIESGO</th>\n",
       "      <th>PROVINCIA</th>\n",
       "      <th>MARCA_SOLTERO</th>\n",
       "    </tr>\n",
       "  </thead>\n",
       "  <tbody>\n",
       "    <tr>\n",
       "      <th>0</th>\n",
       "      <td>1</td>\n",
       "      <td>0</td>\n",
       "      <td>43</td>\n",
       "      <td>0.000</td>\n",
       "      <td>1</td>\n",
       "      <td>102</td>\n",
       "      <td>NaN</td>\n",
       "      <td>0</td>\n",
       "      <td>1</td>\n",
       "      <td>1</td>\n",
       "      <td>...</td>\n",
       "      <td>0</td>\n",
       "      <td>0</td>\n",
       "      <td>0</td>\n",
       "      <td>1</td>\n",
       "      <td>0</td>\n",
       "      <td>0</td>\n",
       "      <td>0</td>\n",
       "      <td>0</td>\n",
       "      <td>SAN JOSE</td>\n",
       "      <td>0</td>\n",
       "    </tr>\n",
       "    <tr>\n",
       "      <th>1</th>\n",
       "      <td>2</td>\n",
       "      <td>0</td>\n",
       "      <td>48</td>\n",
       "      <td>393271.688</td>\n",
       "      <td>0</td>\n",
       "      <td>101</td>\n",
       "      <td>NaN</td>\n",
       "      <td>0</td>\n",
       "      <td>1</td>\n",
       "      <td>1</td>\n",
       "      <td>...</td>\n",
       "      <td>1</td>\n",
       "      <td>1</td>\n",
       "      <td>0</td>\n",
       "      <td>1</td>\n",
       "      <td>29</td>\n",
       "      <td>29</td>\n",
       "      <td>15</td>\n",
       "      <td>0</td>\n",
       "      <td>SAN JOSE</td>\n",
       "      <td>0</td>\n",
       "    </tr>\n",
       "    <tr>\n",
       "      <th>2</th>\n",
       "      <td>3</td>\n",
       "      <td>0</td>\n",
       "      <td>49</td>\n",
       "      <td>-149.940</td>\n",
       "      <td>1</td>\n",
       "      <td>101</td>\n",
       "      <td>NaN</td>\n",
       "      <td>0</td>\n",
       "      <td>1</td>\n",
       "      <td>0</td>\n",
       "      <td>...</td>\n",
       "      <td>1</td>\n",
       "      <td>0</td>\n",
       "      <td>0</td>\n",
       "      <td>1</td>\n",
       "      <td>0</td>\n",
       "      <td>0</td>\n",
       "      <td>0</td>\n",
       "      <td>0</td>\n",
       "      <td>SAN JOSE</td>\n",
       "      <td>0</td>\n",
       "    </tr>\n",
       "    <tr>\n",
       "      <th>3</th>\n",
       "      <td>4</td>\n",
       "      <td>0</td>\n",
       "      <td>41</td>\n",
       "      <td>221759.380</td>\n",
       "      <td>0</td>\n",
       "      <td>101</td>\n",
       "      <td>NaN</td>\n",
       "      <td>0</td>\n",
       "      <td>1</td>\n",
       "      <td>1</td>\n",
       "      <td>...</td>\n",
       "      <td>1</td>\n",
       "      <td>1</td>\n",
       "      <td>0</td>\n",
       "      <td>1</td>\n",
       "      <td>1</td>\n",
       "      <td>1</td>\n",
       "      <td>1</td>\n",
       "      <td>0</td>\n",
       "      <td>SAN JOSE</td>\n",
       "      <td>0</td>\n",
       "    </tr>\n",
       "    <tr>\n",
       "      <th>4</th>\n",
       "      <td>5</td>\n",
       "      <td>0</td>\n",
       "      <td>35</td>\n",
       "      <td>173511.850</td>\n",
       "      <td>0</td>\n",
       "      <td>101</td>\n",
       "      <td>NaN</td>\n",
       "      <td>0</td>\n",
       "      <td>1</td>\n",
       "      <td>0</td>\n",
       "      <td>...</td>\n",
       "      <td>1</td>\n",
       "      <td>1</td>\n",
       "      <td>0</td>\n",
       "      <td>1</td>\n",
       "      <td>2</td>\n",
       "      <td>2</td>\n",
       "      <td>1</td>\n",
       "      <td>0</td>\n",
       "      <td>ALAJUELA</td>\n",
       "      <td>0</td>\n",
       "    </tr>\n",
       "  </tbody>\n",
       "</table>\n",
       "<p>5 rows × 52 columns</p>\n",
       "</div>"
      ],
      "text/plain": [
       "   ID  ATRASO  EDAD       SALDO  SIN_SALDO_HOY  ANTIGUEDAD referencia_rescate  \\\n",
       "0   1       0    43       0.000              1         102                NaN   \n",
       "1   2       0    48  393271.688              0         101                NaN   \n",
       "2   3       0    49    -149.940              1         101                NaN   \n",
       "3   4       0    41  221759.380              0         101                NaN   \n",
       "4   5       0    35  173511.850              0         101                NaN   \n",
       "\n",
       "   MARCA_RESCATE  TARJETA_ACTIVA  sexo  ...  MARCA_BAJA_U6M MARCA_BAJA_U3M  \\\n",
       "0              0               1     1  ...               0              0   \n",
       "1              0               1     1  ...               1              1   \n",
       "2              0               1     0  ...               1              0   \n",
       "3              0               1     1  ...               1              1   \n",
       "4              0               1     0  ...               1              1   \n",
       "\n",
       "   MARCA_CONGELADA  NACIONAL  MAX_MORAU12M  MAX_MORAU6M  MAX_MORAU3M  \\\n",
       "0                0         1             0            0            0   \n",
       "1                0         1            29           29           15   \n",
       "2                0         1             0            0            0   \n",
       "3                0         1             1            1            1   \n",
       "4                0         1             2            2            1   \n",
       "\n",
       "   AREA_RIESGO  PROVINCIA  MARCA_SOLTERO  \n",
       "0            0   SAN JOSE              0  \n",
       "1            0   SAN JOSE              0  \n",
       "2            0   SAN JOSE              0  \n",
       "3            0   SAN JOSE              0  \n",
       "4            0   ALAJUELA              0  \n",
       "\n",
       "[5 rows x 52 columns]"
      ]
     },
     "execution_count": 22,
     "metadata": {},
     "output_type": "execute_result"
    }
   ],
   "source": [
    "Sample.head()"
   ]
  },
  {
   "cell_type": "code",
   "execution_count": 23,
   "metadata": {},
   "outputs": [
    {
     "data": {
      "text/html": [
       "<div>\n",
       "<style scoped>\n",
       "    .dataframe tbody tr th:only-of-type {\n",
       "        vertical-align: middle;\n",
       "    }\n",
       "\n",
       "    .dataframe tbody tr th {\n",
       "        vertical-align: top;\n",
       "    }\n",
       "\n",
       "    .dataframe thead th {\n",
       "        text-align: right;\n",
       "    }\n",
       "</style>\n",
       "<table border=\"1\" class=\"dataframe\">\n",
       "  <thead>\n",
       "    <tr style=\"text-align: right;\">\n",
       "      <th></th>\n",
       "      <th>ID</th>\n",
       "      <th>ATRASO</th>\n",
       "      <th>EDAD</th>\n",
       "      <th>SALDO</th>\n",
       "      <th>SIN_SALDO_HOY</th>\n",
       "      <th>ANTIGUEDAD</th>\n",
       "      <th>MARCA_RESCATE</th>\n",
       "      <th>TARJETA_ACTIVA</th>\n",
       "      <th>sexo</th>\n",
       "      <th>estado_civil</th>\n",
       "      <th>...</th>\n",
       "      <th>BAJA_SALDO_U3M</th>\n",
       "      <th>MARCA_BAJA_U6M</th>\n",
       "      <th>MARCA_BAJA_U3M</th>\n",
       "      <th>MARCA_CONGELADA</th>\n",
       "      <th>NACIONAL</th>\n",
       "      <th>MAX_MORAU12M</th>\n",
       "      <th>MAX_MORAU6M</th>\n",
       "      <th>MAX_MORAU3M</th>\n",
       "      <th>AREA_RIESGO</th>\n",
       "      <th>MARCA_SOLTERO</th>\n",
       "    </tr>\n",
       "  </thead>\n",
       "  <tbody>\n",
       "    <tr>\n",
       "      <th>count</th>\n",
       "      <td>26693.000000</td>\n",
       "      <td>26693.000000</td>\n",
       "      <td>26693.000000</td>\n",
       "      <td>2.669300e+04</td>\n",
       "      <td>26693.000000</td>\n",
       "      <td>26693.000000</td>\n",
       "      <td>26693.00000</td>\n",
       "      <td>26693.000000</td>\n",
       "      <td>26693.000000</td>\n",
       "      <td>26017.000000</td>\n",
       "      <td>...</td>\n",
       "      <td>26693.000000</td>\n",
       "      <td>26693.000000</td>\n",
       "      <td>26693.000000</td>\n",
       "      <td>26693.000000</td>\n",
       "      <td>26693.000000</td>\n",
       "      <td>26693.000000</td>\n",
       "      <td>26693.000000</td>\n",
       "      <td>26693.000000</td>\n",
       "      <td>26693.000000</td>\n",
       "      <td>26693.000000</td>\n",
       "    </tr>\n",
       "    <tr>\n",
       "      <th>mean</th>\n",
       "      <td>13347.000000</td>\n",
       "      <td>0.451317</td>\n",
       "      <td>40.803656</td>\n",
       "      <td>2.332368e+05</td>\n",
       "      <td>0.334170</td>\n",
       "      <td>43.395572</td>\n",
       "      <td>0.10351</td>\n",
       "      <td>0.951710</td>\n",
       "      <td>0.551942</td>\n",
       "      <td>2.161279</td>\n",
       "      <td>...</td>\n",
       "      <td>1.277901</td>\n",
       "      <td>0.785187</td>\n",
       "      <td>0.709175</td>\n",
       "      <td>0.084254</td>\n",
       "      <td>0.974188</td>\n",
       "      <td>4.924362</td>\n",
       "      <td>3.075188</td>\n",
       "      <td>2.052860</td>\n",
       "      <td>0.143895</td>\n",
       "      <td>0.340651</td>\n",
       "    </tr>\n",
       "    <tr>\n",
       "      <th>std</th>\n",
       "      <td>7705.749704</td>\n",
       "      <td>3.702806</td>\n",
       "      <td>29.202937</td>\n",
       "      <td>4.388865e+05</td>\n",
       "      <td>0.471708</td>\n",
       "      <td>25.505063</td>\n",
       "      <td>0.30463</td>\n",
       "      <td>0.214382</td>\n",
       "      <td>0.497304</td>\n",
       "      <td>1.425169</td>\n",
       "      <td>...</td>\n",
       "      <td>1.019085</td>\n",
       "      <td>0.410700</td>\n",
       "      <td>0.454152</td>\n",
       "      <td>0.277774</td>\n",
       "      <td>0.158577</td>\n",
       "      <td>10.227500</td>\n",
       "      <td>8.232825</td>\n",
       "      <td>6.707859</td>\n",
       "      <td>0.350990</td>\n",
       "      <td>0.473937</td>\n",
       "    </tr>\n",
       "    <tr>\n",
       "      <th>min</th>\n",
       "      <td>1.000000</td>\n",
       "      <td>0.000000</td>\n",
       "      <td>-1093.000000</td>\n",
       "      <td>-5.939236e+05</td>\n",
       "      <td>0.000000</td>\n",
       "      <td>0.000000</td>\n",
       "      <td>0.00000</td>\n",
       "      <td>0.000000</td>\n",
       "      <td>0.000000</td>\n",
       "      <td>1.000000</td>\n",
       "      <td>...</td>\n",
       "      <td>0.000000</td>\n",
       "      <td>0.000000</td>\n",
       "      <td>0.000000</td>\n",
       "      <td>0.000000</td>\n",
       "      <td>0.000000</td>\n",
       "      <td>0.000000</td>\n",
       "      <td>0.000000</td>\n",
       "      <td>0.000000</td>\n",
       "      <td>0.000000</td>\n",
       "      <td>0.000000</td>\n",
       "    </tr>\n",
       "    <tr>\n",
       "      <th>25%</th>\n",
       "      <td>6674.000000</td>\n",
       "      <td>0.000000</td>\n",
       "      <td>31.000000</td>\n",
       "      <td>0.000000e+00</td>\n",
       "      <td>0.000000</td>\n",
       "      <td>20.000000</td>\n",
       "      <td>0.00000</td>\n",
       "      <td>1.000000</td>\n",
       "      <td>0.000000</td>\n",
       "      <td>1.000000</td>\n",
       "      <td>...</td>\n",
       "      <td>0.000000</td>\n",
       "      <td>1.000000</td>\n",
       "      <td>0.000000</td>\n",
       "      <td>0.000000</td>\n",
       "      <td>1.000000</td>\n",
       "      <td>0.000000</td>\n",
       "      <td>0.000000</td>\n",
       "      <td>0.000000</td>\n",
       "      <td>0.000000</td>\n",
       "      <td>0.000000</td>\n",
       "    </tr>\n",
       "    <tr>\n",
       "      <th>50%</th>\n",
       "      <td>13347.000000</td>\n",
       "      <td>0.000000</td>\n",
       "      <td>39.000000</td>\n",
       "      <td>9.226640e+04</td>\n",
       "      <td>0.000000</td>\n",
       "      <td>43.000000</td>\n",
       "      <td>0.00000</td>\n",
       "      <td>1.000000</td>\n",
       "      <td>1.000000</td>\n",
       "      <td>2.000000</td>\n",
       "      <td>...</td>\n",
       "      <td>1.000000</td>\n",
       "      <td>1.000000</td>\n",
       "      <td>1.000000</td>\n",
       "      <td>0.000000</td>\n",
       "      <td>1.000000</td>\n",
       "      <td>0.000000</td>\n",
       "      <td>0.000000</td>\n",
       "      <td>0.000000</td>\n",
       "      <td>0.000000</td>\n",
       "      <td>0.000000</td>\n",
       "    </tr>\n",
       "    <tr>\n",
       "      <th>75%</th>\n",
       "      <td>20020.000000</td>\n",
       "      <td>0.000000</td>\n",
       "      <td>51.000000</td>\n",
       "      <td>2.940787e+05</td>\n",
       "      <td>1.000000</td>\n",
       "      <td>64.000000</td>\n",
       "      <td>0.00000</td>\n",
       "      <td>1.000000</td>\n",
       "      <td>1.000000</td>\n",
       "      <td>2.000000</td>\n",
       "      <td>...</td>\n",
       "      <td>2.000000</td>\n",
       "      <td>1.000000</td>\n",
       "      <td>1.000000</td>\n",
       "      <td>0.000000</td>\n",
       "      <td>1.000000</td>\n",
       "      <td>5.000000</td>\n",
       "      <td>2.000000</td>\n",
       "      <td>0.000000</td>\n",
       "      <td>0.000000</td>\n",
       "      <td>1.000000</td>\n",
       "    </tr>\n",
       "    <tr>\n",
       "      <th>max</th>\n",
       "      <td>26693.000000</td>\n",
       "      <td>88.000000</td>\n",
       "      <td>2018.000000</td>\n",
       "      <td>1.337999e+07</td>\n",
       "      <td>1.000000</td>\n",
       "      <td>102.000000</td>\n",
       "      <td>1.00000</td>\n",
       "      <td>1.000000</td>\n",
       "      <td>1.000000</td>\n",
       "      <td>6.000000</td>\n",
       "      <td>...</td>\n",
       "      <td>3.000000</td>\n",
       "      <td>1.000000</td>\n",
       "      <td>1.000000</td>\n",
       "      <td>1.000000</td>\n",
       "      <td>1.000000</td>\n",
       "      <td>92.000000</td>\n",
       "      <td>92.000000</td>\n",
       "      <td>92.000000</td>\n",
       "      <td>1.000000</td>\n",
       "      <td>1.000000</td>\n",
       "    </tr>\n",
       "  </tbody>\n",
       "</table>\n",
       "<p>8 rows × 49 columns</p>\n",
       "</div>"
      ],
      "text/plain": [
       "                 ID        ATRASO          EDAD         SALDO  SIN_SALDO_HOY  \\\n",
       "count  26693.000000  26693.000000  26693.000000  2.669300e+04   26693.000000   \n",
       "mean   13347.000000      0.451317     40.803656  2.332368e+05       0.334170   \n",
       "std     7705.749704      3.702806     29.202937  4.388865e+05       0.471708   \n",
       "min        1.000000      0.000000  -1093.000000 -5.939236e+05       0.000000   \n",
       "25%     6674.000000      0.000000     31.000000  0.000000e+00       0.000000   \n",
       "50%    13347.000000      0.000000     39.000000  9.226640e+04       0.000000   \n",
       "75%    20020.000000      0.000000     51.000000  2.940787e+05       1.000000   \n",
       "max    26693.000000     88.000000   2018.000000  1.337999e+07       1.000000   \n",
       "\n",
       "         ANTIGUEDAD  MARCA_RESCATE  TARJETA_ACTIVA          sexo  \\\n",
       "count  26693.000000    26693.00000    26693.000000  26693.000000   \n",
       "mean      43.395572        0.10351        0.951710      0.551942   \n",
       "std       25.505063        0.30463        0.214382      0.497304   \n",
       "min        0.000000        0.00000        0.000000      0.000000   \n",
       "25%       20.000000        0.00000        1.000000      0.000000   \n",
       "50%       43.000000        0.00000        1.000000      1.000000   \n",
       "75%       64.000000        0.00000        1.000000      1.000000   \n",
       "max      102.000000        1.00000        1.000000      1.000000   \n",
       "\n",
       "       estado_civil  ...  BAJA_SALDO_U3M  MARCA_BAJA_U6M  MARCA_BAJA_U3M  \\\n",
       "count  26017.000000  ...    26693.000000    26693.000000    26693.000000   \n",
       "mean       2.161279  ...        1.277901        0.785187        0.709175   \n",
       "std        1.425169  ...        1.019085        0.410700        0.454152   \n",
       "min        1.000000  ...        0.000000        0.000000        0.000000   \n",
       "25%        1.000000  ...        0.000000        1.000000        0.000000   \n",
       "50%        2.000000  ...        1.000000        1.000000        1.000000   \n",
       "75%        2.000000  ...        2.000000        1.000000        1.000000   \n",
       "max        6.000000  ...        3.000000        1.000000        1.000000   \n",
       "\n",
       "       MARCA_CONGELADA      NACIONAL  MAX_MORAU12M   MAX_MORAU6M  \\\n",
       "count     26693.000000  26693.000000  26693.000000  26693.000000   \n",
       "mean          0.084254      0.974188      4.924362      3.075188   \n",
       "std           0.277774      0.158577     10.227500      8.232825   \n",
       "min           0.000000      0.000000      0.000000      0.000000   \n",
       "25%           0.000000      1.000000      0.000000      0.000000   \n",
       "50%           0.000000      1.000000      0.000000      0.000000   \n",
       "75%           0.000000      1.000000      5.000000      2.000000   \n",
       "max           1.000000      1.000000     92.000000     92.000000   \n",
       "\n",
       "        MAX_MORAU3M   AREA_RIESGO  MARCA_SOLTERO  \n",
       "count  26693.000000  26693.000000   26693.000000  \n",
       "mean       2.052860      0.143895       0.340651  \n",
       "std        6.707859      0.350990       0.473937  \n",
       "min        0.000000      0.000000       0.000000  \n",
       "25%        0.000000      0.000000       0.000000  \n",
       "50%        0.000000      0.000000       0.000000  \n",
       "75%        0.000000      0.000000       1.000000  \n",
       "max       92.000000      1.000000       1.000000  \n",
       "\n",
       "[8 rows x 49 columns]"
      ]
     },
     "execution_count": 23,
     "metadata": {},
     "output_type": "execute_result"
    }
   ],
   "source": [
    "Sample.describe()"
   ]
  },
  {
   "cell_type": "code",
   "execution_count": 24,
   "metadata": {},
   "outputs": [],
   "source": [
    "#En la tabla anterior se observa que hay campos con valores pérdidos. Además, se tiene casos con valores atípicos e \n",
    "#inconsistencias dada la naturaleza de la variable, como lo es el caso de la Edad, donde se muestran valores negativos y de \n",
    "#más de 2 mil años. La desviación estandár del saldo es muy grande, lo que se respalda por un valor máximo muy alto en \n",
    "#comparación con el 75% de los casos."
   ]
  },
  {
   "cell_type": "code",
   "execution_count": 25,
   "metadata": {},
   "outputs": [
    {
     "name": "stdout",
     "output_type": "stream",
     "text": [
      "<class 'pandas.core.frame.DataFrame'>\n",
      "RangeIndex: 26693 entries, 0 to 26692\n",
      "Data columns (total 52 columns):\n",
      "ID                        26693 non-null int64\n",
      "ATRASO                    26693 non-null int64\n",
      "EDAD                      26693 non-null int64\n",
      "SALDO                     26693 non-null float64\n",
      "SIN_SALDO_HOY             26693 non-null int64\n",
      "ANTIGUEDAD                26693 non-null int64\n",
      "referencia_rescate        2763 non-null object\n",
      "MARCA_RESCATE             26693 non-null int64\n",
      "TARJETA_ACTIVA            26693 non-null int64\n",
      "sexo                      26693 non-null int64\n",
      "estado_civil              26017 non-null float64\n",
      "tipo_ingreso              11262 non-null object\n",
      "AJUSTE_PLAN_CUOTAS        26693 non-null int64\n",
      "CANCELACION_ANTICIPADA    26693 non-null int64\n",
      "ERROR_PAGO_SERVICIOS      26693 non-null int64\n",
      "INCONSISTENCIA_CTA        26693 non-null int64\n",
      "PAGO_INCORRECTO           26693 non-null int64\n",
      "REVERSO_ADMCTA            26693 non-null int64\n",
      "REVERSO_CPMV              26693 non-null int64\n",
      "REVERSO_CPMV2             26693 non-null int64\n",
      "REVERSO_EDC               26693 non-null int64\n",
      "REVERSO_INTERESES         26693 non-null int64\n",
      "SUMA_QUEJAS               26693 non-null int64\n",
      "MARCA_QUEJAS              26693 non-null int64\n",
      "MONETARY                  26693 non-null float64\n",
      "FREQUENCY                 26693 non-null int64\n",
      "RECENCY                   26693 non-null int64\n",
      "Q_MONETARY                26693 non-null int64\n",
      "Q_FREQUENCY               26693 non-null int64\n",
      "Q_RECENCY                 26693 non-null int64\n",
      "CUOTA_MAXIMA              26693 non-null int64\n",
      "SIN_SALDO_U12M            26693 non-null int64\n",
      "SIN_SALDO_U6M             26693 non-null int64\n",
      "SIN_SALDO_U3M             26693 non-null int64\n",
      "MARCA_SIN_SALDO_U12M      26693 non-null int64\n",
      "MARCA_SIN_SALDO_U6M       26693 non-null int64\n",
      "MARCA_SIN_SALDO_U3M       26693 non-null int64\n",
      "LIMITE                    26693 non-null float64\n",
      "RANGO_LIMITE              26693 non-null int64\n",
      "USO_0                     26693 non-null float64\n",
      "BAJA_SALDO_U6M            26693 non-null int64\n",
      "BAJA_SALDO_U3M            26693 non-null int64\n",
      "MARCA_BAJA_U6M            26693 non-null int64\n",
      "MARCA_BAJA_U3M            26693 non-null int64\n",
      "MARCA_CONGELADA           26693 non-null int64\n",
      "NACIONAL                  26693 non-null int64\n",
      "MAX_MORAU12M              26693 non-null int64\n",
      "MAX_MORAU6M               26693 non-null int64\n",
      "MAX_MORAU3M               26693 non-null int64\n",
      "AREA_RIESGO               26693 non-null int64\n",
      "PROVINCIA                 26693 non-null object\n",
      "MARCA_SOLTERO             26693 non-null int64\n",
      "dtypes: float64(5), int64(44), object(3)\n",
      "memory usage: 10.6+ MB\n"
     ]
    }
   ],
   "source": [
    "Sample.info()"
   ]
  },
  {
   "cell_type": "code",
   "execution_count": 26,
   "metadata": {},
   "outputs": [],
   "source": [
    "#Por otro lado, una serie de variables se muestran con tipo numérico o integer y en realidad son variables categóricas, por ejemplo,\n",
    "#Marca rescate, estado civil, rango de límite, baja_saldo_u6m, etc."
   ]
  },
  {
   "cell_type": "code",
   "execution_count": 27,
   "metadata": {},
   "outputs": [],
   "source": [
    "Sample['SIN_SALDO_HOY'] = Sample['SIN_SALDO_HOY'].apply(str)"
   ]
  },
  {
   "cell_type": "code",
   "execution_count": 28,
   "metadata": {},
   "outputs": [],
   "source": [
    "Sample['sexo'] = Sample['sexo'].apply(str)"
   ]
  },
  {
   "cell_type": "code",
   "execution_count": 29,
   "metadata": {},
   "outputs": [],
   "source": [
    "Sample['MARCA_RESCATE'] = Sample['MARCA_RESCATE'].apply(str)"
   ]
  },
  {
   "cell_type": "code",
   "execution_count": 30,
   "metadata": {},
   "outputs": [],
   "source": [
    "Sample['TARJETA_ACTIVA'] = Sample['TARJETA_ACTIVA'].apply(str)"
   ]
  },
  {
   "cell_type": "code",
   "execution_count": 31,
   "metadata": {},
   "outputs": [],
   "source": [
    "Sample['estado_civil'] = Sample['estado_civil'].apply(str)"
   ]
  },
  {
   "cell_type": "code",
   "execution_count": 32,
   "metadata": {},
   "outputs": [],
   "source": [
    "Sample['ERROR_PAGO_SERVICIOS'] = Sample['ERROR_PAGO_SERVICIOS'].apply(str)"
   ]
  },
  {
   "cell_type": "code",
   "execution_count": 33,
   "metadata": {},
   "outputs": [],
   "source": [
    "Sample['PAGO_INCORRECTO'] = Sample['PAGO_INCORRECTO'].apply(str)"
   ]
  },
  {
   "cell_type": "code",
   "execution_count": 34,
   "metadata": {},
   "outputs": [],
   "source": [
    "Sample['REVERSO_EDC'] = Sample['REVERSO_EDC'].apply(str)"
   ]
  },
  {
   "cell_type": "code",
   "execution_count": 35,
   "metadata": {},
   "outputs": [],
   "source": [
    "Sample['Q_MONETARY'] = Sample['Q_MONETARY'].apply(str)"
   ]
  },
  {
   "cell_type": "code",
   "execution_count": 36,
   "metadata": {},
   "outputs": [],
   "source": [
    "Sample['Q_FREQUENCY'] = Sample['Q_FREQUENCY'].apply(str)"
   ]
  },
  {
   "cell_type": "code",
   "execution_count": 37,
   "metadata": {},
   "outputs": [],
   "source": [
    "Sample['Q_RECENCY'] = Sample['Q_RECENCY'].apply(str)"
   ]
  },
  {
   "cell_type": "code",
   "execution_count": 38,
   "metadata": {},
   "outputs": [],
   "source": [
    "Sample['MARCA_CONGELADA'] = Sample['MARCA_CONGELADA'].apply(str)"
   ]
  },
  {
   "cell_type": "code",
   "execution_count": 39,
   "metadata": {},
   "outputs": [],
   "source": [
    "Sample['NACIONAL'] = Sample['NACIONAL'].apply(str)"
   ]
  },
  {
   "cell_type": "code",
   "execution_count": 40,
   "metadata": {},
   "outputs": [],
   "source": [
    "Sample['AREA_RIESGO'] = Sample['AREA_RIESGO'].apply(str)"
   ]
  },
  {
   "cell_type": "code",
   "execution_count": 41,
   "metadata": {},
   "outputs": [],
   "source": [
    "Sample['MARCA_SOLTERO'] = Sample['MARCA_SOLTERO'].apply(str)"
   ]
  },
  {
   "cell_type": "code",
   "execution_count": 42,
   "metadata": {},
   "outputs": [],
   "source": [
    "Sample['MARCA_QUEJAS'] = Sample['MARCA_QUEJAS'].apply(str)"
   ]
  },
  {
   "cell_type": "code",
   "execution_count": 43,
   "metadata": {},
   "outputs": [],
   "source": [
    "Sample['MARCA_SIN_SALDO_U12M'] = Sample['MARCA_SIN_SALDO_U12M'].apply(str)"
   ]
  },
  {
   "cell_type": "code",
   "execution_count": 44,
   "metadata": {},
   "outputs": [],
   "source": [
    "Sample['MARCA_SIN_SALDO_U6M'] = Sample['MARCA_SIN_SALDO_U6M'].apply(str)"
   ]
  },
  {
   "cell_type": "code",
   "execution_count": 45,
   "metadata": {},
   "outputs": [],
   "source": [
    "Sample['MARCA_SIN_SALDO_U3M'] = Sample['MARCA_SIN_SALDO_U3M'].apply(str)"
   ]
  },
  {
   "cell_type": "code",
   "execution_count": 46,
   "metadata": {},
   "outputs": [],
   "source": [
    "Sample['MARCA_BAJA_U6M'] = Sample['MARCA_BAJA_U6M'].apply(str)"
   ]
  },
  {
   "cell_type": "code",
   "execution_count": 47,
   "metadata": {},
   "outputs": [],
   "source": [
    "Sample['MARCA_BAJA_U3M'] = Sample['MARCA_BAJA_U3M'].apply(str)"
   ]
  },
  {
   "cell_type": "code",
   "execution_count": 48,
   "metadata": {},
   "outputs": [
    {
     "name": "stdout",
     "output_type": "stream",
     "text": [
      "<class 'pandas.core.frame.DataFrame'>\n",
      "RangeIndex: 26693 entries, 0 to 26692\n",
      "Data columns (total 52 columns):\n",
      "ID                        26693 non-null int64\n",
      "ATRASO                    26693 non-null int64\n",
      "EDAD                      26693 non-null int64\n",
      "SALDO                     26693 non-null float64\n",
      "SIN_SALDO_HOY             26693 non-null object\n",
      "ANTIGUEDAD                26693 non-null int64\n",
      "referencia_rescate        2763 non-null object\n",
      "MARCA_RESCATE             26693 non-null object\n",
      "TARJETA_ACTIVA            26693 non-null object\n",
      "sexo                      26693 non-null object\n",
      "estado_civil              26693 non-null object\n",
      "tipo_ingreso              11262 non-null object\n",
      "AJUSTE_PLAN_CUOTAS        26693 non-null int64\n",
      "CANCELACION_ANTICIPADA    26693 non-null int64\n",
      "ERROR_PAGO_SERVICIOS      26693 non-null object\n",
      "INCONSISTENCIA_CTA        26693 non-null int64\n",
      "PAGO_INCORRECTO           26693 non-null object\n",
      "REVERSO_ADMCTA            26693 non-null int64\n",
      "REVERSO_CPMV              26693 non-null int64\n",
      "REVERSO_CPMV2             26693 non-null int64\n",
      "REVERSO_EDC               26693 non-null object\n",
      "REVERSO_INTERESES         26693 non-null int64\n",
      "SUMA_QUEJAS               26693 non-null int64\n",
      "MARCA_QUEJAS              26693 non-null object\n",
      "MONETARY                  26693 non-null float64\n",
      "FREQUENCY                 26693 non-null int64\n",
      "RECENCY                   26693 non-null int64\n",
      "Q_MONETARY                26693 non-null object\n",
      "Q_FREQUENCY               26693 non-null object\n",
      "Q_RECENCY                 26693 non-null object\n",
      "CUOTA_MAXIMA              26693 non-null int64\n",
      "SIN_SALDO_U12M            26693 non-null int64\n",
      "SIN_SALDO_U6M             26693 non-null int64\n",
      "SIN_SALDO_U3M             26693 non-null int64\n",
      "MARCA_SIN_SALDO_U12M      26693 non-null object\n",
      "MARCA_SIN_SALDO_U6M       26693 non-null object\n",
      "MARCA_SIN_SALDO_U3M       26693 non-null object\n",
      "LIMITE                    26693 non-null float64\n",
      "RANGO_LIMITE              26693 non-null int64\n",
      "USO_0                     26693 non-null float64\n",
      "BAJA_SALDO_U6M            26693 non-null int64\n",
      "BAJA_SALDO_U3M            26693 non-null int64\n",
      "MARCA_BAJA_U6M            26693 non-null object\n",
      "MARCA_BAJA_U3M            26693 non-null object\n",
      "MARCA_CONGELADA           26693 non-null object\n",
      "NACIONAL                  26693 non-null object\n",
      "MAX_MORAU12M              26693 non-null int64\n",
      "MAX_MORAU6M               26693 non-null int64\n",
      "MAX_MORAU3M               26693 non-null int64\n",
      "AREA_RIESGO               26693 non-null object\n",
      "PROVINCIA                 26693 non-null object\n",
      "MARCA_SOLTERO             26693 non-null object\n",
      "dtypes: float64(4), int64(24), object(24)\n",
      "memory usage: 10.6+ MB\n"
     ]
    }
   ],
   "source": [
    "Sample.info()"
   ]
  },
  {
   "cell_type": "code",
   "execution_count": 49,
   "metadata": {},
   "outputs": [
    {
     "data": {
      "text/plain": [
       "array([[<matplotlib.axes._subplots.AxesSubplot object at 0x0000027EDE5605F8>]],\n",
       "      dtype=object)"
      ]
     },
     "execution_count": 49,
     "metadata": {},
     "output_type": "execute_result"
    },
    {
     "data": {
      "image/png": "[encoded data removed]",
      "text/plain": [
       "<Figure size 432x288 with 1 Axes>"
      ]
     },
     "metadata": {
      "needs_background": "light"
     },
     "output_type": "display_data"
    }
   ],
   "source": [
    "Sample.hist(column='ATRASO')"
   ]
  },
  {
   "cell_type": "code",
   "execution_count": 50,
   "metadata": {},
   "outputs": [],
   "source": [
    "#La muestra de clientes para el estudo se toma en Enero 2018, donde seleccionan solo clientes activos, \n",
    "#es decir que pueden utilizar su tarjeta para consumir o si presenta atrasos no son mayores a 90 días. De ahí, que la\n",
    "#mayoría de clientes para esa fecha se encuentre al día."
   ]
  },
  {
   "cell_type": "code",
   "execution_count": 51,
   "metadata": {},
   "outputs": [
    {
     "data": {
      "text/plain": [
       "array([[<matplotlib.axes._subplots.AxesSubplot object at 0x0000027EDE611DD8>]],\n",
       "      dtype=object)"
      ]
     },
     "execution_count": 51,
     "metadata": {},
     "output_type": "execute_result"
    },
    {
     "data": {
      "image/png": "[encoded data removed]",
      "text/plain": [
       "<Figure size 432x288 with 1 Axes>"
      ]
     },
     "metadata": {
      "needs_background": "light"
     },
     "output_type": "display_data"
    }
   ],
   "source": [
    "Sample.hist(column='EDAD')"
   ]
  },
  {
   "cell_type": "code",
   "execution_count": 52,
   "metadata": {},
   "outputs": [],
   "source": [
    "#Con el histograma se confirma que la variable Edad posee valores extremos tanto positivos como negativos, por lo que \n",
    "#se debería eliminar o sustituir esos valores."
   ]
  },
  {
   "cell_type": "code",
   "execution_count": 53,
   "metadata": {},
   "outputs": [
    {
     "data": {
      "text/plain": [
       "array([[<matplotlib.axes._subplots.AxesSubplot object at 0x0000027EDE5AA4E0>]],\n",
       "      dtype=object)"
      ]
     },
     "execution_count": 53,
     "metadata": {},
     "output_type": "execute_result"
    },
    {
     "data": {
      "image/png": "[encoded data removed]",
      "text/plain": [
       "<Figure size 432x288 with 1 Axes>"
      ]
     },
     "metadata": {
      "needs_background": "light"
     },
     "output_type": "display_data"
    }
   ],
   "source": [
    "Sample.hist(column='SALDO')"
   ]
  },
  {
   "cell_type": "code",
   "execution_count": 54,
   "metadata": {},
   "outputs": [],
   "source": [
    "#En el caso del saldo o deuda del cliente con la tarjeta se tienen clientes con saldo a favor o sin saldo pero en su mayoría\n",
    "#tienen saldo positivo. Sin embargo, no se aprecia bien la distribución de los saldos porque existen pocos clientes con \n",
    "#saldos muy altos. Por ejemplo, el valor máximo es de 13 millones. "
   ]
  },
  {
   "cell_type": "code",
   "execution_count": 55,
   "metadata": {},
   "outputs": [
    {
     "data": {
      "text/plain": [
       "array([[<matplotlib.axes._subplots.AxesSubplot object at 0x0000027EDE719A20>]],\n",
       "      dtype=object)"
      ]
     },
     "execution_count": 55,
     "metadata": {},
     "output_type": "execute_result"
    },
    {
     "data": {
      "image/png": "[encoded data removed]",
      "text/plain": [
       "<Figure size 432x288 with 1 Axes>"
      ]
     },
     "metadata": {
      "needs_background": "light"
     },
     "output_type": "display_data"
    }
   ],
   "source": [
    "Sample.hist(column='ANTIGUEDAD')"
   ]
  },
  {
   "cell_type": "code",
   "execution_count": 56,
   "metadata": {},
   "outputs": [],
   "source": [
    "#La mayoría de los clientes tienen entre 20 a 70 meses de antiguedad."
   ]
  },
  {
   "cell_type": "code",
   "execution_count": 57,
   "metadata": {},
   "outputs": [
    {
     "data": {
      "text/plain": [
       "array([[<matplotlib.axes._subplots.AxesSubplot object at 0x0000027EDE791128>]],\n",
       "      dtype=object)"
      ]
     },
     "execution_count": 57,
     "metadata": {},
     "output_type": "execute_result"
    },
    {
     "data": {
      "image/png": "[encoded data removed]",
      "text/plain": [
       "<Figure size 432x288 with 1 Axes>"
      ]
     },
     "metadata": {
      "needs_background": "light"
     },
     "output_type": "display_data"
    }
   ],
   "source": [
    "Sample.hist(column='MONETARY')"
   ]
  },
  {
   "cell_type": "code",
   "execution_count": 58,
   "metadata": {},
   "outputs": [],
   "source": [
    "#Este campo es la suma de todas las compras hechas en un año. En el histograma se observa que de igual manera que con el \n",
    "#saldo se presentan valores extremos, por lo que no se puede observar bien la distribución de la suma de compras. El \n",
    "#valor máximo es de 46 millones."
   ]
  },
  {
   "cell_type": "code",
   "execution_count": 59,
   "metadata": {},
   "outputs": [
    {
     "data": {
      "text/plain": [
       "array([[<matplotlib.axes._subplots.AxesSubplot object at 0x0000027EDE7E3A58>]],\n",
       "      dtype=object)"
      ]
     },
     "execution_count": 59,
     "metadata": {},
     "output_type": "execute_result"
    },
    {
     "data": {
      "image/png": "[encoded data removed]",
      "text/plain": [
       "<Figure size 432x288 with 1 Axes>"
      ]
     },
     "metadata": {
      "needs_background": "light"
     },
     "output_type": "display_data"
    }
   ],
   "source": [
    "Sample.hist(column='FREQUENCY')"
   ]
  },
  {
   "cell_type": "code",
   "execution_count": 60,
   "metadata": {},
   "outputs": [],
   "source": [
    "#El mismo caso que la variable anterior."
   ]
  },
  {
   "cell_type": "code",
   "execution_count": 61,
   "metadata": {},
   "outputs": [
    {
     "data": {
      "text/plain": [
       "array([[<matplotlib.axes._subplots.AxesSubplot object at 0x0000027EDE80D780>]],\n",
       "      dtype=object)"
      ]
     },
     "execution_count": 61,
     "metadata": {},
     "output_type": "execute_result"
    },
    {
     "data": {
      "image/png": "[encoded data removed]",
      "text/plain": [
       "<Figure size 432x288 with 1 Axes>"
      ]
     },
     "metadata": {
      "needs_background": "light"
     },
     "output_type": "display_data"
    }
   ],
   "source": [
    "Sample.hist(column='RECENCY')"
   ]
  },
  {
   "cell_type": "code",
   "execution_count": 62,
   "metadata": {},
   "outputs": [],
   "source": [
    "#Se tiene clientes que tienen casi un año de no realizar compras."
   ]
  },
  {
   "cell_type": "code",
   "execution_count": 63,
   "metadata": {},
   "outputs": [
    {
     "data": {
      "text/plain": [
       "array([[<matplotlib.axes._subplots.AxesSubplot object at 0x0000027EDEF51AC8>]],\n",
       "      dtype=object)"
      ]
     },
     "execution_count": 63,
     "metadata": {},
     "output_type": "execute_result"
    },
    {
     "data": {
      "image/png": "[encoded data removed]",
      "text/plain": [
       "<Figure size 432x288 with 1 Axes>"
      ]
     },
     "metadata": {
      "needs_background": "light"
     },
     "output_type": "display_data"
    }
   ],
   "source": [
    "Sample.hist(column='CUOTA_MAXIMA')"
   ]
  },
  {
   "cell_type": "code",
   "execution_count": 64,
   "metadata": {},
   "outputs": [],
   "source": [
    "#Cuando los clientes consumen en cuotas, prefieren hacerlo a 12 cuotas."
   ]
  },
  {
   "cell_type": "code",
   "execution_count": 65,
   "metadata": {},
   "outputs": [
    {
     "data": {
      "text/plain": [
       "array([[<matplotlib.axes._subplots.AxesSubplot object at 0x0000027EDEFD46D8>]],\n",
       "      dtype=object)"
      ]
     },
     "execution_count": 65,
     "metadata": {},
     "output_type": "execute_result"
    },
    {
     "data": {
      "image/png": "[encoded data removed]",
      "text/plain": [
       "<Figure size 432x288 with 1 Axes>"
      ]
     },
     "metadata": {
      "needs_background": "light"
     },
     "output_type": "display_data"
    }
   ],
   "source": [
    "Sample.hist(column='LIMITE')"
   ]
  },
  {
   "cell_type": "code",
   "execution_count": 66,
   "metadata": {},
   "outputs": [],
   "source": [
    "#El límite de crédito también presentan valores extremos, por ejemplo, el valor mínimo es de 70 mil \n",
    "#y el máximo de 35 millones. Lo que sesga bastante el cálculo del límite promedio de la cartera."
   ]
  },
  {
   "cell_type": "code",
   "execution_count": 67,
   "metadata": {},
   "outputs": [
    {
     "data": {
      "text/plain": [
       "array([[<matplotlib.axes._subplots.AxesSubplot object at 0x0000027EDF05D2E8>]],\n",
       "      dtype=object)"
      ]
     },
     "execution_count": 67,
     "metadata": {},
     "output_type": "execute_result"
    },
    {
     "data": {
      "image/png": "[encoded data removed]",
      "text/plain": [
       "<Figure size 432x288 with 1 Axes>"
      ]
     },
     "metadata": {
      "needs_background": "light"
     },
     "output_type": "display_data"
    }
   ],
   "source": [
    "Sample.hist(column='USO_0')"
   ]
  },
  {
   "cell_type": "code",
   "execution_count": 68,
   "metadata": {},
   "outputs": [],
   "source": [
    "#Representa el porcentaje de uso que hace el cliente de su límite de crédito. Donde se tienen valores poco razonables como\n",
    "# que un cliente utilice hasta 8 veces su límite de crédito."
   ]
  },
  {
   "cell_type": "code",
   "execution_count": 69,
   "metadata": {},
   "outputs": [
    {
     "data": {
      "text/plain": [
       "array([[<matplotlib.axes._subplots.AxesSubplot object at 0x0000027EDBB5AE80>]],\n",
       "      dtype=object)"
      ]
     },
     "execution_count": 69,
     "metadata": {},
     "output_type": "execute_result"
    },
    {
     "data": {
      "image/png": "[encoded data removed]",
      "text/plain": [
       "<Figure size 432x288 with 1 Axes>"
      ]
     },
     "metadata": {
      "needs_background": "light"
     },
     "output_type": "display_data"
    }
   ],
   "source": [
    "Sample.hist(column='BAJA_SALDO_U6M')"
   ]
  },
  {
   "cell_type": "code",
   "execution_count": 70,
   "metadata": {},
   "outputs": [],
   "source": [
    "#Esta variable muestra qué tan rápido está cancelando su deuda el cliente."
   ]
  },
  {
   "cell_type": "code",
   "execution_count": 71,
   "metadata": {},
   "outputs": [
    {
     "data": {
      "text/plain": [
       "array([[<matplotlib.axes._subplots.AxesSubplot object at 0x0000027EDBEACE48>]],\n",
       "      dtype=object)"
      ]
     },
     "execution_count": 71,
     "metadata": {},
     "output_type": "execute_result"
    },
    {
     "data": {
      "image/png": "[encoded data removed]",
      "text/plain": [
       "<Figure size 432x288 with 1 Axes>"
      ]
     },
     "metadata": {
      "needs_background": "light"
     },
     "output_type": "display_data"
    }
   ],
   "source": [
    "Sample.hist(column='BAJA_SALDO_U3M')"
   ]
  },
  {
   "cell_type": "code",
   "execution_count": 72,
   "metadata": {},
   "outputs": [
    {
     "data": {
      "text/plain": [
       "array([[<matplotlib.axes._subplots.AxesSubplot object at 0x0000027EDBDE1470>]],\n",
       "      dtype=object)"
      ]
     },
     "execution_count": 72,
     "metadata": {},
     "output_type": "execute_result"
    },
    {
     "data": {
      "image/png": "[encoded data removed]",
      "text/plain": [
       "<Figure size 432x288 with 1 Axes>"
      ]
     },
     "metadata": {
      "needs_background": "light"
     },
     "output_type": "display_data"
    }
   ],
   "source": [
    "Sample.hist(column='MAX_MORAU12M')"
   ]
  },
  {
   "cell_type": "code",
   "execution_count": 73,
   "metadata": {},
   "outputs": [],
   "source": [
    "#Son los máximos días en atraso que presentó el cliente en el último año. La mayoría se ha mantenido al día."
   ]
  },
  {
   "cell_type": "code",
   "execution_count": 74,
   "metadata": {},
   "outputs": [
    {
     "data": {
      "text/plain": [
       "array([[<matplotlib.axes._subplots.AxesSubplot object at 0x0000027EDBDBAF60>]],\n",
       "      dtype=object)"
      ]
     },
     "execution_count": 74,
     "metadata": {},
     "output_type": "execute_result"
    },
    {
     "data": {
      "image/png": "[encoded data removed]",
      "text/plain": [
       "<Figure size 432x288 with 1 Axes>"
      ]
     },
     "metadata": {
      "needs_background": "light"
     },
     "output_type": "display_data"
    }
   ],
   "source": [
    "Sample.hist(column='MAX_MORAU6M')"
   ]
  },
  {
   "cell_type": "code",
   "execution_count": 75,
   "metadata": {},
   "outputs": [
    {
     "data": {
      "text/plain": [
       "array([[<matplotlib.axes._subplots.AxesSubplot object at 0x0000027EDBEB0F28>]],\n",
       "      dtype=object)"
      ]
     },
     "execution_count": 75,
     "metadata": {},
     "output_type": "execute_result"
    },
    {
     "data": {
      "image/png": "[encoded data removed]",
      "text/plain": [
       "<Figure size 432x288 with 1 Axes>"
      ]
     },
     "metadata": {
      "needs_background": "light"
     },
     "output_type": "display_data"
    }
   ],
   "source": [
    "Sample.hist(column='MAX_MORAU3M')"
   ]
  },
  {
   "cell_type": "code",
   "execution_count": 76,
   "metadata": {},
   "outputs": [
    {
     "data": {
      "text/plain": [
       "array([[<matplotlib.axes._subplots.AxesSubplot object at 0x0000027EDBC961D0>]],\n",
       "      dtype=object)"
      ]
     },
     "execution_count": 76,
     "metadata": {},
     "output_type": "execute_result"
    },
    {
     "data": {
      "image/png": "[encoded data removed]",
      "text/plain": [
       "<Figure size 432x288 with 1 Axes>"
      ]
     },
     "metadata": {
      "needs_background": "light"
     },
     "output_type": "display_data"
    }
   ],
   "source": [
    "Sample.hist(column='SUMA_QUEJAS')"
   ]
  },
  {
   "cell_type": "code",
   "execution_count": 77,
   "metadata": {},
   "outputs": [],
   "source": [
    "#En su mayoría los clientes no han tenido quejas por algunos de los cargos o servicios."
   ]
  },
  {
   "cell_type": "code",
   "execution_count": 78,
   "metadata": {},
   "outputs": [],
   "source": [
    "Sample['Q']=1"
   ]
  },
  {
   "cell_type": "code",
   "execution_count": 79,
   "metadata": {},
   "outputs": [],
   "source": [
    "G1=Sample.groupby('SIN_SALDO_HOY').count().Q"
   ]
  },
  {
   "cell_type": "code",
   "execution_count": 80,
   "metadata": {},
   "outputs": [
    {
     "data": {
      "text/plain": [
       "<matplotlib.axes._subplots.AxesSubplot at 0x27edbe5ec88>"
      ]
     },
     "execution_count": 80,
     "metadata": {},
     "output_type": "execute_result"
    },
    {
     "data": {
      "image/png": "[encoded data removed]",
      "text/plain": [
       "<Figure size 432x288 with 1 Axes>"
      ]
     },
     "metadata": {
      "needs_background": "light"
     },
     "output_type": "display_data"
    }
   ],
   "source": [
    "G1.plot.bar()"
   ]
  },
  {
   "cell_type": "code",
   "execution_count": 81,
   "metadata": {},
   "outputs": [],
   "source": [
    "#El 67% de los clientes sí tienen algún tipo de saldo para Ene-18."
   ]
  },
  {
   "cell_type": "code",
   "execution_count": 82,
   "metadata": {},
   "outputs": [],
   "source": [
    "G2=Sample.groupby('MARCA_RESCATE').count().Q"
   ]
  },
  {
   "cell_type": "code",
   "execution_count": 83,
   "metadata": {},
   "outputs": [
    {
     "data": {
      "text/plain": [
       "<matplotlib.axes._subplots.AxesSubplot at 0x27ed98464a8>"
      ]
     },
     "execution_count": 83,
     "metadata": {},
     "output_type": "execute_result"
    },
    {
     "data": {
      "image/png": "[encoded data removed]",
      "text/plain": [
       "<Figure size 432x288 with 1 Axes>"
      ]
     },
     "metadata": {
      "needs_background": "light"
     },
     "output_type": "display_data"
    }
   ],
   "source": [
    "G2.plot.bar()"
   ]
  },
  {
   "cell_type": "code",
   "execution_count": 84,
   "metadata": {},
   "outputs": [],
   "source": [
    "#El 10% de los clientes ha solicitado el cierre de su tarjeta. Esta es la variable objetivo o la variable dependiente que\n",
    "#se va a predecir."
   ]
  },
  {
   "cell_type": "code",
   "execution_count": 85,
   "metadata": {},
   "outputs": [],
   "source": [
    "G3=Sample.groupby('referencia_rescate').count().Q"
   ]
  },
  {
   "cell_type": "code",
   "execution_count": 86,
   "metadata": {},
   "outputs": [
    {
     "data": {
      "text/plain": [
       "<matplotlib.axes._subplots.AxesSubplot at 0x27edad1d3c8>"
      ]
     },
     "execution_count": 86,
     "metadata": {},
     "output_type": "execute_result"
    },
    {
     "data": {
      "image/png": "[encoded data removed]",
      "text/plain": [
       "<Figure size 432x288 with 1 Axes>"
      ]
     },
     "metadata": {
      "needs_background": "light"
     },
     "output_type": "display_data"
    }
   ],
   "source": [
    "G3.plot.bar()"
   ]
  },
  {
   "cell_type": "code",
   "execution_count": 87,
   "metadata": {},
   "outputs": [],
   "source": [
    "#El 61% de las personas que solicitan el cierre de la cuenta lo hace porque no le encuentra valor o utilidad a permanecer\n",
    "#con la tarjeta, seguida de del disgusto por tener que pagar un cargo mensual de administración de cuenta."
   ]
  },
  {
   "cell_type": "code",
   "execution_count": 88,
   "metadata": {},
   "outputs": [],
   "source": [
    "G4=Sample.groupby('sexo').count().Q"
   ]
  },
  {
   "cell_type": "code",
   "execution_count": 89,
   "metadata": {},
   "outputs": [
    {
     "data": {
      "text/plain": [
       "<matplotlib.axes._subplots.AxesSubplot at 0x27edb476390>"
      ]
     },
     "execution_count": 89,
     "metadata": {},
     "output_type": "execute_result"
    },
    {
     "data": {
      "image/png": "[encoded data removed]",
      "text/plain": [
       "<Figure size 432x288 with 1 Axes>"
      ]
     },
     "metadata": {
      "needs_background": "light"
     },
     "output_type": "display_data"
    }
   ],
   "source": [
    "G4.plot.bar()"
   ]
  },
  {
   "cell_type": "code",
   "execution_count": 90,
   "metadata": {},
   "outputs": [],
   "source": [
    "#En su mayoría los clientes son hombres, un 55%"
   ]
  },
  {
   "cell_type": "code",
   "execution_count": 91,
   "metadata": {},
   "outputs": [],
   "source": [
    "G5=Sample.groupby('estado_civil').count().Q"
   ]
  },
  {
   "cell_type": "code",
   "execution_count": 92,
   "metadata": {},
   "outputs": [
    {
     "data": {
      "text/plain": [
       "<matplotlib.axes._subplots.AxesSubplot at 0x27ed93c58d0>"
      ]
     },
     "execution_count": 92,
     "metadata": {},
     "output_type": "execute_result"
    },
    {
     "data": {
      "image/png": "[encoded data removed]",
      "text/plain": [
       "<Figure size 432x288 with 1 Axes>"
      ]
     },
     "metadata": {
      "needs_background": "light"
     },
     "output_type": "display_data"
    }
   ],
   "source": [
    "G5.plot.bar()"
   ]
  },
  {
   "cell_type": "code",
   "execution_count": 93,
   "metadata": {},
   "outputs": [],
   "source": [
    "#Un 47% de los clientes dice estar casado, seguido de un 34% de solteros. "
   ]
  },
  {
   "cell_type": "code",
   "execution_count": 94,
   "metadata": {},
   "outputs": [],
   "source": [
    "G6=Sample.groupby('tipo_ingreso').count().Q"
   ]
  },
  {
   "cell_type": "code",
   "execution_count": 95,
   "metadata": {},
   "outputs": [
    {
     "data": {
      "text/plain": [
       "<matplotlib.axes._subplots.AxesSubplot at 0x27ed9cf75c0>"
      ]
     },
     "execution_count": 95,
     "metadata": {},
     "output_type": "execute_result"
    },
    {
     "data": {
      "image/png": "[encoded data removed]",
      "text/plain": [
       "<Figure size 432x288 with 1 Axes>"
      ]
     },
     "metadata": {
      "needs_background": "light"
     },
     "output_type": "display_data"
    }
   ],
   "source": [
    "G6.plot.bar()"
   ]
  },
  {
   "cell_type": "code",
   "execution_count": 96,
   "metadata": {},
   "outputs": [],
   "source": [
    "#Solo un 33% de clientes están clasificados como asalariados. Pero esta variable tiene una gran cantidad de clientes\n",
    "#en blanco, un 58% en total."
   ]
  },
  {
   "cell_type": "code",
   "execution_count": 97,
   "metadata": {},
   "outputs": [],
   "source": [
    "G7=Sample.groupby('AJUSTE_PLAN_CUOTAS').count().Q"
   ]
  },
  {
   "cell_type": "code",
   "execution_count": 98,
   "metadata": {},
   "outputs": [
    {
     "data": {
      "text/plain": [
       "<matplotlib.axes._subplots.AxesSubplot at 0x27eda9cc320>"
      ]
     },
     "execution_count": 98,
     "metadata": {},
     "output_type": "execute_result"
    },
    {
     "data": {
      "image/png": "[encoded data removed]",
      "text/plain": [
       "<Figure size 432x288 with 1 Axes>"
      ]
     },
     "metadata": {
      "needs_background": "light"
     },
     "output_type": "display_data"
    }
   ],
   "source": [
    "G7.plot.bar()"
   ]
  },
  {
   "cell_type": "code",
   "execution_count": 99,
   "metadata": {},
   "outputs": [],
   "source": [
    "#El 98% de los clientes no ha tenido problemas con sus cuotas."
   ]
  },
  {
   "cell_type": "code",
   "execution_count": 100,
   "metadata": {},
   "outputs": [],
   "source": [
    "G8=Sample.groupby('ERROR_PAGO_SERVICIOS').count().Q"
   ]
  },
  {
   "cell_type": "code",
   "execution_count": 101,
   "metadata": {},
   "outputs": [
    {
     "data": {
      "text/plain": [
       "<matplotlib.axes._subplots.AxesSubplot at 0x27edafbd240>"
      ]
     },
     "execution_count": 101,
     "metadata": {},
     "output_type": "execute_result"
    },
    {
     "data": {
      "image/png": "[encoded data removed]",
      "text/plain": [
       "<Figure size 432x288 with 1 Axes>"
      ]
     },
     "metadata": {
      "needs_background": "light"
     },
     "output_type": "display_data"
    }
   ],
   "source": [
    "G8.plot.bar()"
   ]
  },
  {
   "cell_type": "code",
   "execution_count": 102,
   "metadata": {},
   "outputs": [],
   "source": [
    "#Prácticamente el 99,9% de los clientes no han tenido problemas con el pago de servicios."
   ]
  },
  {
   "cell_type": "code",
   "execution_count": 103,
   "metadata": {},
   "outputs": [],
   "source": [
    "G9=Sample.groupby('INCONSISTENCIA_CTA').count().Q"
   ]
  },
  {
   "cell_type": "code",
   "execution_count": 104,
   "metadata": {},
   "outputs": [
    {
     "data": {
      "text/plain": [
       "<matplotlib.axes._subplots.AxesSubplot at 0x27edba324a8>"
      ]
     },
     "execution_count": 104,
     "metadata": {},
     "output_type": "execute_result"
    },
    {
     "data": {
      "image/png": "[encoded data removed]",
      "text/plain": [
       "<Figure size 432x288 with 1 Axes>"
      ]
     },
     "metadata": {
      "needs_background": "light"
     },
     "output_type": "display_data"
    }
   ],
   "source": [
    "G9.plot.bar()"
   ]
  },
  {
   "cell_type": "code",
   "execution_count": 105,
   "metadata": {},
   "outputs": [],
   "source": [
    "#De igual manera muy pocos clientes han reportado alguna inconsistencia con su cuenta."
   ]
  },
  {
   "cell_type": "code",
   "execution_count": 106,
   "metadata": {},
   "outputs": [],
   "source": [
    "G10=Sample.groupby('PAGO_INCORRECTO').count().Q"
   ]
  },
  {
   "cell_type": "code",
   "execution_count": 107,
   "metadata": {},
   "outputs": [
    {
     "data": {
      "text/plain": [
       "<matplotlib.axes._subplots.AxesSubplot at 0x27ed8f2bd30>"
      ]
     },
     "execution_count": 107,
     "metadata": {},
     "output_type": "execute_result"
    },
    {
     "data": {
      "image/png": "[encoded data removed]",
      "text/plain": [
       "<Figure size 432x288 with 1 Axes>"
      ]
     },
     "metadata": {
      "needs_background": "light"
     },
     "output_type": "display_data"
    }
   ],
   "source": [
    "G10.plot.bar()"
   ]
  },
  {
   "cell_type": "code",
   "execution_count": 108,
   "metadata": {},
   "outputs": [],
   "source": [
    "G11=Sample.groupby('REVERSO_ADMCTA').count().Q"
   ]
  },
  {
   "cell_type": "code",
   "execution_count": 109,
   "metadata": {},
   "outputs": [
    {
     "data": {
      "text/plain": [
       "<matplotlib.axes._subplots.AxesSubplot at 0x27ed8faa0b8>"
      ]
     },
     "execution_count": 109,
     "metadata": {},
     "output_type": "execute_result"
    },
    {
     "data": {
      "image/png": "[encoded data removed]",
      "text/plain": [
       "<Figure size 432x288 with 1 Axes>"
      ]
     },
     "metadata": {
      "needs_background": "light"
     },
     "output_type": "display_data"
    }
   ],
   "source": [
    "G11.plot.bar()"
   ]
  },
  {
   "cell_type": "code",
   "execution_count": 110,
   "metadata": {},
   "outputs": [],
   "source": [
    "#El 98% no ha solicitado el reverso del cargo mensual."
   ]
  },
  {
   "cell_type": "code",
   "execution_count": 111,
   "metadata": {},
   "outputs": [],
   "source": [
    "G12=Sample.groupby('REVERSO_CPMV').count().Q"
   ]
  },
  {
   "cell_type": "code",
   "execution_count": 112,
   "metadata": {},
   "outputs": [
    {
     "data": {
      "text/plain": [
       "<matplotlib.axes._subplots.AxesSubplot at 0x27ed93ebeb8>"
      ]
     },
     "execution_count": 112,
     "metadata": {},
     "output_type": "execute_result"
    },
    {
     "data": {
      "image/png": "[encoded data removed]",
      "text/plain": [
       "<Figure size 432x288 with 1 Axes>"
      ]
     },
     "metadata": {
      "needs_background": "light"
     },
     "output_type": "display_data"
    }
   ],
   "source": [
    "G12.plot.bar()"
   ]
  },
  {
   "cell_type": "code",
   "execution_count": 113,
   "metadata": {},
   "outputs": [],
   "source": [
    "G13=Sample.groupby('REVERSO_EDC').count().Q"
   ]
  },
  {
   "cell_type": "code",
   "execution_count": 114,
   "metadata": {},
   "outputs": [
    {
     "data": {
      "text/plain": [
       "<matplotlib.axes._subplots.AxesSubplot at 0x27ed8f2bcc0>"
      ]
     },
     "execution_count": 114,
     "metadata": {},
     "output_type": "execute_result"
    },
    {
     "data": {
      "image/png": "[encoded data removed]",
      "text/plain": [
       "<Figure size 432x288 with 1 Axes>"
      ]
     },
     "metadata": {
      "needs_background": "light"
     },
     "output_type": "display_data"
    }
   ],
   "source": [
    "G13.plot.bar()"
   ]
  },
  {
   "cell_type": "code",
   "execution_count": 115,
   "metadata": {},
   "outputs": [],
   "source": [
    "#El 100% no ha solicitado un reverso de este cargo."
   ]
  },
  {
   "cell_type": "code",
   "execution_count": 116,
   "metadata": {},
   "outputs": [],
   "source": [
    "G14=Sample.groupby('Q_MONETARY').count().Q"
   ]
  },
  {
   "cell_type": "code",
   "execution_count": 117,
   "metadata": {},
   "outputs": [
    {
     "data": {
      "text/plain": [
       "<matplotlib.axes._subplots.AxesSubplot at 0x27edbcf3898>"
      ]
     },
     "execution_count": 117,
     "metadata": {},
     "output_type": "execute_result"
    },
    {
     "data": {
      "image/png": "[encoded data removed]",
      "text/plain": [
       "<Figure size 432x288 with 1 Axes>"
      ]
     },
     "metadata": {
      "needs_background": "light"
     },
     "output_type": "display_data"
    }
   ],
   "source": [
    "G14.plot.bar()"
   ]
  },
  {
   "cell_type": "code",
   "execution_count": 118,
   "metadata": {},
   "outputs": [],
   "source": [
    "G15=Sample.groupby('Q_FREQUENCY').count().Q"
   ]
  },
  {
   "cell_type": "code",
   "execution_count": 119,
   "metadata": {},
   "outputs": [
    {
     "data": {
      "text/plain": [
       "<matplotlib.axes._subplots.AxesSubplot at 0x27ed9ddd1d0>"
      ]
     },
     "execution_count": 119,
     "metadata": {},
     "output_type": "execute_result"
    },
    {
     "data": {
      "image/png": "[encoded data removed]",
      "text/plain": [
       "<Figure size 432x288 with 1 Axes>"
      ]
     },
     "metadata": {
      "needs_background": "light"
     },
     "output_type": "display_data"
    }
   ],
   "source": [
    "G15.plot.bar()"
   ]
  },
  {
   "cell_type": "code",
   "execution_count": 120,
   "metadata": {},
   "outputs": [],
   "source": [
    "G16=Sample.groupby('Q_RECENCY').count().Q"
   ]
  },
  {
   "cell_type": "code",
   "execution_count": 121,
   "metadata": {},
   "outputs": [
    {
     "data": {
      "text/plain": [
       "<matplotlib.axes._subplots.AxesSubplot at 0x27eda2dec88>"
      ]
     },
     "execution_count": 121,
     "metadata": {},
     "output_type": "execute_result"
    },
    {
     "data": {
      "image/png": "[encoded data removed]",
      "text/plain": [
       "<Figure size 432x288 with 1 Axes>"
      ]
     },
     "metadata": {
      "needs_background": "light"
     },
     "output_type": "display_data"
    }
   ],
   "source": [
    "G16.plot.bar()"
   ]
  },
  {
   "cell_type": "code",
   "execution_count": 122,
   "metadata": {},
   "outputs": [],
   "source": [
    "G17=Sample.groupby('MARCA_CONGELADA').count().Q"
   ]
  },
  {
   "cell_type": "code",
   "execution_count": 123,
   "metadata": {},
   "outputs": [
    {
     "data": {
      "text/plain": [
       "<matplotlib.axes._subplots.AxesSubplot at 0x27eda3acb00>"
      ]
     },
     "execution_count": 123,
     "metadata": {},
     "output_type": "execute_result"
    },
    {
     "data": {
      "image/png": "[encoded data removed]",
      "text/plain": [
       "<Figure size 432x288 with 1 Axes>"
      ]
     },
     "metadata": {
      "needs_background": "light"
     },
     "output_type": "display_data"
    }
   ],
   "source": [
    "G17.plot.bar()"
   ]
  },
  {
   "cell_type": "code",
   "execution_count": 124,
   "metadata": {},
   "outputs": [],
   "source": [
    "#Un 8% solicitó bloquear su cuenta."
   ]
  },
  {
   "cell_type": "code",
   "execution_count": 125,
   "metadata": {},
   "outputs": [],
   "source": [
    "G18=Sample.groupby('NACIONAL').count().Q"
   ]
  },
  {
   "cell_type": "code",
   "execution_count": 126,
   "metadata": {},
   "outputs": [
    {
     "data": {
      "text/plain": [
       "<matplotlib.axes._subplots.AxesSubplot at 0x27eda946ba8>"
      ]
     },
     "execution_count": 126,
     "metadata": {},
     "output_type": "execute_result"
    },
    {
     "data": {
      "image/png": "[encoded data removed]",
      "text/plain": [
       "<Figure size 432x288 with 1 Axes>"
      ]
     },
     "metadata": {
      "needs_background": "light"
     },
     "output_type": "display_data"
    }
   ],
   "source": [
    "G18.plot.bar()"
   ]
  },
  {
   "cell_type": "code",
   "execution_count": 127,
   "metadata": {},
   "outputs": [],
   "source": [
    "#El 97% es costarricense."
   ]
  },
  {
   "cell_type": "code",
   "execution_count": 128,
   "metadata": {},
   "outputs": [],
   "source": [
    "G19=Sample.groupby('AREA_RIESGO').count().Q"
   ]
  },
  {
   "cell_type": "code",
   "execution_count": 129,
   "metadata": {},
   "outputs": [
    {
     "data": {
      "text/plain": [
       "<matplotlib.axes._subplots.AxesSubplot at 0x27eda3290f0>"
      ]
     },
     "execution_count": 129,
     "metadata": {},
     "output_type": "execute_result"
    },
    {
     "data": {
      "image/png": "[encoded data removed]",
      "text/plain": [
       "<Figure size 432x288 with 1 Axes>"
      ]
     },
     "metadata": {
      "needs_background": "light"
     },
     "output_type": "display_data"
    }
   ],
   "source": [
    "G19.plot.bar()"
   ]
  },
  {
   "cell_type": "code",
   "execution_count": 130,
   "metadata": {},
   "outputs": [],
   "source": [
    "#Un 14% reside en un área considerada de riesgo."
   ]
  },
  {
   "cell_type": "code",
   "execution_count": 131,
   "metadata": {},
   "outputs": [],
   "source": [
    "G20=Sample.groupby('PROVINCIA').count().Q"
   ]
  },
  {
   "cell_type": "code",
   "execution_count": 132,
   "metadata": {},
   "outputs": [
    {
     "data": {
      "text/plain": [
       "<matplotlib.axes._subplots.AxesSubplot at 0x27edac5f668>"
      ]
     },
     "execution_count": 132,
     "metadata": {},
     "output_type": "execute_result"
    },
    {
     "data": {
      "image/png": "[encoded data removed]",
      "text/plain": [
       "<Figure size 432x288 with 1 Axes>"
      ]
     },
     "metadata": {
      "needs_background": "light"
     },
     "output_type": "display_data"
    }
   ],
   "source": [
    "G20.plot.bar()"
   ]
  },
  {
   "cell_type": "code",
   "execution_count": 133,
   "metadata": {},
   "outputs": [],
   "source": [
    "#uN 54% reside en San José y casi un 17% en Heredia."
   ]
  },
  {
   "cell_type": "code",
   "execution_count": 134,
   "metadata": {},
   "outputs": [
    {
     "data": {
      "text/html": [
       "<div>\n",
       "<style scoped>\n",
       "    .dataframe tbody tr th:only-of-type {\n",
       "        vertical-align: middle;\n",
       "    }\n",
       "\n",
       "    .dataframe tbody tr th {\n",
       "        vertical-align: top;\n",
       "    }\n",
       "\n",
       "    .dataframe thead tr th {\n",
       "        text-align: left;\n",
       "    }\n",
       "\n",
       "    .dataframe thead tr:last-of-type th {\n",
       "        text-align: right;\n",
       "    }\n",
       "</style>\n",
       "<table border=\"1\" class=\"dataframe\">\n",
       "  <thead>\n",
       "    <tr>\n",
       "      <th></th>\n",
       "      <th colspan=\"2\" halign=\"left\">sum</th>\n",
       "    </tr>\n",
       "    <tr>\n",
       "      <th></th>\n",
       "      <th colspan=\"2\" halign=\"left\">Q</th>\n",
       "    </tr>\n",
       "    <tr>\n",
       "      <th>SIN_SALDO_HOY</th>\n",
       "      <th>0</th>\n",
       "      <th>1</th>\n",
       "    </tr>\n",
       "    <tr>\n",
       "      <th>MARCA_RESCATE</th>\n",
       "      <th></th>\n",
       "      <th></th>\n",
       "    </tr>\n",
       "  </thead>\n",
       "  <tbody>\n",
       "    <tr>\n",
       "      <th>0</th>\n",
       "      <td>16175</td>\n",
       "      <td>7755</td>\n",
       "    </tr>\n",
       "    <tr>\n",
       "      <th>1</th>\n",
       "      <td>1598</td>\n",
       "      <td>1165</td>\n",
       "    </tr>\n",
       "  </tbody>\n",
       "</table>\n",
       "</div>"
      ],
      "text/plain": [
       "                 sum      \n",
       "                   Q      \n",
       "SIN_SALDO_HOY      0     1\n",
       "MARCA_RESCATE             \n",
       "0              16175  7755\n",
       "1               1598  1165"
      ]
     },
     "execution_count": 134,
     "metadata": {},
     "output_type": "execute_result"
    }
   ],
   "source": [
    "pd.pivot_table(Sample,index=[\"MARCA_RESCATE\"],values=[\"Q\"],\n",
    "               columns=[\"SIN_SALDO_HOY\"],aggfunc=[np.sum])"
   ]
  },
  {
   "cell_type": "code",
   "execution_count": 135,
   "metadata": {},
   "outputs": [],
   "source": [
    "#los clientes que no mantienen un saldo pendiente presentan un mayor porcentaje de solicitud de cierre. \n",
    "#Un 13% vs un 9% del resto."
   ]
  },
  {
   "cell_type": "code",
   "execution_count": 136,
   "metadata": {},
   "outputs": [
    {
     "data": {
      "text/html": [
       "<div>\n",
       "<style scoped>\n",
       "    .dataframe tbody tr th:only-of-type {\n",
       "        vertical-align: middle;\n",
       "    }\n",
       "\n",
       "    .dataframe tbody tr th {\n",
       "        vertical-align: top;\n",
       "    }\n",
       "\n",
       "    .dataframe thead tr th {\n",
       "        text-align: left;\n",
       "    }\n",
       "\n",
       "    .dataframe thead tr:last-of-type th {\n",
       "        text-align: right;\n",
       "    }\n",
       "</style>\n",
       "<table border=\"1\" class=\"dataframe\">\n",
       "  <thead>\n",
       "    <tr>\n",
       "      <th></th>\n",
       "      <th colspan=\"2\" halign=\"left\">sum</th>\n",
       "    </tr>\n",
       "    <tr>\n",
       "      <th></th>\n",
       "      <th colspan=\"2\" halign=\"left\">Q</th>\n",
       "    </tr>\n",
       "    <tr>\n",
       "      <th>sexo</th>\n",
       "      <th>0</th>\n",
       "      <th>1</th>\n",
       "    </tr>\n",
       "    <tr>\n",
       "      <th>MARCA_RESCATE</th>\n",
       "      <th></th>\n",
       "      <th></th>\n",
       "    </tr>\n",
       "  </thead>\n",
       "  <tbody>\n",
       "    <tr>\n",
       "      <th>0</th>\n",
       "      <td>10720</td>\n",
       "      <td>13210</td>\n",
       "    </tr>\n",
       "    <tr>\n",
       "      <th>1</th>\n",
       "      <td>1240</td>\n",
       "      <td>1523</td>\n",
       "    </tr>\n",
       "  </tbody>\n",
       "</table>\n",
       "</div>"
      ],
      "text/plain": [
       "                 sum       \n",
       "                   Q       \n",
       "sexo               0      1\n",
       "MARCA_RESCATE              \n",
       "0              10720  13210\n",
       "1               1240   1523"
      ]
     },
     "execution_count": 136,
     "metadata": {},
     "output_type": "execute_result"
    }
   ],
   "source": [
    "pd.pivot_table(Sample,index=[\"MARCA_RESCATE\"],values=[\"Q\"],\n",
    "               columns=[\"sexo\"],aggfunc=[np.sum])"
   ]
  },
  {
   "cell_type": "code",
   "execution_count": 137,
   "metadata": {},
   "outputs": [],
   "source": [
    "#Por sexo parece no haber diferencia en cuanto a la solicitud de cierre. El porcentaje es muy similar."
   ]
  },
  {
   "cell_type": "code",
   "execution_count": 138,
   "metadata": {},
   "outputs": [
    {
     "data": {
      "text/html": [
       "<div>\n",
       "<style scoped>\n",
       "    .dataframe tbody tr th:only-of-type {\n",
       "        vertical-align: middle;\n",
       "    }\n",
       "\n",
       "    .dataframe tbody tr th {\n",
       "        vertical-align: top;\n",
       "    }\n",
       "\n",
       "    .dataframe thead tr th {\n",
       "        text-align: left;\n",
       "    }\n",
       "\n",
       "    .dataframe thead tr:last-of-type th {\n",
       "        text-align: right;\n",
       "    }\n",
       "</style>\n",
       "<table border=\"1\" class=\"dataframe\">\n",
       "  <thead>\n",
       "    <tr>\n",
       "      <th></th>\n",
       "      <th colspan=\"6\" halign=\"left\">sum</th>\n",
       "    </tr>\n",
       "    <tr>\n",
       "      <th></th>\n",
       "      <th colspan=\"6\" halign=\"left\">Q</th>\n",
       "    </tr>\n",
       "    <tr>\n",
       "      <th>Q_MONETARY</th>\n",
       "      <th>0</th>\n",
       "      <th>1</th>\n",
       "      <th>2</th>\n",
       "      <th>3</th>\n",
       "      <th>4</th>\n",
       "      <th>5</th>\n",
       "    </tr>\n",
       "    <tr>\n",
       "      <th>MARCA_RESCATE</th>\n",
       "      <th></th>\n",
       "      <th></th>\n",
       "      <th></th>\n",
       "      <th></th>\n",
       "      <th></th>\n",
       "      <th></th>\n",
       "    </tr>\n",
       "  </thead>\n",
       "  <tbody>\n",
       "    <tr>\n",
       "      <th>0</th>\n",
       "      <td>6821</td>\n",
       "      <td>2931</td>\n",
       "      <td>3355</td>\n",
       "      <td>3424</td>\n",
       "      <td>3665</td>\n",
       "      <td>3734</td>\n",
       "    </tr>\n",
       "    <tr>\n",
       "      <th>1</th>\n",
       "      <td>992</td>\n",
       "      <td>557</td>\n",
       "      <td>427</td>\n",
       "      <td>340</td>\n",
       "      <td>247</td>\n",
       "      <td>200</td>\n",
       "    </tr>\n",
       "  </tbody>\n",
       "</table>\n",
       "</div>"
      ],
      "text/plain": [
       "                sum                              \n",
       "                  Q                              \n",
       "Q_MONETARY        0     1     2     3     4     5\n",
       "MARCA_RESCATE                                    \n",
       "0              6821  2931  3355  3424  3665  3734\n",
       "1               992   557   427   340   247   200"
      ]
     },
     "execution_count": 138,
     "metadata": {},
     "output_type": "execute_result"
    }
   ],
   "source": [
    "pd.pivot_table(Sample,index=[\"MARCA_RESCATE\"],values=[\"Q\"],\n",
    "               columns=[\"Q_MONETARY\"],aggfunc=[np.sum])"
   ]
  },
  {
   "cell_type": "code",
   "execution_count": 139,
   "metadata": {},
   "outputs": [],
   "source": [
    "#Cuanto menos suman las compras de los clientes en el año es mayor el porcentaje de clientes que quieren cerrar la tarjeta.\n",
    "#En el primer quintil el porcentaje llega a ser de un 16% vs un 5% del quintil cuyas compras suman mayor valor."
   ]
  },
  {
   "cell_type": "code",
   "execution_count": 140,
   "metadata": {},
   "outputs": [
    {
     "data": {
      "text/html": [
       "<div>\n",
       "<style scoped>\n",
       "    .dataframe tbody tr th:only-of-type {\n",
       "        vertical-align: middle;\n",
       "    }\n",
       "\n",
       "    .dataframe tbody tr th {\n",
       "        vertical-align: top;\n",
       "    }\n",
       "\n",
       "    .dataframe thead tr th {\n",
       "        text-align: left;\n",
       "    }\n",
       "\n",
       "    .dataframe thead tr:last-of-type th {\n",
       "        text-align: right;\n",
       "    }\n",
       "</style>\n",
       "<table border=\"1\" class=\"dataframe\">\n",
       "  <thead>\n",
       "    <tr>\n",
       "      <th></th>\n",
       "      <th colspan=\"6\" halign=\"left\">sum</th>\n",
       "    </tr>\n",
       "    <tr>\n",
       "      <th></th>\n",
       "      <th colspan=\"6\" halign=\"left\">Q</th>\n",
       "    </tr>\n",
       "    <tr>\n",
       "      <th>Q_FREQUENCY</th>\n",
       "      <th>0</th>\n",
       "      <th>1</th>\n",
       "      <th>2</th>\n",
       "      <th>3</th>\n",
       "      <th>4</th>\n",
       "      <th>5</th>\n",
       "    </tr>\n",
       "    <tr>\n",
       "      <th>MARCA_RESCATE</th>\n",
       "      <th></th>\n",
       "      <th></th>\n",
       "      <th></th>\n",
       "      <th></th>\n",
       "      <th></th>\n",
       "      <th></th>\n",
       "    </tr>\n",
       "  </thead>\n",
       "  <tbody>\n",
       "    <tr>\n",
       "      <th>0</th>\n",
       "      <td>6821</td>\n",
       "      <td>3692</td>\n",
       "      <td>3611</td>\n",
       "      <td>2912</td>\n",
       "      <td>3658</td>\n",
       "      <td>3236</td>\n",
       "    </tr>\n",
       "    <tr>\n",
       "      <th>1</th>\n",
       "      <td>992</td>\n",
       "      <td>792</td>\n",
       "      <td>380</td>\n",
       "      <td>192</td>\n",
       "      <td>215</td>\n",
       "      <td>192</td>\n",
       "    </tr>\n",
       "  </tbody>\n",
       "</table>\n",
       "</div>"
      ],
      "text/plain": [
       "                sum                              \n",
       "                  Q                              \n",
       "Q_FREQUENCY       0     1     2     3     4     5\n",
       "MARCA_RESCATE                                    \n",
       "0              6821  3692  3611  2912  3658  3236\n",
       "1               992   792   380   192   215   192"
      ]
     },
     "execution_count": 140,
     "metadata": {},
     "output_type": "execute_result"
    }
   ],
   "source": [
    "pd.pivot_table(Sample,index=[\"MARCA_RESCATE\"],values=[\"Q\"],\n",
    "               columns=[\"Q_FREQUENCY\"],aggfunc=[np.sum])"
   ]
  },
  {
   "cell_type": "code",
   "execution_count": 141,
   "metadata": {},
   "outputs": [],
   "source": [
    "#La misma lógica siguen los clientes con menor cantidad de compras. Cuanto menos veces utiliza la tarjeta más probable\n",
    "#es que decida cerrarla. El primer quintil muestra un 18% de solicitudes de cierre."
   ]
  },
  {
   "cell_type": "code",
   "execution_count": 142,
   "metadata": {},
   "outputs": [
    {
     "data": {
      "text/html": [
       "<div>\n",
       "<style scoped>\n",
       "    .dataframe tbody tr th:only-of-type {\n",
       "        vertical-align: middle;\n",
       "    }\n",
       "\n",
       "    .dataframe tbody tr th {\n",
       "        vertical-align: top;\n",
       "    }\n",
       "\n",
       "    .dataframe thead tr th {\n",
       "        text-align: left;\n",
       "    }\n",
       "\n",
       "    .dataframe thead tr:last-of-type th {\n",
       "        text-align: right;\n",
       "    }\n",
       "</style>\n",
       "<table border=\"1\" class=\"dataframe\">\n",
       "  <thead>\n",
       "    <tr>\n",
       "      <th></th>\n",
       "      <th colspan=\"6\" halign=\"left\">sum</th>\n",
       "    </tr>\n",
       "    <tr>\n",
       "      <th></th>\n",
       "      <th colspan=\"6\" halign=\"left\">Q</th>\n",
       "    </tr>\n",
       "    <tr>\n",
       "      <th>Q_RECENCY</th>\n",
       "      <th>0</th>\n",
       "      <th>1</th>\n",
       "      <th>2</th>\n",
       "      <th>3</th>\n",
       "      <th>4</th>\n",
       "      <th>5</th>\n",
       "    </tr>\n",
       "    <tr>\n",
       "      <th>MARCA_RESCATE</th>\n",
       "      <th></th>\n",
       "      <th></th>\n",
       "      <th></th>\n",
       "      <th></th>\n",
       "      <th></th>\n",
       "      <th></th>\n",
       "    </tr>\n",
       "  </thead>\n",
       "  <tbody>\n",
       "    <tr>\n",
       "      <th>0</th>\n",
       "      <td>6821</td>\n",
       "      <td>2470</td>\n",
       "      <td>3372</td>\n",
       "      <td>3705</td>\n",
       "      <td>3460</td>\n",
       "      <td>4102</td>\n",
       "    </tr>\n",
       "    <tr>\n",
       "      <th>1</th>\n",
       "      <td>992</td>\n",
       "      <td>557</td>\n",
       "      <td>448</td>\n",
       "      <td>281</td>\n",
       "      <td>230</td>\n",
       "      <td>255</td>\n",
       "    </tr>\n",
       "  </tbody>\n",
       "</table>\n",
       "</div>"
      ],
      "text/plain": [
       "                sum                              \n",
       "                  Q                              \n",
       "Q_RECENCY         0     1     2     3     4     5\n",
       "MARCA_RESCATE                                    \n",
       "0              6821  2470  3372  3705  3460  4102\n",
       "1               992   557   448   281   230   255"
      ]
     },
     "execution_count": 142,
     "metadata": {},
     "output_type": "execute_result"
    }
   ],
   "source": [
    "pd.pivot_table(Sample,index=[\"MARCA_RESCATE\"],values=[\"Q\"],\n",
    "               columns=[\"Q_RECENCY\"],aggfunc=[np.sum])"
   ]
  },
  {
   "cell_type": "code",
   "execution_count": 143,
   "metadata": {},
   "outputs": [],
   "source": [
    "#De igual manera ocurre con los días desde la última compra. Los clientes que tienen casi un año de no realizar compras\n",
    "#son más propensos al cierre."
   ]
  },
  {
   "cell_type": "code",
   "execution_count": 144,
   "metadata": {},
   "outputs": [
    {
     "data": {
      "text/html": [
       "<div>\n",
       "<style scoped>\n",
       "    .dataframe tbody tr th:only-of-type {\n",
       "        vertical-align: middle;\n",
       "    }\n",
       "\n",
       "    .dataframe tbody tr th {\n",
       "        vertical-align: top;\n",
       "    }\n",
       "\n",
       "    .dataframe thead tr th {\n",
       "        text-align: left;\n",
       "    }\n",
       "\n",
       "    .dataframe thead tr:last-of-type th {\n",
       "        text-align: right;\n",
       "    }\n",
       "</style>\n",
       "<table border=\"1\" class=\"dataframe\">\n",
       "  <thead>\n",
       "    <tr>\n",
       "      <th></th>\n",
       "      <th colspan=\"2\" halign=\"left\">sum</th>\n",
       "    </tr>\n",
       "    <tr>\n",
       "      <th></th>\n",
       "      <th colspan=\"2\" halign=\"left\">Q</th>\n",
       "    </tr>\n",
       "    <tr>\n",
       "      <th>MARCA_CONGELADA</th>\n",
       "      <th>0</th>\n",
       "      <th>1</th>\n",
       "    </tr>\n",
       "    <tr>\n",
       "      <th>MARCA_RESCATE</th>\n",
       "      <th></th>\n",
       "      <th></th>\n",
       "    </tr>\n",
       "  </thead>\n",
       "  <tbody>\n",
       "    <tr>\n",
       "      <th>0</th>\n",
       "      <td>21923</td>\n",
       "      <td>2007</td>\n",
       "    </tr>\n",
       "    <tr>\n",
       "      <th>1</th>\n",
       "      <td>2521</td>\n",
       "      <td>242</td>\n",
       "    </tr>\n",
       "  </tbody>\n",
       "</table>\n",
       "</div>"
      ],
      "text/plain": [
       "                   sum      \n",
       "                     Q      \n",
       "MARCA_CONGELADA      0     1\n",
       "MARCA_RESCATE               \n",
       "0                21923  2007\n",
       "1                 2521   242"
      ]
     },
     "execution_count": 144,
     "metadata": {},
     "output_type": "execute_result"
    }
   ],
   "source": [
    "pd.pivot_table(Sample,index=[\"MARCA_RESCATE\"],values=[\"Q\"],\n",
    "               columns=[\"MARCA_CONGELADA\"],aggfunc=[np.sum])"
   ]
  },
  {
   "cell_type": "code",
   "execution_count": 145,
   "metadata": {},
   "outputs": [],
   "source": [
    "#No pasa lo mismo con los clientes que ha solicitado un bloqueo de la cuenta. Parece que no se relaciona con el hecho de \n",
    "#cerrar la cuenta. El porcentaje en ambos casos es muy similar."
   ]
  },
  {
   "cell_type": "code",
   "execution_count": 146,
   "metadata": {},
   "outputs": [
    {
     "data": {
      "text/html": [
       "<div>\n",
       "<style scoped>\n",
       "    .dataframe tbody tr th:only-of-type {\n",
       "        vertical-align: middle;\n",
       "    }\n",
       "\n",
       "    .dataframe tbody tr th {\n",
       "        vertical-align: top;\n",
       "    }\n",
       "\n",
       "    .dataframe thead tr th {\n",
       "        text-align: left;\n",
       "    }\n",
       "\n",
       "    .dataframe thead tr:last-of-type th {\n",
       "        text-align: right;\n",
       "    }\n",
       "</style>\n",
       "<table border=\"1\" class=\"dataframe\">\n",
       "  <thead>\n",
       "    <tr>\n",
       "      <th></th>\n",
       "      <th colspan=\"2\" halign=\"left\">sum</th>\n",
       "    </tr>\n",
       "    <tr>\n",
       "      <th></th>\n",
       "      <th colspan=\"2\" halign=\"left\">Q</th>\n",
       "    </tr>\n",
       "    <tr>\n",
       "      <th>AREA_RIESGO</th>\n",
       "      <th>0</th>\n",
       "      <th>1</th>\n",
       "    </tr>\n",
       "    <tr>\n",
       "      <th>MARCA_RESCATE</th>\n",
       "      <th></th>\n",
       "      <th></th>\n",
       "    </tr>\n",
       "  </thead>\n",
       "  <tbody>\n",
       "    <tr>\n",
       "      <th>0</th>\n",
       "      <td>20420</td>\n",
       "      <td>3510</td>\n",
       "    </tr>\n",
       "    <tr>\n",
       "      <th>1</th>\n",
       "      <td>2432</td>\n",
       "      <td>331</td>\n",
       "    </tr>\n",
       "  </tbody>\n",
       "</table>\n",
       "</div>"
      ],
      "text/plain": [
       "                 sum      \n",
       "                   Q      \n",
       "AREA_RIESGO        0     1\n",
       "MARCA_RESCATE             \n",
       "0              20420  3510\n",
       "1               2432   331"
      ]
     },
     "execution_count": 146,
     "metadata": {},
     "output_type": "execute_result"
    }
   ],
   "source": [
    "pd.pivot_table(Sample,index=[\"MARCA_RESCATE\"],values=[\"Q\"],\n",
    "               columns=[\"AREA_RIESGO\"],aggfunc=[np.sum])"
   ]
  },
  {
   "cell_type": "code",
   "execution_count": 147,
   "metadata": {},
   "outputs": [],
   "source": [
    "#Los clientes que no viven en una zona de riesgo presentan un porcetaje de cierre mayor pero la diferencia no es grande.\n",
    "#Un 11% vs un 9%"
   ]
  },
  {
   "cell_type": "code",
   "execution_count": 148,
   "metadata": {},
   "outputs": [
    {
     "data": {
      "text/html": [
       "<div>\n",
       "<style scoped>\n",
       "    .dataframe tbody tr th:only-of-type {\n",
       "        vertical-align: middle;\n",
       "    }\n",
       "\n",
       "    .dataframe tbody tr th {\n",
       "        vertical-align: top;\n",
       "    }\n",
       "\n",
       "    .dataframe thead tr th {\n",
       "        text-align: left;\n",
       "    }\n",
       "\n",
       "    .dataframe thead tr:last-of-type th {\n",
       "        text-align: right;\n",
       "    }\n",
       "</style>\n",
       "<table border=\"1\" class=\"dataframe\">\n",
       "  <thead>\n",
       "    <tr>\n",
       "      <th></th>\n",
       "      <th colspan=\"7\" halign=\"left\">sum</th>\n",
       "    </tr>\n",
       "    <tr>\n",
       "      <th></th>\n",
       "      <th colspan=\"7\" halign=\"left\">Q</th>\n",
       "    </tr>\n",
       "    <tr>\n",
       "      <th>PROVINCIA</th>\n",
       "      <th>ALAJUELA</th>\n",
       "      <th>CARTAGO</th>\n",
       "      <th>GUANACASTE</th>\n",
       "      <th>HEREDIA</th>\n",
       "      <th>LIMON</th>\n",
       "      <th>PUNTARENAS</th>\n",
       "      <th>SAN JOSE</th>\n",
       "    </tr>\n",
       "    <tr>\n",
       "      <th>MARCA_RESCATE</th>\n",
       "      <th></th>\n",
       "      <th></th>\n",
       "      <th></th>\n",
       "      <th></th>\n",
       "      <th></th>\n",
       "      <th></th>\n",
       "      <th></th>\n",
       "    </tr>\n",
       "  </thead>\n",
       "  <tbody>\n",
       "    <tr>\n",
       "      <th>0</th>\n",
       "      <td>2809</td>\n",
       "      <td>2978</td>\n",
       "      <td>237</td>\n",
       "      <td>3973</td>\n",
       "      <td>479</td>\n",
       "      <td>292</td>\n",
       "      <td>13162</td>\n",
       "    </tr>\n",
       "    <tr>\n",
       "      <th>1</th>\n",
       "      <td>377</td>\n",
       "      <td>343</td>\n",
       "      <td>31</td>\n",
       "      <td>499</td>\n",
       "      <td>60</td>\n",
       "      <td>40</td>\n",
       "      <td>1413</td>\n",
       "    </tr>\n",
       "  </tbody>\n",
       "</table>\n",
       "</div>"
      ],
      "text/plain": [
       "                   sum                                                     \n",
       "                     Q                                                     \n",
       "PROVINCIA     ALAJUELA CARTAGO GUANACASTE HEREDIA LIMON PUNTARENAS SAN JOSE\n",
       "MARCA_RESCATE                                                              \n",
       "0                 2809    2978        237    3973   479        292    13162\n",
       "1                  377     343         31     499    60         40     1413"
      ]
     },
     "execution_count": 148,
     "metadata": {},
     "output_type": "execute_result"
    }
   ],
   "source": [
    "pd.pivot_table(Sample,index=[\"MARCA_RESCATE\"],values=[\"Q\"],\n",
    "               columns=[\"PROVINCIA\"],aggfunc=[np.sum])"
   ]
  },
  {
   "cell_type": "code",
   "execution_count": 149,
   "metadata": {},
   "outputs": [],
   "source": [
    "#Por provincia parece no haber diferencia."
   ]
  },
  {
   "cell_type": "code",
   "execution_count": 150,
   "metadata": {},
   "outputs": [
    {
     "data": {
      "text/html": [
       "<div>\n",
       "<style scoped>\n",
       "    .dataframe tbody tr th:only-of-type {\n",
       "        vertical-align: middle;\n",
       "    }\n",
       "\n",
       "    .dataframe tbody tr th {\n",
       "        vertical-align: top;\n",
       "    }\n",
       "\n",
       "    .dataframe thead tr th {\n",
       "        text-align: left;\n",
       "    }\n",
       "\n",
       "    .dataframe thead tr:last-of-type th {\n",
       "        text-align: right;\n",
       "    }\n",
       "</style>\n",
       "<table border=\"1\" class=\"dataframe\">\n",
       "  <thead>\n",
       "    <tr>\n",
       "      <th></th>\n",
       "      <th colspan=\"2\" halign=\"left\">sum</th>\n",
       "    </tr>\n",
       "    <tr>\n",
       "      <th></th>\n",
       "      <th colspan=\"2\" halign=\"left\">Q</th>\n",
       "    </tr>\n",
       "    <tr>\n",
       "      <th>MARCA_SOLTERO</th>\n",
       "      <th>0</th>\n",
       "      <th>1</th>\n",
       "    </tr>\n",
       "    <tr>\n",
       "      <th>MARCA_RESCATE</th>\n",
       "      <th></th>\n",
       "      <th></th>\n",
       "    </tr>\n",
       "  </thead>\n",
       "  <tbody>\n",
       "    <tr>\n",
       "      <th>0</th>\n",
       "      <td>15813</td>\n",
       "      <td>8117</td>\n",
       "    </tr>\n",
       "    <tr>\n",
       "      <th>1</th>\n",
       "      <td>1787</td>\n",
       "      <td>976</td>\n",
       "    </tr>\n",
       "  </tbody>\n",
       "</table>\n",
       "</div>"
      ],
      "text/plain": [
       "                 sum      \n",
       "                   Q      \n",
       "MARCA_SOLTERO      0     1\n",
       "MARCA_RESCATE             \n",
       "0              15813  8117\n",
       "1               1787   976"
      ]
     },
     "execution_count": 150,
     "metadata": {},
     "output_type": "execute_result"
    }
   ],
   "source": [
    "pd.pivot_table(Sample,index=[\"MARCA_RESCATE\"],values=[\"Q\"],\n",
    "               columns=[\"MARCA_SOLTERO\"],aggfunc=[np.sum])"
   ]
  },
  {
   "cell_type": "code",
   "execution_count": 151,
   "metadata": {},
   "outputs": [],
   "source": [
    "#Tampoco parece estar relacionado al estado civil del cliente."
   ]
  },
  {
   "cell_type": "code",
   "execution_count": 152,
   "metadata": {},
   "outputs": [
    {
     "data": {
      "text/html": [
       "<div>\n",
       "<style scoped>\n",
       "    .dataframe tbody tr th:only-of-type {\n",
       "        vertical-align: middle;\n",
       "    }\n",
       "\n",
       "    .dataframe tbody tr th {\n",
       "        vertical-align: top;\n",
       "    }\n",
       "\n",
       "    .dataframe thead tr th {\n",
       "        text-align: left;\n",
       "    }\n",
       "\n",
       "    .dataframe thead tr:last-of-type th {\n",
       "        text-align: right;\n",
       "    }\n",
       "</style>\n",
       "<table border=\"1\" class=\"dataframe\">\n",
       "  <thead>\n",
       "    <tr>\n",
       "      <th></th>\n",
       "      <th colspan=\"2\" halign=\"left\">sum</th>\n",
       "    </tr>\n",
       "    <tr>\n",
       "      <th></th>\n",
       "      <th colspan=\"2\" halign=\"left\">Q</th>\n",
       "    </tr>\n",
       "    <tr>\n",
       "      <th>TARJETA_ACTIVA</th>\n",
       "      <th>0</th>\n",
       "      <th>1</th>\n",
       "    </tr>\n",
       "    <tr>\n",
       "      <th>MARCA_RESCATE</th>\n",
       "      <th></th>\n",
       "      <th></th>\n",
       "    </tr>\n",
       "  </thead>\n",
       "  <tbody>\n",
       "    <tr>\n",
       "      <th>0</th>\n",
       "      <td>708</td>\n",
       "      <td>23222</td>\n",
       "    </tr>\n",
       "    <tr>\n",
       "      <th>1</th>\n",
       "      <td>581</td>\n",
       "      <td>2182</td>\n",
       "    </tr>\n",
       "  </tbody>\n",
       "</table>\n",
       "</div>"
      ],
      "text/plain": [
       "                sum       \n",
       "                  Q       \n",
       "TARJETA_ACTIVA    0      1\n",
       "MARCA_RESCATE             \n",
       "0               708  23222\n",
       "1               581   2182"
      ]
     },
     "execution_count": 152,
     "metadata": {},
     "output_type": "execute_result"
    }
   ],
   "source": [
    "pd.pivot_table(Sample,index=[\"MARCA_RESCATE\"],values=[\"Q\"],\n",
    "               columns=[\"TARJETA_ACTIVA\"],aggfunc=[np.sum])"
   ]
  },
  {
   "cell_type": "code",
   "execution_count": 153,
   "metadata": {},
   "outputs": [],
   "source": [
    "#Se tiene un porcentaje mayor de tarjetas inactivas en los clientes que solicitan el cierre."
   ]
  },
  {
   "cell_type": "code",
   "execution_count": 154,
   "metadata": {},
   "outputs": [
    {
     "name": "stdout",
     "output_type": "stream",
     "text": [
      "                              ID    ATRASO      EDAD     SALDO  ANTIGUEDAD  \\\n",
      "ID                      1.000000 -0.016291 -0.085690 -0.036408   -0.995515   \n",
      "ATRASO                 -0.016291  1.000000  0.004455  0.026335    0.017246   \n",
      "EDAD                   -0.085690  0.004455  1.000000  0.015902    0.087859   \n",
      "SALDO                  -0.036408  0.026335  0.015902  1.000000    0.032622   \n",
      "ANTIGUEDAD             -0.995515  0.017246  0.087859  0.032622    1.000000   \n",
      "AJUSTE_PLAN_CUOTAS      0.005179 -0.005381 -0.006474  0.114977   -0.004314   \n",
      "CANCELACION_ANTICIPADA  0.013084 -0.017625 -0.017524  0.050528   -0.012446   \n",
      "INCONSISTENCIA_CTA      0.005128 -0.007927 -0.002697  0.034266   -0.004745   \n",
      "REVERSO_ADMCTA         -0.038988 -0.010481 -0.006625 -0.044632    0.038884   \n",
      "REVERSO_CPMV           -0.021579  0.002528  0.005078  0.001377    0.021349   \n",
      "REVERSO_CPMV2          -0.026683  0.017544  0.014687 -0.040484    0.025498   \n",
      "REVERSO_INTERESES       0.028553 -0.004471  0.001945  0.038582   -0.027433   \n",
      "SUMA_QUEJAS            -0.004970 -0.011733 -0.011421  0.067134    0.005596   \n",
      "MONETARY               -0.035937 -0.011070  0.006481  0.660255    0.035393   \n",
      "FREQUENCY              -0.007277 -0.003874 -0.011334  0.361693    0.007280   \n",
      "RECENCY                 0.049145  0.067233 -0.004394 -0.070140   -0.049693   \n",
      "CUOTA_MAXIMA            0.099821 -0.016107 -0.044178  0.420973   -0.101356   \n",
      "SIN_SALDO_U12M         -0.138167 -0.038178  0.039808 -0.350445    0.136920   \n",
      "SIN_SALDO_U6M          -0.114496 -0.039983  0.037006 -0.357490    0.114252   \n",
      "SIN_SALDO_U3M          -0.104432 -0.059591  0.039131 -0.358808    0.104713   \n",
      "LIMITE                 -0.182829 -0.016803  0.083417  0.392878    0.172101   \n",
      "RANGO_LIMITE           -0.134987 -0.013075  0.073812  0.357810    0.126096   \n",
      "USO_0                   0.113724  0.066917 -0.041133  0.549249   -0.112179   \n",
      "BAJA_SALDO_U6M          0.020731 -0.016177 -0.012619  0.192537   -0.021718   \n",
      "BAJA_SALDO_U3M          0.054844 -0.032762 -0.025077  0.147063   -0.055722   \n",
      "MAX_MORAU12M           -0.117217  0.222468  0.012131  0.020857    0.116104   \n",
      "MAX_MORAU6M            -0.066134  0.247033 -0.006432  0.041838    0.065409   \n",
      "MAX_MORAU3M            -0.051415  0.266788 -0.003684  0.044796    0.050661   \n",
      "Q                            NaN       NaN       NaN       NaN         NaN   \n",
      "\n",
      "                        AJUSTE_PLAN_CUOTAS  CANCELACION_ANTICIPADA  \\\n",
      "ID                                0.005179                0.013084   \n",
      "ATRASO                           -0.005381               -0.017625   \n",
      "EDAD                             -0.006474               -0.017524   \n",
      "SALDO                             0.114977                0.050528   \n",
      "ANTIGUEDAD                       -0.004314               -0.012446   \n",
      "AJUSTE_PLAN_CUOTAS                1.000000                0.073936   \n",
      "CANCELACION_ANTICIPADA            0.073936                1.000000   \n",
      "INCONSISTENCIA_CTA                0.118678                0.023207   \n",
      "REVERSO_ADMCTA                    0.004289                0.010657   \n",
      "REVERSO_CPMV                      0.023099                0.013870   \n",
      "REVERSO_CPMV2                    -0.007778               -0.004082   \n",
      "REVERSO_INTERESES                 0.098791                0.042214   \n",
      "SUMA_QUEJAS                       0.334157                0.772206   \n",
      "MONETARY                          0.210207                0.127334   \n",
      "FREQUENCY                         0.139251                0.123482   \n",
      "RECENCY                          -0.008837                0.035046   \n",
      "CUOTA_MAXIMA                      0.121895                0.168014   \n",
      "SIN_SALDO_U12M                   -0.091645               -0.121475   \n",
      "SIN_SALDO_U6M                    -0.096961               -0.113995   \n",
      "SIN_SALDO_U3M                    -0.096302               -0.109275   \n",
      "LIMITE                            0.050192                0.022245   \n",
      "RANGO_LIMITE                      0.043131                0.036361   \n",
      "USO_0                             0.091109                0.056481   \n",
      "BAJA_SALDO_U6M                    0.063437                0.110853   \n",
      "BAJA_SALDO_U3M                    0.056033                0.087735   \n",
      "MAX_MORAU12M                     -0.028157               -0.045190   \n",
      "MAX_MORAU6M                      -0.022050               -0.037965   \n",
      "MAX_MORAU3M                      -0.018639               -0.033712   \n",
      "Q                                      NaN                     NaN   \n",
      "\n",
      "                        INCONSISTENCIA_CTA  REVERSO_ADMCTA  REVERSO_CPMV  ...  \\\n",
      "ID                                0.005128       -0.038988     -0.021579  ...   \n",
      "ATRASO                           -0.007927       -0.010481      0.002528  ...   \n",
      "EDAD                             -0.002697       -0.006625      0.005078  ...   \n",
      "SALDO                             0.034266       -0.044632      0.001377  ...   \n",
      "ANTIGUEDAD                       -0.004745        0.038884      0.021349  ...   \n",
      "AJUSTE_PLAN_CUOTAS                0.118678        0.004289      0.023099  ...   \n",
      "CANCELACION_ANTICIPADA            0.023207        0.010657      0.013870  ...   \n",
      "INCONSISTENCIA_CTA                1.000000        0.010402      0.034909  ...   \n",
      "REVERSO_ADMCTA                    0.010402        1.000000     -0.012011  ...   \n",
      "REVERSO_CPMV                      0.034909       -0.012011      1.000000  ...   \n",
      "REVERSO_CPMV2                     0.005351        0.024578      0.031945  ...   \n",
      "REVERSO_INTERESES                 0.107482        0.004505      0.117302  ...   \n",
      "SUMA_QUEJAS                       0.186181        0.174077      0.439714  ...   \n",
      "MONETARY                          0.046935       -0.042466      0.003866  ...   \n",
      "FREQUENCY                         0.042908       -0.021043      0.017433  ...   \n",
      "RECENCY                           0.002090       -0.044907      0.058009  ...   \n",
      "CUOTA_MAXIMA                      0.048660       -0.069885      0.055732  ...   \n",
      "SIN_SALDO_U12M                   -0.033003        0.109823     -0.116283  ...   \n",
      "SIN_SALDO_U6M                    -0.035858        0.100920     -0.107234  ...   \n",
      "SIN_SALDO_U3M                    -0.034120        0.095264     -0.093388  ...   \n",
      "LIMITE                            0.017915        0.001477     -0.005680  ...   \n",
      "RANGO_LIMITE                      0.021617        0.002087     -0.005787  ...   \n",
      "USO_0                             0.028817       -0.066253      0.029665  ...   \n",
      "BAJA_SALDO_U6M                    0.031755       -0.078173      0.108124  ...   \n",
      "BAJA_SALDO_U3M                    0.024354       -0.066912      0.082228  ...   \n",
      "MAX_MORAU12M                     -0.007091       -0.007072      0.094489  ...   \n",
      "MAX_MORAU6M                      -0.005658        0.005036      0.075608  ...   \n",
      "MAX_MORAU3M                      -0.002962        0.009798      0.050222  ...   \n",
      "Q                                      NaN             NaN           NaN  ...   \n",
      "\n",
      "                        SIN_SALDO_U3M    LIMITE  RANGO_LIMITE     USO_0  \\\n",
      "ID                          -0.104432 -0.182829     -0.134987  0.113724   \n",
      "ATRASO                      -0.059591 -0.016803     -0.013075  0.066917   \n",
      "EDAD                         0.039131  0.083417      0.073812 -0.041133   \n",
      "SALDO                       -0.358808  0.392878      0.357810  0.549249   \n",
      "ANTIGUEDAD                   0.104713  0.172101      0.126096 -0.112179   \n",
      "AJUSTE_PLAN_CUOTAS          -0.096302  0.050192      0.043131  0.091109   \n",
      "CANCELACION_ANTICIPADA      -0.109275  0.022245      0.036361  0.056481   \n",
      "INCONSISTENCIA_CTA          -0.034120  0.017915      0.021617  0.028817   \n",
      "REVERSO_ADMCTA               0.095264  0.001477      0.002087 -0.066253   \n",
      "REVERSO_CPMV                -0.093388 -0.005680     -0.005787  0.029665   \n",
      "REVERSO_CPMV2                0.055308  0.010035      0.008576 -0.060042   \n",
      "REVERSO_INTERESES           -0.054853  0.030454      0.037354  0.019205   \n",
      "SUMA_QUEJAS                 -0.133856  0.039443      0.049916  0.063872   \n",
      "MONETARY                    -0.360201  0.363634      0.303645  0.369930   \n",
      "FREQUENCY                   -0.336550  0.075040      0.082283  0.417644   \n",
      "RECENCY                     -0.171880  0.026141      0.045743 -0.101734   \n",
      "CUOTA_MAXIMA                -0.673625  0.130338      0.174850  0.526106   \n",
      "SIN_SALDO_U12M               0.878284 -0.071516     -0.101677 -0.535583   \n",
      "SIN_SALDO_U6M                0.950481 -0.071139     -0.101460 -0.544379   \n",
      "SIN_SALDO_U3M                1.000000 -0.068715     -0.098503 -0.550814   \n",
      "LIMITE                      -0.068715  1.000000      0.806247 -0.122779   \n",
      "RANGO_LIMITE                -0.098503  0.806247      1.000000 -0.118478   \n",
      "USO_0                       -0.550814 -0.122779     -0.118478  1.000000   \n",
      "BAJA_SALDO_U6M              -0.715591  0.111468      0.140344  0.256421   \n",
      "BAJA_SALDO_U3M              -0.662668  0.084454      0.107094  0.210120   \n",
      "MAX_MORAU12M                -0.054847 -0.031031     -0.040347  0.060403   \n",
      "MAX_MORAU6M                 -0.112113 -0.019278     -0.019666  0.084945   \n",
      "MAX_MORAU3M                 -0.126746 -0.012836     -0.009073  0.078313   \n",
      "Q                                 NaN       NaN           NaN       NaN   \n",
      "\n",
      "                        BAJA_SALDO_U6M  BAJA_SALDO_U3M  MAX_MORAU12M  \\\n",
      "ID                            0.020731        0.054844     -0.117217   \n",
      "ATRASO                       -0.016177       -0.032762      0.222468   \n",
      "EDAD                         -0.012619       -0.025077      0.012131   \n",
      "SALDO                         0.192537        0.147063      0.020857   \n",
      "ANTIGUEDAD                   -0.021718       -0.055722      0.116104   \n",
      "AJUSTE_PLAN_CUOTAS            0.063437        0.056033     -0.028157   \n",
      "CANCELACION_ANTICIPADA        0.110853        0.087735     -0.045190   \n",
      "INCONSISTENCIA_CTA            0.031755        0.024354     -0.007091   \n",
      "REVERSO_ADMCTA               -0.078173       -0.066912     -0.007072   \n",
      "REVERSO_CPMV                  0.108124        0.082228      0.094489   \n",
      "REVERSO_CPMV2                -0.019100       -0.015660      0.128378   \n",
      "REVERSO_INTERESES             0.064060        0.054778      0.036880   \n",
      "SUMA_QUEJAS                   0.143590        0.113839      0.028258   \n",
      "MONETARY                      0.223516        0.188512     -0.041041   \n",
      "FREQUENCY                     0.138011        0.115778     -0.028038   \n",
      "RECENCY                       0.371735        0.325608      0.055890   \n",
      "CUOTA_MAXIMA                  0.511762        0.457142     -0.060274   \n",
      "SIN_SALDO_U12M               -0.703612       -0.597464     -0.078002   \n",
      "SIN_SALDO_U6M                -0.745021       -0.639945     -0.062604   \n",
      "SIN_SALDO_U3M                -0.715591       -0.662668     -0.054847   \n",
      "LIMITE                        0.111468        0.084454     -0.031031   \n",
      "RANGO_LIMITE                  0.140344        0.107094     -0.040347   \n",
      "USO_0                         0.256421        0.210120      0.060403   \n",
      "BAJA_SALDO_U6M                1.000000        0.855499      0.033320   \n",
      "BAJA_SALDO_U3M                0.855499        1.000000      0.018465   \n",
      "MAX_MORAU12M                  0.033320        0.018465      1.000000   \n",
      "MAX_MORAU6M                   0.076899        0.052099      0.804271   \n",
      "MAX_MORAU3M                   0.060935        0.059798      0.670108   \n",
      "Q                                  NaN             NaN           NaN   \n",
      "\n",
      "                        MAX_MORAU6M  MAX_MORAU3M   Q  \n",
      "ID                        -0.066134    -0.051415 NaN  \n",
      "ATRASO                     0.247033     0.266788 NaN  \n",
      "EDAD                      -0.006432    -0.003684 NaN  \n",
      "SALDO                      0.041838     0.044796 NaN  \n",
      "ANTIGUEDAD                 0.065409     0.050661 NaN  \n",
      "AJUSTE_PLAN_CUOTAS        -0.022050    -0.018639 NaN  \n",
      "CANCELACION_ANTICIPADA    -0.037965    -0.033712 NaN  \n",
      "INCONSISTENCIA_CTA        -0.005658    -0.002962 NaN  \n",
      "REVERSO_ADMCTA             0.005036     0.009798 NaN  \n",
      "REVERSO_CPMV               0.075608     0.050222 NaN  \n",
      "REVERSO_CPMV2              0.088459     0.051753 NaN  \n",
      "REVERSO_INTERESES          0.030829     0.025353 NaN  \n",
      "SUMA_QUEJAS                0.021258     0.008454 NaN  \n",
      "MONETARY                  -0.016976    -0.010032 NaN  \n",
      "FREQUENCY                 -0.007180    -0.002132 NaN  \n",
      "RECENCY                    0.073387     0.071471 NaN  \n",
      "CUOTA_MAXIMA              -0.022711    -0.017382 NaN  \n",
      "SIN_SALDO_U12M            -0.120271    -0.101774 NaN  \n",
      "SIN_SALDO_U6M             -0.128844    -0.127918 NaN  \n",
      "SIN_SALDO_U3M             -0.112113    -0.126746 NaN  \n",
      "LIMITE                    -0.019278    -0.012836 NaN  \n",
      "RANGO_LIMITE              -0.019666    -0.009073 NaN  \n",
      "USO_0                      0.084945     0.078313 NaN  \n",
      "BAJA_SALDO_U6M             0.076899     0.060935 NaN  \n",
      "BAJA_SALDO_U3M             0.052099     0.059798 NaN  \n",
      "MAX_MORAU12M               0.804271     0.670108 NaN  \n",
      "MAX_MORAU6M                1.000000     0.835644 NaN  \n",
      "MAX_MORAU3M                0.835644     1.000000 NaN  \n",
      "Q                               NaN          NaN NaN  \n",
      "\n",
      "[29 rows x 29 columns]\n"
     ]
    }
   ],
   "source": [
    "#Correlation\n",
    "corrMat = Sample.corr()\n",
    "print(corrMat)"
   ]
  },
  {
   "cell_type": "code",
   "execution_count": 155,
   "metadata": {},
   "outputs": [],
   "source": [
    "#Correlación entre Monetary y Saldo de un 66%, un 77% entre Suma_quejas y cancelación anticipada.\n",
    "#Sin saldo U12M un 87% con Sin saldo U3M y un 95% con Sin saldo U6M, esto porque miden lo mismo en meses diferentes.\n",
    "#Una corellación de un 85% entre Baja saldo U6M con Baja saldo U3M por la misma razón que las variables anteriores."
   ]
  },
  {
   "cell_type": "code",
   "execution_count": 156,
   "metadata": {},
   "outputs": [
    {
     "name": "stdout",
     "output_type": "stream",
     "text": [
      "<class 'pandas.core.frame.DataFrame'>\n",
      "RangeIndex: 26693 entries, 0 to 26692\n",
      "Data columns (total 53 columns):\n",
      "ID                        26693 non-null int64\n",
      "ATRASO                    26693 non-null int64\n",
      "EDAD                      26693 non-null int64\n",
      "SALDO                     26693 non-null float64\n",
      "SIN_SALDO_HOY             26693 non-null object\n",
      "ANTIGUEDAD                26693 non-null int64\n",
      "referencia_rescate        2763 non-null object\n",
      "MARCA_RESCATE             26693 non-null object\n",
      "TARJETA_ACTIVA            26693 non-null object\n",
      "sexo                      26693 non-null object\n",
      "estado_civil              26693 non-null object\n",
      "tipo_ingreso              11262 non-null object\n",
      "AJUSTE_PLAN_CUOTAS        26693 non-null int64\n",
      "CANCELACION_ANTICIPADA    26693 non-null int64\n",
      "ERROR_PAGO_SERVICIOS      26693 non-null object\n",
      "INCONSISTENCIA_CTA        26693 non-null int64\n",
      "PAGO_INCORRECTO           26693 non-null object\n",
      "REVERSO_ADMCTA            26693 non-null int64\n",
      "REVERSO_CPMV              26693 non-null int64\n",
      "REVERSO_CPMV2             26693 non-null int64\n",
      "REVERSO_EDC               26693 non-null object\n",
      "REVERSO_INTERESES         26693 non-null int64\n",
      "SUMA_QUEJAS               26693 non-null int64\n",
      "MARCA_QUEJAS              26693 non-null object\n",
      "MONETARY                  26693 non-null float64\n",
      "FREQUENCY                 26693 non-null int64\n",
      "RECENCY                   26693 non-null int64\n",
      "Q_MONETARY                26693 non-null object\n",
      "Q_FREQUENCY               26693 non-null object\n",
      "Q_RECENCY                 26693 non-null object\n",
      "CUOTA_MAXIMA              26693 non-null int64\n",
      "SIN_SALDO_U12M            26693 non-null int64\n",
      "SIN_SALDO_U6M             26693 non-null int64\n",
      "SIN_SALDO_U3M             26693 non-null int64\n",
      "MARCA_SIN_SALDO_U12M      26693 non-null object\n",
      "MARCA_SIN_SALDO_U6M       26693 non-null object\n",
      "MARCA_SIN_SALDO_U3M       26693 non-null object\n",
      "LIMITE                    26693 non-null float64\n",
      "RANGO_LIMITE              26693 non-null int64\n",
      "USO_0                     26693 non-null float64\n",
      "BAJA_SALDO_U6M            26693 non-null int64\n",
      "BAJA_SALDO_U3M            26693 non-null int64\n",
      "MARCA_BAJA_U6M            26693 non-null object\n",
      "MARCA_BAJA_U3M            26693 non-null object\n",
      "MARCA_CONGELADA           26693 non-null object\n",
      "NACIONAL                  26693 non-null object\n",
      "MAX_MORAU12M              26693 non-null int64\n",
      "MAX_MORAU6M               26693 non-null int64\n",
      "MAX_MORAU3M               26693 non-null int64\n",
      "AREA_RIESGO               26693 non-null object\n",
      "PROVINCIA                 26693 non-null object\n",
      "MARCA_SOLTERO             26693 non-null object\n",
      "Q                         26693 non-null int64\n",
      "dtypes: float64(4), int64(25), object(24)\n",
      "memory usage: 10.8+ MB\n"
     ]
    }
   ],
   "source": [
    "Sample.info()"
   ]
  },
  {
   "cell_type": "code",
   "execution_count": 157,
   "metadata": {},
   "outputs": [],
   "source": [
    "Sample2=Sample.iloc[:,1:53]"
   ]
  },
  {
   "cell_type": "code",
   "execution_count": 158,
   "metadata": {},
   "outputs": [],
   "source": [
    "Sample3 = Sample2[(Sample2.EDAD >= 20)]"
   ]
  },
  {
   "cell_type": "code",
   "execution_count": 159,
   "metadata": {},
   "outputs": [],
   "source": [
    "Sample4 = Sample3[(Sample3.EDAD <= 100)]"
   ]
  },
  {
   "cell_type": "code",
   "execution_count": 160,
   "metadata": {},
   "outputs": [
    {
     "data": {
      "text/html": [
       "<div>\n",
       "<style scoped>\n",
       "    .dataframe tbody tr th:only-of-type {\n",
       "        vertical-align: middle;\n",
       "    }\n",
       "\n",
       "    .dataframe tbody tr th {\n",
       "        vertical-align: top;\n",
       "    }\n",
       "\n",
       "    .dataframe thead th {\n",
       "        text-align: right;\n",
       "    }\n",
       "</style>\n",
       "<table border=\"1\" class=\"dataframe\">\n",
       "  <thead>\n",
       "    <tr style=\"text-align: right;\">\n",
       "      <th></th>\n",
       "      <th>ATRASO</th>\n",
       "      <th>EDAD</th>\n",
       "      <th>SALDO</th>\n",
       "      <th>ANTIGUEDAD</th>\n",
       "      <th>AJUSTE_PLAN_CUOTAS</th>\n",
       "      <th>CANCELACION_ANTICIPADA</th>\n",
       "      <th>INCONSISTENCIA_CTA</th>\n",
       "      <th>REVERSO_ADMCTA</th>\n",
       "      <th>REVERSO_CPMV</th>\n",
       "      <th>REVERSO_CPMV2</th>\n",
       "      <th>...</th>\n",
       "      <th>SIN_SALDO_U3M</th>\n",
       "      <th>LIMITE</th>\n",
       "      <th>RANGO_LIMITE</th>\n",
       "      <th>USO_0</th>\n",
       "      <th>BAJA_SALDO_U6M</th>\n",
       "      <th>BAJA_SALDO_U3M</th>\n",
       "      <th>MAX_MORAU12M</th>\n",
       "      <th>MAX_MORAU6M</th>\n",
       "      <th>MAX_MORAU3M</th>\n",
       "      <th>Q</th>\n",
       "    </tr>\n",
       "  </thead>\n",
       "  <tbody>\n",
       "    <tr>\n",
       "      <th>count</th>\n",
       "      <td>25630.000000</td>\n",
       "      <td>25630.000000</td>\n",
       "      <td>2.563000e+04</td>\n",
       "      <td>25630.000000</td>\n",
       "      <td>25630.000000</td>\n",
       "      <td>25630.000000</td>\n",
       "      <td>25630.00000</td>\n",
       "      <td>25630.000000</td>\n",
       "      <td>25630.000000</td>\n",
       "      <td>25630.000000</td>\n",
       "      <td>...</td>\n",
       "      <td>25630.000000</td>\n",
       "      <td>2.563000e+04</td>\n",
       "      <td>25630.000000</td>\n",
       "      <td>25630.000000</td>\n",
       "      <td>25630.000000</td>\n",
       "      <td>25630.000000</td>\n",
       "      <td>25630.000000</td>\n",
       "      <td>25630.00000</td>\n",
       "      <td>25630.000000</td>\n",
       "      <td>25630.0</td>\n",
       "    </tr>\n",
       "    <tr>\n",
       "      <th>mean</th>\n",
       "      <td>0.459891</td>\n",
       "      <td>42.205072</td>\n",
       "      <td>2.337590e+05</td>\n",
       "      <td>43.811471</td>\n",
       "      <td>0.025673</td>\n",
       "      <td>0.160203</td>\n",
       "      <td>0.00515</td>\n",
       "      <td>0.016660</td>\n",
       "      <td>0.078073</td>\n",
       "      <td>0.018689</td>\n",
       "      <td>...</td>\n",
       "      <td>1.027117</td>\n",
       "      <td>1.044140e+06</td>\n",
       "      <td>7.779477</td>\n",
       "      <td>0.268998</td>\n",
       "      <td>2.526531</td>\n",
       "      <td>1.272064</td>\n",
       "      <td>4.948108</td>\n",
       "      <td>3.09126</td>\n",
       "      <td>2.064417</td>\n",
       "      <td>1.0</td>\n",
       "    </tr>\n",
       "    <tr>\n",
       "      <th>std</th>\n",
       "      <td>3.741836</td>\n",
       "      <td>12.620422</td>\n",
       "      <td>4.404992e+05</td>\n",
       "      <td>25.324035</td>\n",
       "      <td>0.187925</td>\n",
       "      <td>0.579145</td>\n",
       "      <td>0.07633</td>\n",
       "      <td>0.129512</td>\n",
       "      <td>0.304401</td>\n",
       "      <td>0.140239</td>\n",
       "      <td>...</td>\n",
       "      <td>1.319855</td>\n",
       "      <td>1.189139e+06</td>\n",
       "      <td>4.209688</td>\n",
       "      <td>0.323677</td>\n",
       "      <td>1.805081</td>\n",
       "      <td>1.019454</td>\n",
       "      <td>10.231887</td>\n",
       "      <td>8.24998</td>\n",
       "      <td>6.720105</td>\n",
       "      <td>0.0</td>\n",
       "    </tr>\n",
       "    <tr>\n",
       "      <th>min</th>\n",
       "      <td>0.000000</td>\n",
       "      <td>20.000000</td>\n",
       "      <td>-5.939236e+05</td>\n",
       "      <td>0.000000</td>\n",
       "      <td>0.000000</td>\n",
       "      <td>0.000000</td>\n",
       "      <td>0.00000</td>\n",
       "      <td>0.000000</td>\n",
       "      <td>0.000000</td>\n",
       "      <td>0.000000</td>\n",
       "      <td>...</td>\n",
       "      <td>0.000000</td>\n",
       "      <td>7.000000e+04</td>\n",
       "      <td>1.000000</td>\n",
       "      <td>-1.178420</td>\n",
       "      <td>0.000000</td>\n",
       "      <td>0.000000</td>\n",
       "      <td>0.000000</td>\n",
       "      <td>0.00000</td>\n",
       "      <td>0.000000</td>\n",
       "      <td>1.0</td>\n",
       "    </tr>\n",
       "    <tr>\n",
       "      <th>25%</th>\n",
       "      <td>0.000000</td>\n",
       "      <td>32.000000</td>\n",
       "      <td>0.000000e+00</td>\n",
       "      <td>21.000000</td>\n",
       "      <td>0.000000</td>\n",
       "      <td>0.000000</td>\n",
       "      <td>0.00000</td>\n",
       "      <td>0.000000</td>\n",
       "      <td>0.000000</td>\n",
       "      <td>0.000000</td>\n",
       "      <td>...</td>\n",
       "      <td>0.000000</td>\n",
       "      <td>3.710000e+05</td>\n",
       "      <td>4.000000</td>\n",
       "      <td>0.000000</td>\n",
       "      <td>1.000000</td>\n",
       "      <td>0.000000</td>\n",
       "      <td>0.000000</td>\n",
       "      <td>0.00000</td>\n",
       "      <td>0.000000</td>\n",
       "      <td>1.0</td>\n",
       "    </tr>\n",
       "    <tr>\n",
       "      <th>50%</th>\n",
       "      <td>0.000000</td>\n",
       "      <td>40.000000</td>\n",
       "      <td>9.146079e+04</td>\n",
       "      <td>44.000000</td>\n",
       "      <td>0.000000</td>\n",
       "      <td>0.000000</td>\n",
       "      <td>0.00000</td>\n",
       "      <td>0.000000</td>\n",
       "      <td>0.000000</td>\n",
       "      <td>0.000000</td>\n",
       "      <td>...</td>\n",
       "      <td>0.000000</td>\n",
       "      <td>5.950000e+05</td>\n",
       "      <td>6.000000</td>\n",
       "      <td>0.126328</td>\n",
       "      <td>3.000000</td>\n",
       "      <td>1.000000</td>\n",
       "      <td>0.000000</td>\n",
       "      <td>0.00000</td>\n",
       "      <td>0.000000</td>\n",
       "      <td>1.0</td>\n",
       "    </tr>\n",
       "    <tr>\n",
       "      <th>75%</th>\n",
       "      <td>0.000000</td>\n",
       "      <td>52.000000</td>\n",
       "      <td>2.953207e+05</td>\n",
       "      <td>64.000000</td>\n",
       "      <td>0.000000</td>\n",
       "      <td>0.000000</td>\n",
       "      <td>0.00000</td>\n",
       "      <td>0.000000</td>\n",
       "      <td>0.000000</td>\n",
       "      <td>0.000000</td>\n",
       "      <td>...</td>\n",
       "      <td>3.000000</td>\n",
       "      <td>1.260000e+06</td>\n",
       "      <td>12.000000</td>\n",
       "      <td>0.490286</td>\n",
       "      <td>4.000000</td>\n",
       "      <td>2.000000</td>\n",
       "      <td>5.000000</td>\n",
       "      <td>2.00000</td>\n",
       "      <td>0.000000</td>\n",
       "      <td>1.0</td>\n",
       "    </tr>\n",
       "    <tr>\n",
       "      <th>max</th>\n",
       "      <td>88.000000</td>\n",
       "      <td>91.000000</td>\n",
       "      <td>1.337999e+07</td>\n",
       "      <td>102.000000</td>\n",
       "      <td>6.000000</td>\n",
       "      <td>15.000000</td>\n",
       "      <td>2.00000</td>\n",
       "      <td>2.000000</td>\n",
       "      <td>5.000000</td>\n",
       "      <td>3.000000</td>\n",
       "      <td>...</td>\n",
       "      <td>3.000000</td>\n",
       "      <td>3.500000e+07</td>\n",
       "      <td>16.000000</td>\n",
       "      <td>7.836546</td>\n",
       "      <td>6.000000</td>\n",
       "      <td>3.000000</td>\n",
       "      <td>92.000000</td>\n",
       "      <td>92.00000</td>\n",
       "      <td>92.000000</td>\n",
       "      <td>1.0</td>\n",
       "    </tr>\n",
       "  </tbody>\n",
       "</table>\n",
       "<p>8 rows × 28 columns</p>\n",
       "</div>"
      ],
      "text/plain": [
       "             ATRASO          EDAD         SALDO    ANTIGUEDAD  \\\n",
       "count  25630.000000  25630.000000  2.563000e+04  25630.000000   \n",
       "mean       0.459891     42.205072  2.337590e+05     43.811471   \n",
       "std        3.741836     12.620422  4.404992e+05     25.324035   \n",
       "min        0.000000     20.000000 -5.939236e+05      0.000000   \n",
       "25%        0.000000     32.000000  0.000000e+00     21.000000   \n",
       "50%        0.000000     40.000000  9.146079e+04     44.000000   \n",
       "75%        0.000000     52.000000  2.953207e+05     64.000000   \n",
       "max       88.000000     91.000000  1.337999e+07    102.000000   \n",
       "\n",
       "       AJUSTE_PLAN_CUOTAS  CANCELACION_ANTICIPADA  INCONSISTENCIA_CTA  \\\n",
       "count        25630.000000            25630.000000         25630.00000   \n",
       "mean             0.025673                0.160203             0.00515   \n",
       "std              0.187925                0.579145             0.07633   \n",
       "min              0.000000                0.000000             0.00000   \n",
       "25%              0.000000                0.000000             0.00000   \n",
       "50%              0.000000                0.000000             0.00000   \n",
       "75%              0.000000                0.000000             0.00000   \n",
       "max              6.000000               15.000000             2.00000   \n",
       "\n",
       "       REVERSO_ADMCTA  REVERSO_CPMV  REVERSO_CPMV2  ...  SIN_SALDO_U3M  \\\n",
       "count    25630.000000  25630.000000   25630.000000  ...   25630.000000   \n",
       "mean         0.016660      0.078073       0.018689  ...       1.027117   \n",
       "std          0.129512      0.304401       0.140239  ...       1.319855   \n",
       "min          0.000000      0.000000       0.000000  ...       0.000000   \n",
       "25%          0.000000      0.000000       0.000000  ...       0.000000   \n",
       "50%          0.000000      0.000000       0.000000  ...       0.000000   \n",
       "75%          0.000000      0.000000       0.000000  ...       3.000000   \n",
       "max          2.000000      5.000000       3.000000  ...       3.000000   \n",
       "\n",
       "             LIMITE  RANGO_LIMITE         USO_0  BAJA_SALDO_U6M  \\\n",
       "count  2.563000e+04  25630.000000  25630.000000    25630.000000   \n",
       "mean   1.044140e+06      7.779477      0.268998        2.526531   \n",
       "std    1.189139e+06      4.209688      0.323677        1.805081   \n",
       "min    7.000000e+04      1.000000     -1.178420        0.000000   \n",
       "25%    3.710000e+05      4.000000      0.000000        1.000000   \n",
       "50%    5.950000e+05      6.000000      0.126328        3.000000   \n",
       "75%    1.260000e+06     12.000000      0.490286        4.000000   \n",
       "max    3.500000e+07     16.000000      7.836546        6.000000   \n",
       "\n",
       "       BAJA_SALDO_U3M  MAX_MORAU12M  MAX_MORAU6M   MAX_MORAU3M        Q  \n",
       "count    25630.000000  25630.000000  25630.00000  25630.000000  25630.0  \n",
       "mean         1.272064      4.948108      3.09126      2.064417      1.0  \n",
       "std          1.019454     10.231887      8.24998      6.720105      0.0  \n",
       "min          0.000000      0.000000      0.00000      0.000000      1.0  \n",
       "25%          0.000000      0.000000      0.00000      0.000000      1.0  \n",
       "50%          1.000000      0.000000      0.00000      0.000000      1.0  \n",
       "75%          2.000000      5.000000      2.00000      0.000000      1.0  \n",
       "max          3.000000     92.000000     92.00000     92.000000      1.0  \n",
       "\n",
       "[8 rows x 28 columns]"
      ]
     },
     "execution_count": 160,
     "metadata": {},
     "output_type": "execute_result"
    }
   ],
   "source": [
    "Sample4.describe()"
   ]
  },
  {
   "cell_type": "code",
   "execution_count": 161,
   "metadata": {},
   "outputs": [
    {
     "data": {
      "image/png": "[encoded data removed]",
      "text/plain": [
       "<Figure size 432x288 with 1 Axes>"
      ]
     },
     "metadata": {
      "needs_background": "light"
     },
     "output_type": "display_data"
    }
   ],
   "source": [
    "P= Sample4['SALDO']\n",
    "plt.boxplot(P,0,'gD')\n",
    "plt.show()"
   ]
  },
  {
   "cell_type": "code",
   "execution_count": 162,
   "metadata": {},
   "outputs": [],
   "source": [
    "Sample5 = Sample4[(Sample4.SALDO <= 5000000)]"
   ]
  },
  {
   "cell_type": "code",
   "execution_count": 163,
   "metadata": {},
   "outputs": [
    {
     "data": {
      "image/png": "[encoded data removed]",
      "text/plain": [
       "<Figure size 432x288 with 1 Axes>"
      ]
     },
     "metadata": {
      "needs_background": "light"
     },
     "output_type": "display_data"
    }
   ],
   "source": [
    "P1= Sample5['SALDO']\n",
    "plt.boxplot(P1,0,'gD')\n",
    "plt.show()"
   ]
  },
  {
   "cell_type": "code",
   "execution_count": 164,
   "metadata": {},
   "outputs": [
    {
     "data": {
      "text/html": [
       "<div>\n",
       "<style scoped>\n",
       "    .dataframe tbody tr th:only-of-type {\n",
       "        vertical-align: middle;\n",
       "    }\n",
       "\n",
       "    .dataframe tbody tr th {\n",
       "        vertical-align: top;\n",
       "    }\n",
       "\n",
       "    .dataframe thead th {\n",
       "        text-align: right;\n",
       "    }\n",
       "</style>\n",
       "<table border=\"1\" class=\"dataframe\">\n",
       "  <thead>\n",
       "    <tr style=\"text-align: right;\">\n",
       "      <th></th>\n",
       "      <th>ATRASO</th>\n",
       "      <th>EDAD</th>\n",
       "      <th>SALDO</th>\n",
       "      <th>ANTIGUEDAD</th>\n",
       "      <th>AJUSTE_PLAN_CUOTAS</th>\n",
       "      <th>CANCELACION_ANTICIPADA</th>\n",
       "      <th>INCONSISTENCIA_CTA</th>\n",
       "      <th>REVERSO_ADMCTA</th>\n",
       "      <th>REVERSO_CPMV</th>\n",
       "      <th>REVERSO_CPMV2</th>\n",
       "      <th>...</th>\n",
       "      <th>SIN_SALDO_U3M</th>\n",
       "      <th>LIMITE</th>\n",
       "      <th>RANGO_LIMITE</th>\n",
       "      <th>USO_0</th>\n",
       "      <th>BAJA_SALDO_U6M</th>\n",
       "      <th>BAJA_SALDO_U3M</th>\n",
       "      <th>MAX_MORAU12M</th>\n",
       "      <th>MAX_MORAU6M</th>\n",
       "      <th>MAX_MORAU3M</th>\n",
       "      <th>Q</th>\n",
       "    </tr>\n",
       "  </thead>\n",
       "  <tbody>\n",
       "    <tr>\n",
       "      <th>count</th>\n",
       "      <td>25611.000000</td>\n",
       "      <td>25611.000000</td>\n",
       "      <td>2.561100e+04</td>\n",
       "      <td>25611.000000</td>\n",
       "      <td>25611.000000</td>\n",
       "      <td>25611.000000</td>\n",
       "      <td>25611.000000</td>\n",
       "      <td>25611.000000</td>\n",
       "      <td>25611.000000</td>\n",
       "      <td>25611.000000</td>\n",
       "      <td>...</td>\n",
       "      <td>25611.000000</td>\n",
       "      <td>2.561100e+04</td>\n",
       "      <td>25611.000000</td>\n",
       "      <td>25611.000000</td>\n",
       "      <td>25611.000000</td>\n",
       "      <td>25611.000000</td>\n",
       "      <td>25611.000000</td>\n",
       "      <td>25611.000000</td>\n",
       "      <td>25611.000000</td>\n",
       "      <td>25611.0</td>\n",
       "    </tr>\n",
       "    <tr>\n",
       "      <th>mean</th>\n",
       "      <td>0.460076</td>\n",
       "      <td>42.197806</td>\n",
       "      <td>2.291433e+05</td>\n",
       "      <td>43.792511</td>\n",
       "      <td>0.025536</td>\n",
       "      <td>0.160127</td>\n",
       "      <td>0.005154</td>\n",
       "      <td>0.016673</td>\n",
       "      <td>0.078130</td>\n",
       "      <td>0.018703</td>\n",
       "      <td>...</td>\n",
       "      <td>1.027801</td>\n",
       "      <td>1.039304e+06</td>\n",
       "      <td>7.773379</td>\n",
       "      <td>0.268557</td>\n",
       "      <td>2.526336</td>\n",
       "      <td>1.272110</td>\n",
       "      <td>4.948225</td>\n",
       "      <td>3.091250</td>\n",
       "      <td>2.064191</td>\n",
       "      <td>1.0</td>\n",
       "    </tr>\n",
       "    <tr>\n",
       "      <th>std</th>\n",
       "      <td>3.743180</td>\n",
       "      <td>12.621279</td>\n",
       "      <td>4.032700e+05</td>\n",
       "      <td>25.322184</td>\n",
       "      <td>0.186973</td>\n",
       "      <td>0.579027</td>\n",
       "      <td>0.076358</td>\n",
       "      <td>0.129559</td>\n",
       "      <td>0.304506</td>\n",
       "      <td>0.140291</td>\n",
       "      <td>...</td>\n",
       "      <td>1.320049</td>\n",
       "      <td>1.174774e+06</td>\n",
       "      <td>4.205288</td>\n",
       "      <td>0.323377</td>\n",
       "      <td>1.805357</td>\n",
       "      <td>1.019618</td>\n",
       "      <td>10.234584</td>\n",
       "      <td>8.252151</td>\n",
       "      <td>6.721586</td>\n",
       "      <td>0.0</td>\n",
       "    </tr>\n",
       "    <tr>\n",
       "      <th>min</th>\n",
       "      <td>0.000000</td>\n",
       "      <td>20.000000</td>\n",
       "      <td>-5.939236e+05</td>\n",
       "      <td>0.000000</td>\n",
       "      <td>0.000000</td>\n",
       "      <td>0.000000</td>\n",
       "      <td>0.000000</td>\n",
       "      <td>0.000000</td>\n",
       "      <td>0.000000</td>\n",
       "      <td>0.000000</td>\n",
       "      <td>...</td>\n",
       "      <td>0.000000</td>\n",
       "      <td>7.000000e+04</td>\n",
       "      <td>1.000000</td>\n",
       "      <td>-1.178420</td>\n",
       "      <td>0.000000</td>\n",
       "      <td>0.000000</td>\n",
       "      <td>0.000000</td>\n",
       "      <td>0.000000</td>\n",
       "      <td>0.000000</td>\n",
       "      <td>1.0</td>\n",
       "    </tr>\n",
       "    <tr>\n",
       "      <th>25%</th>\n",
       "      <td>0.000000</td>\n",
       "      <td>32.000000</td>\n",
       "      <td>0.000000e+00</td>\n",
       "      <td>21.000000</td>\n",
       "      <td>0.000000</td>\n",
       "      <td>0.000000</td>\n",
       "      <td>0.000000</td>\n",
       "      <td>0.000000</td>\n",
       "      <td>0.000000</td>\n",
       "      <td>0.000000</td>\n",
       "      <td>...</td>\n",
       "      <td>0.000000</td>\n",
       "      <td>3.710000e+05</td>\n",
       "      <td>4.000000</td>\n",
       "      <td>0.000000</td>\n",
       "      <td>1.000000</td>\n",
       "      <td>0.000000</td>\n",
       "      <td>0.000000</td>\n",
       "      <td>0.000000</td>\n",
       "      <td>0.000000</td>\n",
       "      <td>1.0</td>\n",
       "    </tr>\n",
       "    <tr>\n",
       "      <th>50%</th>\n",
       "      <td>0.000000</td>\n",
       "      <td>40.000000</td>\n",
       "      <td>9.125760e+04</td>\n",
       "      <td>44.000000</td>\n",
       "      <td>0.000000</td>\n",
       "      <td>0.000000</td>\n",
       "      <td>0.000000</td>\n",
       "      <td>0.000000</td>\n",
       "      <td>0.000000</td>\n",
       "      <td>0.000000</td>\n",
       "      <td>...</td>\n",
       "      <td>0.000000</td>\n",
       "      <td>5.950000e+05</td>\n",
       "      <td>6.000000</td>\n",
       "      <td>0.126056</td>\n",
       "      <td>3.000000</td>\n",
       "      <td>1.000000</td>\n",
       "      <td>0.000000</td>\n",
       "      <td>0.000000</td>\n",
       "      <td>0.000000</td>\n",
       "      <td>1.0</td>\n",
       "    </tr>\n",
       "    <tr>\n",
       "      <th>75%</th>\n",
       "      <td>0.000000</td>\n",
       "      <td>52.000000</td>\n",
       "      <td>2.948352e+05</td>\n",
       "      <td>64.000000</td>\n",
       "      <td>0.000000</td>\n",
       "      <td>0.000000</td>\n",
       "      <td>0.000000</td>\n",
       "      <td>0.000000</td>\n",
       "      <td>0.000000</td>\n",
       "      <td>0.000000</td>\n",
       "      <td>...</td>\n",
       "      <td>3.000000</td>\n",
       "      <td>1.260000e+06</td>\n",
       "      <td>12.000000</td>\n",
       "      <td>0.489181</td>\n",
       "      <td>4.000000</td>\n",
       "      <td>2.000000</td>\n",
       "      <td>5.000000</td>\n",
       "      <td>2.000000</td>\n",
       "      <td>0.000000</td>\n",
       "      <td>1.0</td>\n",
       "    </tr>\n",
       "    <tr>\n",
       "      <th>max</th>\n",
       "      <td>88.000000</td>\n",
       "      <td>91.000000</td>\n",
       "      <td>4.865636e+06</td>\n",
       "      <td>102.000000</td>\n",
       "      <td>6.000000</td>\n",
       "      <td>15.000000</td>\n",
       "      <td>2.000000</td>\n",
       "      <td>2.000000</td>\n",
       "      <td>5.000000</td>\n",
       "      <td>3.000000</td>\n",
       "      <td>...</td>\n",
       "      <td>3.000000</td>\n",
       "      <td>3.500000e+07</td>\n",
       "      <td>16.000000</td>\n",
       "      <td>7.836546</td>\n",
       "      <td>6.000000</td>\n",
       "      <td>3.000000</td>\n",
       "      <td>92.000000</td>\n",
       "      <td>92.000000</td>\n",
       "      <td>92.000000</td>\n",
       "      <td>1.0</td>\n",
       "    </tr>\n",
       "  </tbody>\n",
       "</table>\n",
       "<p>8 rows × 28 columns</p>\n",
       "</div>"
      ],
      "text/plain": [
       "             ATRASO          EDAD         SALDO    ANTIGUEDAD  \\\n",
       "count  25611.000000  25611.000000  2.561100e+04  25611.000000   \n",
       "mean       0.460076     42.197806  2.291433e+05     43.792511   \n",
       "std        3.743180     12.621279  4.032700e+05     25.322184   \n",
       "min        0.000000     20.000000 -5.939236e+05      0.000000   \n",
       "25%        0.000000     32.000000  0.000000e+00     21.000000   \n",
       "50%        0.000000     40.000000  9.125760e+04     44.000000   \n",
       "75%        0.000000     52.000000  2.948352e+05     64.000000   \n",
       "max       88.000000     91.000000  4.865636e+06    102.000000   \n",
       "\n",
       "       AJUSTE_PLAN_CUOTAS  CANCELACION_ANTICIPADA  INCONSISTENCIA_CTA  \\\n",
       "count        25611.000000            25611.000000        25611.000000   \n",
       "mean             0.025536                0.160127            0.005154   \n",
       "std              0.186973                0.579027            0.076358   \n",
       "min              0.000000                0.000000            0.000000   \n",
       "25%              0.000000                0.000000            0.000000   \n",
       "50%              0.000000                0.000000            0.000000   \n",
       "75%              0.000000                0.000000            0.000000   \n",
       "max              6.000000               15.000000            2.000000   \n",
       "\n",
       "       REVERSO_ADMCTA  REVERSO_CPMV  REVERSO_CPMV2  ...  SIN_SALDO_U3M  \\\n",
       "count    25611.000000  25611.000000   25611.000000  ...   25611.000000   \n",
       "mean         0.016673      0.078130       0.018703  ...       1.027801   \n",
       "std          0.129559      0.304506       0.140291  ...       1.320049   \n",
       "min          0.000000      0.000000       0.000000  ...       0.000000   \n",
       "25%          0.000000      0.000000       0.000000  ...       0.000000   \n",
       "50%          0.000000      0.000000       0.000000  ...       0.000000   \n",
       "75%          0.000000      0.000000       0.000000  ...       3.000000   \n",
       "max          2.000000      5.000000       3.000000  ...       3.000000   \n",
       "\n",
       "             LIMITE  RANGO_LIMITE         USO_0  BAJA_SALDO_U6M  \\\n",
       "count  2.561100e+04  25611.000000  25611.000000    25611.000000   \n",
       "mean   1.039304e+06      7.773379      0.268557        2.526336   \n",
       "std    1.174774e+06      4.205288      0.323377        1.805357   \n",
       "min    7.000000e+04      1.000000     -1.178420        0.000000   \n",
       "25%    3.710000e+05      4.000000      0.000000        1.000000   \n",
       "50%    5.950000e+05      6.000000      0.126056        3.000000   \n",
       "75%    1.260000e+06     12.000000      0.489181        4.000000   \n",
       "max    3.500000e+07     16.000000      7.836546        6.000000   \n",
       "\n",
       "       BAJA_SALDO_U3M  MAX_MORAU12M   MAX_MORAU6M   MAX_MORAU3M        Q  \n",
       "count    25611.000000  25611.000000  25611.000000  25611.000000  25611.0  \n",
       "mean         1.272110      4.948225      3.091250      2.064191      1.0  \n",
       "std          1.019618     10.234584      8.252151      6.721586      0.0  \n",
       "min          0.000000      0.000000      0.000000      0.000000      1.0  \n",
       "25%          0.000000      0.000000      0.000000      0.000000      1.0  \n",
       "50%          1.000000      0.000000      0.000000      0.000000      1.0  \n",
       "75%          2.000000      5.000000      2.000000      0.000000      1.0  \n",
       "max          3.000000     92.000000     92.000000     92.000000      1.0  \n",
       "\n",
       "[8 rows x 28 columns]"
      ]
     },
     "execution_count": 164,
     "metadata": {},
     "output_type": "execute_result"
    }
   ],
   "source": [
    "Sample5.describe()"
   ]
  },
  {
   "cell_type": "code",
   "execution_count": 165,
   "metadata": {},
   "outputs": [],
   "source": [
    "Sample6 = Sample5[(Sample5.LIMITE <= 8000000)]"
   ]
  },
  {
   "cell_type": "code",
   "execution_count": 166,
   "metadata": {},
   "outputs": [
    {
     "data": {
      "image/png": "[encoded data removed]",
      "text/plain": [
       "<Figure size 432x288 with 1 Axes>"
      ]
     },
     "metadata": {
      "needs_background": "light"
     },
     "output_type": "display_data"
    }
   ],
   "source": [
    "P2= Sample6['LIMITE']\n",
    "plt.boxplot(P2,0,'gD')\n",
    "plt.show()"
   ]
  },
  {
   "cell_type": "code",
   "execution_count": 167,
   "metadata": {},
   "outputs": [
    {
     "data": {
      "text/html": [
       "<div>\n",
       "<style scoped>\n",
       "    .dataframe tbody tr th:only-of-type {\n",
       "        vertical-align: middle;\n",
       "    }\n",
       "\n",
       "    .dataframe tbody tr th {\n",
       "        vertical-align: top;\n",
       "    }\n",
       "\n",
       "    .dataframe thead th {\n",
       "        text-align: right;\n",
       "    }\n",
       "</style>\n",
       "<table border=\"1\" class=\"dataframe\">\n",
       "  <thead>\n",
       "    <tr style=\"text-align: right;\">\n",
       "      <th></th>\n",
       "      <th>ATRASO</th>\n",
       "      <th>EDAD</th>\n",
       "      <th>SALDO</th>\n",
       "      <th>ANTIGUEDAD</th>\n",
       "      <th>AJUSTE_PLAN_CUOTAS</th>\n",
       "      <th>CANCELACION_ANTICIPADA</th>\n",
       "      <th>INCONSISTENCIA_CTA</th>\n",
       "      <th>REVERSO_ADMCTA</th>\n",
       "      <th>REVERSO_CPMV</th>\n",
       "      <th>REVERSO_CPMV2</th>\n",
       "      <th>...</th>\n",
       "      <th>SIN_SALDO_U3M</th>\n",
       "      <th>LIMITE</th>\n",
       "      <th>RANGO_LIMITE</th>\n",
       "      <th>USO_0</th>\n",
       "      <th>BAJA_SALDO_U6M</th>\n",
       "      <th>BAJA_SALDO_U3M</th>\n",
       "      <th>MAX_MORAU12M</th>\n",
       "      <th>MAX_MORAU6M</th>\n",
       "      <th>MAX_MORAU3M</th>\n",
       "      <th>Q</th>\n",
       "    </tr>\n",
       "  </thead>\n",
       "  <tbody>\n",
       "    <tr>\n",
       "      <th>count</th>\n",
       "      <td>25566.000000</td>\n",
       "      <td>25566.000000</td>\n",
       "      <td>2.556600e+04</td>\n",
       "      <td>25566.000000</td>\n",
       "      <td>25566.000000</td>\n",
       "      <td>25566.000000</td>\n",
       "      <td>25566.000000</td>\n",
       "      <td>25566.000000</td>\n",
       "      <td>25566.000000</td>\n",
       "      <td>25566.000000</td>\n",
       "      <td>...</td>\n",
       "      <td>25566.000000</td>\n",
       "      <td>2.556600e+04</td>\n",
       "      <td>25566.000000</td>\n",
       "      <td>25566.000000</td>\n",
       "      <td>25566.000000</td>\n",
       "      <td>25566.000000</td>\n",
       "      <td>25566.000000</td>\n",
       "      <td>25566.000000</td>\n",
       "      <td>25566.000000</td>\n",
       "      <td>25566.0</td>\n",
       "    </tr>\n",
       "    <tr>\n",
       "      <th>mean</th>\n",
       "      <td>0.460534</td>\n",
       "      <td>42.176954</td>\n",
       "      <td>2.283207e+05</td>\n",
       "      <td>43.739967</td>\n",
       "      <td>0.025346</td>\n",
       "      <td>0.159626</td>\n",
       "      <td>0.005163</td>\n",
       "      <td>0.016663</td>\n",
       "      <td>0.078033</td>\n",
       "      <td>0.018697</td>\n",
       "      <td>...</td>\n",
       "      <td>1.028593</td>\n",
       "      <td>1.023596e+06</td>\n",
       "      <td>7.758899</td>\n",
       "      <td>0.268903</td>\n",
       "      <td>2.524681</td>\n",
       "      <td>1.271337</td>\n",
       "      <td>4.952984</td>\n",
       "      <td>3.094774</td>\n",
       "      <td>2.066143</td>\n",
       "      <td>1.0</td>\n",
       "    </tr>\n",
       "    <tr>\n",
       "      <th>std</th>\n",
       "      <td>3.746044</td>\n",
       "      <td>12.618898</td>\n",
       "      <td>4.014766e+05</td>\n",
       "      <td>25.309977</td>\n",
       "      <td>0.185908</td>\n",
       "      <td>0.577415</td>\n",
       "      <td>0.076425</td>\n",
       "      <td>0.129526</td>\n",
       "      <td>0.304431</td>\n",
       "      <td>0.140278</td>\n",
       "      <td>...</td>\n",
       "      <td>1.320291</td>\n",
       "      <td>1.101143e+06</td>\n",
       "      <td>4.194787</td>\n",
       "      <td>0.323537</td>\n",
       "      <td>1.805049</td>\n",
       "      <td>1.019442</td>\n",
       "      <td>10.241778</td>\n",
       "      <td>8.258141</td>\n",
       "      <td>6.726320</td>\n",
       "      <td>0.0</td>\n",
       "    </tr>\n",
       "    <tr>\n",
       "      <th>min</th>\n",
       "      <td>0.000000</td>\n",
       "      <td>20.000000</td>\n",
       "      <td>-5.939236e+05</td>\n",
       "      <td>0.000000</td>\n",
       "      <td>0.000000</td>\n",
       "      <td>0.000000</td>\n",
       "      <td>0.000000</td>\n",
       "      <td>0.000000</td>\n",
       "      <td>0.000000</td>\n",
       "      <td>0.000000</td>\n",
       "      <td>...</td>\n",
       "      <td>0.000000</td>\n",
       "      <td>7.000000e+04</td>\n",
       "      <td>1.000000</td>\n",
       "      <td>-1.178420</td>\n",
       "      <td>0.000000</td>\n",
       "      <td>0.000000</td>\n",
       "      <td>0.000000</td>\n",
       "      <td>0.000000</td>\n",
       "      <td>0.000000</td>\n",
       "      <td>1.0</td>\n",
       "    </tr>\n",
       "    <tr>\n",
       "      <th>25%</th>\n",
       "      <td>0.000000</td>\n",
       "      <td>32.000000</td>\n",
       "      <td>0.000000e+00</td>\n",
       "      <td>21.000000</td>\n",
       "      <td>0.000000</td>\n",
       "      <td>0.000000</td>\n",
       "      <td>0.000000</td>\n",
       "      <td>0.000000</td>\n",
       "      <td>0.000000</td>\n",
       "      <td>0.000000</td>\n",
       "      <td>...</td>\n",
       "      <td>0.000000</td>\n",
       "      <td>3.710000e+05</td>\n",
       "      <td>4.000000</td>\n",
       "      <td>0.000000</td>\n",
       "      <td>1.000000</td>\n",
       "      <td>0.000000</td>\n",
       "      <td>0.000000</td>\n",
       "      <td>0.000000</td>\n",
       "      <td>0.000000</td>\n",
       "      <td>1.0</td>\n",
       "    </tr>\n",
       "    <tr>\n",
       "      <th>50%</th>\n",
       "      <td>0.000000</td>\n",
       "      <td>40.000000</td>\n",
       "      <td>9.100626e+04</td>\n",
       "      <td>44.000000</td>\n",
       "      <td>0.000000</td>\n",
       "      <td>0.000000</td>\n",
       "      <td>0.000000</td>\n",
       "      <td>0.000000</td>\n",
       "      <td>0.000000</td>\n",
       "      <td>0.000000</td>\n",
       "      <td>...</td>\n",
       "      <td>0.000000</td>\n",
       "      <td>5.880000e+05</td>\n",
       "      <td>6.000000</td>\n",
       "      <td>0.126393</td>\n",
       "      <td>3.000000</td>\n",
       "      <td>1.000000</td>\n",
       "      <td>0.000000</td>\n",
       "      <td>0.000000</td>\n",
       "      <td>0.000000</td>\n",
       "      <td>1.0</td>\n",
       "    </tr>\n",
       "    <tr>\n",
       "      <th>75%</th>\n",
       "      <td>0.000000</td>\n",
       "      <td>52.000000</td>\n",
       "      <td>2.944138e+05</td>\n",
       "      <td>64.000000</td>\n",
       "      <td>0.000000</td>\n",
       "      <td>0.000000</td>\n",
       "      <td>0.000000</td>\n",
       "      <td>0.000000</td>\n",
       "      <td>0.000000</td>\n",
       "      <td>0.000000</td>\n",
       "      <td>...</td>\n",
       "      <td>3.000000</td>\n",
       "      <td>1.260000e+06</td>\n",
       "      <td>12.000000</td>\n",
       "      <td>0.489981</td>\n",
       "      <td>4.000000</td>\n",
       "      <td>2.000000</td>\n",
       "      <td>5.000000</td>\n",
       "      <td>2.000000</td>\n",
       "      <td>0.000000</td>\n",
       "      <td>1.0</td>\n",
       "    </tr>\n",
       "    <tr>\n",
       "      <th>max</th>\n",
       "      <td>88.000000</td>\n",
       "      <td>91.000000</td>\n",
       "      <td>4.865636e+06</td>\n",
       "      <td>102.000000</td>\n",
       "      <td>6.000000</td>\n",
       "      <td>15.000000</td>\n",
       "      <td>2.000000</td>\n",
       "      <td>2.000000</td>\n",
       "      <td>5.000000</td>\n",
       "      <td>3.000000</td>\n",
       "      <td>...</td>\n",
       "      <td>3.000000</td>\n",
       "      <td>7.812000e+06</td>\n",
       "      <td>16.000000</td>\n",
       "      <td>7.836546</td>\n",
       "      <td>6.000000</td>\n",
       "      <td>3.000000</td>\n",
       "      <td>92.000000</td>\n",
       "      <td>92.000000</td>\n",
       "      <td>92.000000</td>\n",
       "      <td>1.0</td>\n",
       "    </tr>\n",
       "  </tbody>\n",
       "</table>\n",
       "<p>8 rows × 28 columns</p>\n",
       "</div>"
      ],
      "text/plain": [
       "             ATRASO          EDAD         SALDO    ANTIGUEDAD  \\\n",
       "count  25566.000000  25566.000000  2.556600e+04  25566.000000   \n",
       "mean       0.460534     42.176954  2.283207e+05     43.739967   \n",
       "std        3.746044     12.618898  4.014766e+05     25.309977   \n",
       "min        0.000000     20.000000 -5.939236e+05      0.000000   \n",
       "25%        0.000000     32.000000  0.000000e+00     21.000000   \n",
       "50%        0.000000     40.000000  9.100626e+04     44.000000   \n",
       "75%        0.000000     52.000000  2.944138e+05     64.000000   \n",
       "max       88.000000     91.000000  4.865636e+06    102.000000   \n",
       "\n",
       "       AJUSTE_PLAN_CUOTAS  CANCELACION_ANTICIPADA  INCONSISTENCIA_CTA  \\\n",
       "count        25566.000000            25566.000000        25566.000000   \n",
       "mean             0.025346                0.159626            0.005163   \n",
       "std              0.185908                0.577415            0.076425   \n",
       "min              0.000000                0.000000            0.000000   \n",
       "25%              0.000000                0.000000            0.000000   \n",
       "50%              0.000000                0.000000            0.000000   \n",
       "75%              0.000000                0.000000            0.000000   \n",
       "max              6.000000               15.000000            2.000000   \n",
       "\n",
       "       REVERSO_ADMCTA  REVERSO_CPMV  REVERSO_CPMV2  ...  SIN_SALDO_U3M  \\\n",
       "count    25566.000000  25566.000000   25566.000000  ...   25566.000000   \n",
       "mean         0.016663      0.078033       0.018697  ...       1.028593   \n",
       "std          0.129526      0.304431       0.140278  ...       1.320291   \n",
       "min          0.000000      0.000000       0.000000  ...       0.000000   \n",
       "25%          0.000000      0.000000       0.000000  ...       0.000000   \n",
       "50%          0.000000      0.000000       0.000000  ...       0.000000   \n",
       "75%          0.000000      0.000000       0.000000  ...       3.000000   \n",
       "max          2.000000      5.000000       3.000000  ...       3.000000   \n",
       "\n",
       "             LIMITE  RANGO_LIMITE         USO_0  BAJA_SALDO_U6M  \\\n",
       "count  2.556600e+04  25566.000000  25566.000000    25566.000000   \n",
       "mean   1.023596e+06      7.758899      0.268903        2.524681   \n",
       "std    1.101143e+06      4.194787      0.323537        1.805049   \n",
       "min    7.000000e+04      1.000000     -1.178420        0.000000   \n",
       "25%    3.710000e+05      4.000000      0.000000        1.000000   \n",
       "50%    5.880000e+05      6.000000      0.126393        3.000000   \n",
       "75%    1.260000e+06     12.000000      0.489981        4.000000   \n",
       "max    7.812000e+06     16.000000      7.836546        6.000000   \n",
       "\n",
       "       BAJA_SALDO_U3M  MAX_MORAU12M   MAX_MORAU6M   MAX_MORAU3M        Q  \n",
       "count    25566.000000  25566.000000  25566.000000  25566.000000  25566.0  \n",
       "mean         1.271337      4.952984      3.094774      2.066143      1.0  \n",
       "std          1.019442     10.241778      8.258141      6.726320      0.0  \n",
       "min          0.000000      0.000000      0.000000      0.000000      1.0  \n",
       "25%          0.000000      0.000000      0.000000      0.000000      1.0  \n",
       "50%          1.000000      0.000000      0.000000      0.000000      1.0  \n",
       "75%          2.000000      5.000000      2.000000      0.000000      1.0  \n",
       "max          3.000000     92.000000     92.000000     92.000000      1.0  \n",
       "\n",
       "[8 rows x 28 columns]"
      ]
     },
     "execution_count": 167,
     "metadata": {},
     "output_type": "execute_result"
    }
   ],
   "source": [
    "Sample6.describe()"
   ]
  },
  {
   "cell_type": "code",
   "execution_count": 168,
   "metadata": {},
   "outputs": [],
   "source": [
    "Sample7 = Sample6[(Sample6.USO_0 <=2 )]"
   ]
  },
  {
   "cell_type": "code",
   "execution_count": 169,
   "metadata": {},
   "outputs": [
    {
     "data": {
      "image/png": "[encoded data removed]",
      "text/plain": [
       "<Figure size 432x288 with 1 Axes>"
      ]
     },
     "metadata": {
      "needs_background": "light"
     },
     "output_type": "display_data"
    }
   ],
   "source": [
    "P3= Sample7['USO_0']\n",
    "plt.boxplot(P3,0,'gD')\n",
    "plt.show()"
   ]
  },
  {
   "cell_type": "code",
   "execution_count": 170,
   "metadata": {},
   "outputs": [
    {
     "data": {
      "text/html": [
       "<div>\n",
       "<style scoped>\n",
       "    .dataframe tbody tr th:only-of-type {\n",
       "        vertical-align: middle;\n",
       "    }\n",
       "\n",
       "    .dataframe tbody tr th {\n",
       "        vertical-align: top;\n",
       "    }\n",
       "\n",
       "    .dataframe thead th {\n",
       "        text-align: right;\n",
       "    }\n",
       "</style>\n",
       "<table border=\"1\" class=\"dataframe\">\n",
       "  <thead>\n",
       "    <tr style=\"text-align: right;\">\n",
       "      <th></th>\n",
       "      <th>ATRASO</th>\n",
       "      <th>EDAD</th>\n",
       "      <th>SALDO</th>\n",
       "      <th>ANTIGUEDAD</th>\n",
       "      <th>AJUSTE_PLAN_CUOTAS</th>\n",
       "      <th>CANCELACION_ANTICIPADA</th>\n",
       "      <th>INCONSISTENCIA_CTA</th>\n",
       "      <th>REVERSO_ADMCTA</th>\n",
       "      <th>REVERSO_CPMV</th>\n",
       "      <th>REVERSO_CPMV2</th>\n",
       "      <th>...</th>\n",
       "      <th>SIN_SALDO_U3M</th>\n",
       "      <th>LIMITE</th>\n",
       "      <th>RANGO_LIMITE</th>\n",
       "      <th>USO_0</th>\n",
       "      <th>BAJA_SALDO_U6M</th>\n",
       "      <th>BAJA_SALDO_U3M</th>\n",
       "      <th>MAX_MORAU12M</th>\n",
       "      <th>MAX_MORAU6M</th>\n",
       "      <th>MAX_MORAU3M</th>\n",
       "      <th>Q</th>\n",
       "    </tr>\n",
       "  </thead>\n",
       "  <tbody>\n",
       "    <tr>\n",
       "      <th>count</th>\n",
       "      <td>25561.000000</td>\n",
       "      <td>25561.000000</td>\n",
       "      <td>2.556100e+04</td>\n",
       "      <td>25561.000000</td>\n",
       "      <td>25561.000000</td>\n",
       "      <td>25561.000000</td>\n",
       "      <td>25561.000000</td>\n",
       "      <td>25561.000000</td>\n",
       "      <td>25561.000000</td>\n",
       "      <td>25561.000000</td>\n",
       "      <td>...</td>\n",
       "      <td>25561.000000</td>\n",
       "      <td>2.556100e+04</td>\n",
       "      <td>25561.000000</td>\n",
       "      <td>25561.000000</td>\n",
       "      <td>25561.000000</td>\n",
       "      <td>25561.000000</td>\n",
       "      <td>25561.000000</td>\n",
       "      <td>25561.000000</td>\n",
       "      <td>25561.000000</td>\n",
       "      <td>25561.0</td>\n",
       "    </tr>\n",
       "    <tr>\n",
       "      <th>mean</th>\n",
       "      <td>0.460624</td>\n",
       "      <td>42.177966</td>\n",
       "      <td>2.279663e+05</td>\n",
       "      <td>43.742733</td>\n",
       "      <td>0.025351</td>\n",
       "      <td>0.159501</td>\n",
       "      <td>0.005164</td>\n",
       "      <td>0.016666</td>\n",
       "      <td>0.078049</td>\n",
       "      <td>0.018700</td>\n",
       "      <td>...</td>\n",
       "      <td>1.028755</td>\n",
       "      <td>1.023693e+06</td>\n",
       "      <td>7.759282</td>\n",
       "      <td>0.268187</td>\n",
       "      <td>2.524588</td>\n",
       "      <td>1.271273</td>\n",
       "      <td>4.953288</td>\n",
       "      <td>3.094715</td>\n",
       "      <td>2.065882</td>\n",
       "      <td>1.0</td>\n",
       "    </tr>\n",
       "    <tr>\n",
       "      <th>std</th>\n",
       "      <td>3.746405</td>\n",
       "      <td>12.619385</td>\n",
       "      <td>4.004287e+05</td>\n",
       "      <td>25.311091</td>\n",
       "      <td>0.185926</td>\n",
       "      <td>0.576968</td>\n",
       "      <td>0.076432</td>\n",
       "      <td>0.129538</td>\n",
       "      <td>0.304459</td>\n",
       "      <td>0.140291</td>\n",
       "      <td>...</td>\n",
       "      <td>1.320357</td>\n",
       "      <td>1.101225e+06</td>\n",
       "      <td>4.195020</td>\n",
       "      <td>0.317994</td>\n",
       "      <td>1.805170</td>\n",
       "      <td>1.019432</td>\n",
       "      <td>10.242582</td>\n",
       "      <td>8.258731</td>\n",
       "      <td>6.726687</td>\n",
       "      <td>0.0</td>\n",
       "    </tr>\n",
       "    <tr>\n",
       "      <th>min</th>\n",
       "      <td>0.000000</td>\n",
       "      <td>20.000000</td>\n",
       "      <td>-5.939236e+05</td>\n",
       "      <td>0.000000</td>\n",
       "      <td>0.000000</td>\n",
       "      <td>0.000000</td>\n",
       "      <td>0.000000</td>\n",
       "      <td>0.000000</td>\n",
       "      <td>0.000000</td>\n",
       "      <td>0.000000</td>\n",
       "      <td>...</td>\n",
       "      <td>0.000000</td>\n",
       "      <td>7.000000e+04</td>\n",
       "      <td>1.000000</td>\n",
       "      <td>-1.178420</td>\n",
       "      <td>0.000000</td>\n",
       "      <td>0.000000</td>\n",
       "      <td>0.000000</td>\n",
       "      <td>0.000000</td>\n",
       "      <td>0.000000</td>\n",
       "      <td>1.0</td>\n",
       "    </tr>\n",
       "    <tr>\n",
       "      <th>25%</th>\n",
       "      <td>0.000000</td>\n",
       "      <td>32.000000</td>\n",
       "      <td>0.000000e+00</td>\n",
       "      <td>21.000000</td>\n",
       "      <td>0.000000</td>\n",
       "      <td>0.000000</td>\n",
       "      <td>0.000000</td>\n",
       "      <td>0.000000</td>\n",
       "      <td>0.000000</td>\n",
       "      <td>0.000000</td>\n",
       "      <td>...</td>\n",
       "      <td>0.000000</td>\n",
       "      <td>3.710000e+05</td>\n",
       "      <td>4.000000</td>\n",
       "      <td>0.000000</td>\n",
       "      <td>1.000000</td>\n",
       "      <td>0.000000</td>\n",
       "      <td>0.000000</td>\n",
       "      <td>0.000000</td>\n",
       "      <td>0.000000</td>\n",
       "      <td>1.0</td>\n",
       "    </tr>\n",
       "    <tr>\n",
       "      <th>50%</th>\n",
       "      <td>0.000000</td>\n",
       "      <td>40.000000</td>\n",
       "      <td>9.095194e+04</td>\n",
       "      <td>44.000000</td>\n",
       "      <td>0.000000</td>\n",
       "      <td>0.000000</td>\n",
       "      <td>0.000000</td>\n",
       "      <td>0.000000</td>\n",
       "      <td>0.000000</td>\n",
       "      <td>0.000000</td>\n",
       "      <td>...</td>\n",
       "      <td>0.000000</td>\n",
       "      <td>5.880000e+05</td>\n",
       "      <td>6.000000</td>\n",
       "      <td>0.126382</td>\n",
       "      <td>3.000000</td>\n",
       "      <td>1.000000</td>\n",
       "      <td>0.000000</td>\n",
       "      <td>0.000000</td>\n",
       "      <td>0.000000</td>\n",
       "      <td>1.0</td>\n",
       "    </tr>\n",
       "    <tr>\n",
       "      <th>75%</th>\n",
       "      <td>0.000000</td>\n",
       "      <td>52.000000</td>\n",
       "      <td>2.942649e+05</td>\n",
       "      <td>64.000000</td>\n",
       "      <td>0.000000</td>\n",
       "      <td>0.000000</td>\n",
       "      <td>0.000000</td>\n",
       "      <td>0.000000</td>\n",
       "      <td>0.000000</td>\n",
       "      <td>0.000000</td>\n",
       "      <td>...</td>\n",
       "      <td>3.000000</td>\n",
       "      <td>1.260000e+06</td>\n",
       "      <td>12.000000</td>\n",
       "      <td>0.489604</td>\n",
       "      <td>4.000000</td>\n",
       "      <td>2.000000</td>\n",
       "      <td>5.000000</td>\n",
       "      <td>2.000000</td>\n",
       "      <td>0.000000</td>\n",
       "      <td>1.0</td>\n",
       "    </tr>\n",
       "    <tr>\n",
       "      <th>max</th>\n",
       "      <td>88.000000</td>\n",
       "      <td>91.000000</td>\n",
       "      <td>4.865636e+06</td>\n",
       "      <td>102.000000</td>\n",
       "      <td>6.000000</td>\n",
       "      <td>15.000000</td>\n",
       "      <td>2.000000</td>\n",
       "      <td>2.000000</td>\n",
       "      <td>5.000000</td>\n",
       "      <td>3.000000</td>\n",
       "      <td>...</td>\n",
       "      <td>3.000000</td>\n",
       "      <td>7.812000e+06</td>\n",
       "      <td>16.000000</td>\n",
       "      <td>1.999083</td>\n",
       "      <td>6.000000</td>\n",
       "      <td>3.000000</td>\n",
       "      <td>92.000000</td>\n",
       "      <td>92.000000</td>\n",
       "      <td>92.000000</td>\n",
       "      <td>1.0</td>\n",
       "    </tr>\n",
       "  </tbody>\n",
       "</table>\n",
       "<p>8 rows × 28 columns</p>\n",
       "</div>"
      ],
      "text/plain": [
       "             ATRASO          EDAD         SALDO    ANTIGUEDAD  \\\n",
       "count  25561.000000  25561.000000  2.556100e+04  25561.000000   \n",
       "mean       0.460624     42.177966  2.279663e+05     43.742733   \n",
       "std        3.746405     12.619385  4.004287e+05     25.311091   \n",
       "min        0.000000     20.000000 -5.939236e+05      0.000000   \n",
       "25%        0.000000     32.000000  0.000000e+00     21.000000   \n",
       "50%        0.000000     40.000000  9.095194e+04     44.000000   \n",
       "75%        0.000000     52.000000  2.942649e+05     64.000000   \n",
       "max       88.000000     91.000000  4.865636e+06    102.000000   \n",
       "\n",
       "       AJUSTE_PLAN_CUOTAS  CANCELACION_ANTICIPADA  INCONSISTENCIA_CTA  \\\n",
       "count        25561.000000            25561.000000        25561.000000   \n",
       "mean             0.025351                0.159501            0.005164   \n",
       "std              0.185926                0.576968            0.076432   \n",
       "min              0.000000                0.000000            0.000000   \n",
       "25%              0.000000                0.000000            0.000000   \n",
       "50%              0.000000                0.000000            0.000000   \n",
       "75%              0.000000                0.000000            0.000000   \n",
       "max              6.000000               15.000000            2.000000   \n",
       "\n",
       "       REVERSO_ADMCTA  REVERSO_CPMV  REVERSO_CPMV2  ...  SIN_SALDO_U3M  \\\n",
       "count    25561.000000  25561.000000   25561.000000  ...   25561.000000   \n",
       "mean         0.016666      0.078049       0.018700  ...       1.028755   \n",
       "std          0.129538      0.304459       0.140291  ...       1.320357   \n",
       "min          0.000000      0.000000       0.000000  ...       0.000000   \n",
       "25%          0.000000      0.000000       0.000000  ...       0.000000   \n",
       "50%          0.000000      0.000000       0.000000  ...       0.000000   \n",
       "75%          0.000000      0.000000       0.000000  ...       3.000000   \n",
       "max          2.000000      5.000000       3.000000  ...       3.000000   \n",
       "\n",
       "             LIMITE  RANGO_LIMITE         USO_0  BAJA_SALDO_U6M  \\\n",
       "count  2.556100e+04  25561.000000  25561.000000    25561.000000   \n",
       "mean   1.023693e+06      7.759282      0.268187        2.524588   \n",
       "std    1.101225e+06      4.195020      0.317994        1.805170   \n",
       "min    7.000000e+04      1.000000     -1.178420        0.000000   \n",
       "25%    3.710000e+05      4.000000      0.000000        1.000000   \n",
       "50%    5.880000e+05      6.000000      0.126382        3.000000   \n",
       "75%    1.260000e+06     12.000000      0.489604        4.000000   \n",
       "max    7.812000e+06     16.000000      1.999083        6.000000   \n",
       "\n",
       "       BAJA_SALDO_U3M  MAX_MORAU12M   MAX_MORAU6M   MAX_MORAU3M        Q  \n",
       "count    25561.000000  25561.000000  25561.000000  25561.000000  25561.0  \n",
       "mean         1.271273      4.953288      3.094715      2.065882      1.0  \n",
       "std          1.019432     10.242582      8.258731      6.726687      0.0  \n",
       "min          0.000000      0.000000      0.000000      0.000000      1.0  \n",
       "25%          0.000000      0.000000      0.000000      0.000000      1.0  \n",
       "50%          1.000000      0.000000      0.000000      0.000000      1.0  \n",
       "75%          2.000000      5.000000      2.000000      0.000000      1.0  \n",
       "max          3.000000     92.000000     92.000000     92.000000      1.0  \n",
       "\n",
       "[8 rows x 28 columns]"
      ]
     },
     "execution_count": 170,
     "metadata": {},
     "output_type": "execute_result"
    }
   ],
   "source": [
    "Sample7.describe()"
   ]
  },
  {
   "cell_type": "code",
   "execution_count": 171,
   "metadata": {},
   "outputs": [
    {
     "name": "stdout",
     "output_type": "stream",
     "text": [
      "<class 'pandas.core.frame.DataFrame'>\n",
      "Int64Index: 25561 entries, 0 to 26692\n",
      "Data columns (total 52 columns):\n",
      "ATRASO                    25561 non-null int64\n",
      "EDAD                      25561 non-null int64\n",
      "SALDO                     25561 non-null float64\n",
      "SIN_SALDO_HOY             25561 non-null object\n",
      "ANTIGUEDAD                25561 non-null int64\n",
      "referencia_rescate        2629 non-null object\n",
      "MARCA_RESCATE             25561 non-null object\n",
      "TARJETA_ACTIVA            25561 non-null object\n",
      "sexo                      25561 non-null object\n",
      "estado_civil              25561 non-null object\n",
      "tipo_ingreso              10753 non-null object\n",
      "AJUSTE_PLAN_CUOTAS        25561 non-null int64\n",
      "CANCELACION_ANTICIPADA    25561 non-null int64\n",
      "ERROR_PAGO_SERVICIOS      25561 non-null object\n",
      "INCONSISTENCIA_CTA        25561 non-null int64\n",
      "PAGO_INCORRECTO           25561 non-null object\n",
      "REVERSO_ADMCTA            25561 non-null int64\n",
      "REVERSO_CPMV              25561 non-null int64\n",
      "REVERSO_CPMV2             25561 non-null int64\n",
      "REVERSO_EDC               25561 non-null object\n",
      "REVERSO_INTERESES         25561 non-null int64\n",
      "SUMA_QUEJAS               25561 non-null int64\n",
      "MARCA_QUEJAS              25561 non-null object\n",
      "MONETARY                  25561 non-null float64\n",
      "FREQUENCY                 25561 non-null int64\n",
      "RECENCY                   25561 non-null int64\n",
      "Q_MONETARY                25561 non-null object\n",
      "Q_FREQUENCY               25561 non-null object\n",
      "Q_RECENCY                 25561 non-null object\n",
      "CUOTA_MAXIMA              25561 non-null int64\n",
      "SIN_SALDO_U12M            25561 non-null int64\n",
      "SIN_SALDO_U6M             25561 non-null int64\n",
      "SIN_SALDO_U3M             25561 non-null int64\n",
      "MARCA_SIN_SALDO_U12M      25561 non-null object\n",
      "MARCA_SIN_SALDO_U6M       25561 non-null object\n",
      "MARCA_SIN_SALDO_U3M       25561 non-null object\n",
      "LIMITE                    25561 non-null float64\n",
      "RANGO_LIMITE              25561 non-null int64\n",
      "USO_0                     25561 non-null float64\n",
      "BAJA_SALDO_U6M            25561 non-null int64\n",
      "BAJA_SALDO_U3M            25561 non-null int64\n",
      "MARCA_BAJA_U6M            25561 non-null object\n",
      "MARCA_BAJA_U3M            25561 non-null object\n",
      "MARCA_CONGELADA           25561 non-null object\n",
      "NACIONAL                  25561 non-null object\n",
      "MAX_MORAU12M              25561 non-null int64\n",
      "MAX_MORAU6M               25561 non-null int64\n",
      "MAX_MORAU3M               25561 non-null int64\n",
      "AREA_RIESGO               25561 non-null object\n",
      "PROVINCIA                 25561 non-null object\n",
      "MARCA_SOLTERO             25561 non-null object\n",
      "Q                         25561 non-null int64\n",
      "dtypes: float64(4), int64(24), object(24)\n",
      "memory usage: 10.3+ MB\n"
     ]
    }
   ],
   "source": [
    "Sample7.info()"
   ]
  },
  {
   "cell_type": "code",
   "execution_count": 172,
   "metadata": {},
   "outputs": [],
   "source": [
    "Sample8=Sample7.filter([\"ATRASO\", \"EDAD\", \"SALDO\", \"SIN_SALDO_HOY\", \"ANTIGUEDAD\", \"sexo\", \"AJUSTE_PLAN_CUOTAS\",\n",
    "                \"CANCELACION_ANTICIPADA\", \"REVERSO_ADMCTA\", \"REVERSO_CPMV\", \"REVERSO_CPMV2\",\"REVERSO_INTERESES\",\"SUMA_QUEJAS\",\n",
    "                \"MONETARY\", \"FREQUENCY\", \"RECENCY\", \"Q_MONETARY\", \"Q_FREQUENCY\", \"Q_RECENCY\", \"CUOTA_MAXIMA\", \"SIN_SALDO_U12M\",\n",
    "                \"SIN_SALDO_U6M\", \"SIN_SALDO_U3M\",\"LIMITE\",\"USO_0\",\"BAJA_SALDO_U6M\",\"BAJA_SALDO_U3M\",\"MARCA_CONGELADA\",\n",
    "                \"MAX_MORAU12M\",\"MAX_MORAU6M\",\"MAX_MORAU3M\",\"AREA_RIESGO\",\"MARCA_SOLTERO\",\"MARCA_QUEJAS\",\"MARCA_SIN_SALDO_U12M\",\n",
    "                \"MARCA_SIN_SALDO_U6M\",\"MARCA_SIN_SALDO_U3M\",\"MARCA_BAJA_U6M\",\"MARCA_BAJA_U3M\",\"TARJETA_ACTIVA\",\"MARCA_RESCATE\"])"
   ]
  },
  {
   "cell_type": "code",
   "execution_count": 173,
   "metadata": {},
   "outputs": [],
   "source": [
    "#Se excluyen variables donde la mayoría de los clientes presentan el mismo valor, como en la variable \"Nacional\". \n",
    "#También campos tipo de ingreso, donde más de un 50% mostraba valores en blanco."
   ]
  },
  {
   "cell_type": "code",
   "execution_count": 174,
   "metadata": {},
   "outputs": [
    {
     "name": "stdout",
     "output_type": "stream",
     "text": [
      "<class 'pandas.core.frame.DataFrame'>\n",
      "Int64Index: 25561 entries, 0 to 26692\n",
      "Data columns (total 41 columns):\n",
      "ATRASO                    25561 non-null int64\n",
      "EDAD                      25561 non-null int64\n",
      "SALDO                     25561 non-null float64\n",
      "SIN_SALDO_HOY             25561 non-null object\n",
      "ANTIGUEDAD                25561 non-null int64\n",
      "sexo                      25561 non-null object\n",
      "AJUSTE_PLAN_CUOTAS        25561 non-null int64\n",
      "CANCELACION_ANTICIPADA    25561 non-null int64\n",
      "REVERSO_ADMCTA            25561 non-null int64\n",
      "REVERSO_CPMV              25561 non-null int64\n",
      "REVERSO_CPMV2             25561 non-null int64\n",
      "REVERSO_INTERESES         25561 non-null int64\n",
      "SUMA_QUEJAS               25561 non-null int64\n",
      "MONETARY                  25561 non-null float64\n",
      "FREQUENCY                 25561 non-null int64\n",
      "RECENCY                   25561 non-null int64\n",
      "Q_MONETARY                25561 non-null object\n",
      "Q_FREQUENCY               25561 non-null object\n",
      "Q_RECENCY                 25561 non-null object\n",
      "CUOTA_MAXIMA              25561 non-null int64\n",
      "SIN_SALDO_U12M            25561 non-null int64\n",
      "SIN_SALDO_U6M             25561 non-null int64\n",
      "SIN_SALDO_U3M             25561 non-null int64\n",
      "LIMITE                    25561 non-null float64\n",
      "USO_0                     25561 non-null float64\n",
      "BAJA_SALDO_U6M            25561 non-null int64\n",
      "BAJA_SALDO_U3M            25561 non-null int64\n",
      "MARCA_CONGELADA           25561 non-null object\n",
      "MAX_MORAU12M              25561 non-null int64\n",
      "MAX_MORAU6M               25561 non-null int64\n",
      "MAX_MORAU3M               25561 non-null int64\n",
      "AREA_RIESGO               25561 non-null object\n",
      "MARCA_SOLTERO             25561 non-null object\n",
      "MARCA_QUEJAS              25561 non-null object\n",
      "MARCA_SIN_SALDO_U12M      25561 non-null object\n",
      "MARCA_SIN_SALDO_U6M       25561 non-null object\n",
      "MARCA_SIN_SALDO_U3M       25561 non-null object\n",
      "MARCA_BAJA_U6M            25561 non-null object\n",
      "MARCA_BAJA_U3M            25561 non-null object\n",
      "TARJETA_ACTIVA            25561 non-null object\n",
      "MARCA_RESCATE             25561 non-null object\n",
      "dtypes: float64(4), int64(21), object(16)\n",
      "memory usage: 8.2+ MB\n"
     ]
    }
   ],
   "source": [
    "Sample8.info()"
   ]
  },
  {
   "cell_type": "code",
   "execution_count": 175,
   "metadata": {},
   "outputs": [],
   "source": [
    "Base1=Sample8.filter([\"ATRASO\", \"EDAD\", \"SALDO\", \"ANTIGUEDAD\", \"sexo\", \"AJUSTE_PLAN_CUOTAS\",\"CANCELACION_ANTICIPADA\",\n",
    "                \"REVERSO_ADMCTA\", \"REVERSO_CPMV\", \"REVERSO_CPMV2\",\"REVERSO_INTERESES\",\"MONETARY\", \"FREQUENCY\", \"RECENCY\",\n",
    "                \"CUOTA_MAXIMA\", \"SIN_SALDO_U6M\",\"LIMITE\",\"BAJA_SALDO_U6M\",\"MARCA_CONGELADA\",\"MAX_MORAU6M\",\"AREA_RIESGO\",\n",
    "                \"MARCA_SOLTERO\",\"TARJETA_ACTIVA\",\"MARCA_RESCATE\"])"
   ]
  },
  {
   "cell_type": "code",
   "execution_count": 176,
   "metadata": {},
   "outputs": [],
   "source": [
    "#En esta primera base previo a probar los modelos, se excluyen variables con correlaciones altas entre ellas, \n",
    "#ya sean positivas o negativas."
   ]
  },
  {
   "cell_type": "code",
   "execution_count": 177,
   "metadata": {},
   "outputs": [
    {
     "name": "stdout",
     "output_type": "stream",
     "text": [
      "<class 'pandas.core.frame.DataFrame'>\n",
      "Int64Index: 25561 entries, 0 to 26692\n",
      "Data columns (total 24 columns):\n",
      "ATRASO                    25561 non-null int64\n",
      "EDAD                      25561 non-null int64\n",
      "SALDO                     25561 non-null float64\n",
      "ANTIGUEDAD                25561 non-null int64\n",
      "sexo                      25561 non-null object\n",
      "AJUSTE_PLAN_CUOTAS        25561 non-null int64\n",
      "CANCELACION_ANTICIPADA    25561 non-null int64\n",
      "REVERSO_ADMCTA            25561 non-null int64\n",
      "REVERSO_CPMV              25561 non-null int64\n",
      "REVERSO_CPMV2             25561 non-null int64\n",
      "REVERSO_INTERESES         25561 non-null int64\n",
      "MONETARY                  25561 non-null float64\n",
      "FREQUENCY                 25561 non-null int64\n",
      "RECENCY                   25561 non-null int64\n",
      "CUOTA_MAXIMA              25561 non-null int64\n",
      "SIN_SALDO_U6M             25561 non-null int64\n",
      "LIMITE                    25561 non-null float64\n",
      "BAJA_SALDO_U6M            25561 non-null int64\n",
      "MARCA_CONGELADA           25561 non-null object\n",
      "MAX_MORAU6M               25561 non-null int64\n",
      "AREA_RIESGO               25561 non-null object\n",
      "MARCA_SOLTERO             25561 non-null object\n",
      "TARJETA_ACTIVA            25561 non-null object\n",
      "MARCA_RESCATE             25561 non-null object\n",
      "dtypes: float64(3), int64(15), object(6)\n",
      "memory usage: 4.9+ MB\n"
     ]
    }
   ],
   "source": [
    "Base1.info()"
   ]
  },
  {
   "cell_type": "code",
   "execution_count": 178,
   "metadata": {},
   "outputs": [],
   "source": [
    "#features\n",
    "features = Base1.iloc[:,0:23]"
   ]
  },
  {
   "cell_type": "code",
   "execution_count": 179,
   "metadata": {},
   "outputs": [],
   "source": [
    "#dependent variable\n",
    "depVar = Base1['MARCA_RESCATE']"
   ]
  },
  {
   "cell_type": "code",
   "execution_count": 182,
   "metadata": {},
   "outputs": [],
   "source": [
    "#Training Set (Feature Space: X Training)\n",
    "X_train = (features[0:17893])"
   ]
  },
  {
   "cell_type": "code",
   "execution_count": 183,
   "metadata": {},
   "outputs": [],
   "source": [
    "#Dependent Variable Training Set (y Training)\n",
    "Y_train = depVar[0:17893]"
   ]
  },
  {
   "cell_type": "code",
   "execution_count": 184,
   "metadata": {},
   "outputs": [],
   "source": [
    "#Testing Set (X Testing)\n",
    "X_test = features[17893:25561]"
   ]
  },
  {
   "cell_type": "code",
   "execution_count": 185,
   "metadata": {},
   "outputs": [],
   "source": [
    "#Ground Truth (y_test) \n",
    "Y_test = depVar[17893:25561]"
   ]
  },
  {
   "cell_type": "code",
   "execution_count": 186,
   "metadata": {},
   "outputs": [
    {
     "data": {
      "text/plain": [
       "((17893, 23), (7668, 23))"
      ]
     },
     "execution_count": 186,
     "metadata": {},
     "output_type": "execute_result"
    }
   ],
   "source": [
    "X_train.shape, X_test.shape"
   ]
  },
  {
   "cell_type": "code",
   "execution_count": 187,
   "metadata": {},
   "outputs": [],
   "source": [
    "modeltree = tree.DecisionTreeClassifier()"
   ]
  },
  {
   "cell_type": "code",
   "execution_count": 188,
   "metadata": {},
   "outputs": [],
   "source": [
    "modeltree_train = modeltree.fit(X_train, Y_train)"
   ]
  },
  {
   "cell_type": "code",
   "execution_count": 189,
   "metadata": {},
   "outputs": [
    {
     "data": {
      "text/plain": [
       "DecisionTreeClassifier(class_weight=None, criterion='gini', max_depth=None,\n",
       "                       max_features=None, max_leaf_nodes=None,\n",
       "                       min_impurity_decrease=0.0, min_impurity_split=None,\n",
       "                       min_samples_leaf=1, min_samples_split=2,\n",
       "                       min_weight_fraction_leaf=0.0, presort=False,\n",
       "                       random_state=None, splitter='best')"
      ]
     },
     "execution_count": 189,
     "metadata": {},
     "output_type": "execute_result"
    }
   ],
   "source": [
    "modeltree_train"
   ]
  },
  {
   "cell_type": "code",
   "execution_count": 190,
   "metadata": {},
   "outputs": [],
   "source": [
    "modelsvm = svm.SVC(kernel='rbf')"
   ]
  },
  {
   "cell_type": "code",
   "execution_count": 191,
   "metadata": {},
   "outputs": [
    {
     "name": "stderr",
     "output_type": "stream",
     "text": [
      "c:\\users\\tgarita\\appdata\\local\\programs\\python\\python37\\lib\\site-packages\\sklearn\\svm\\base.py:193: FutureWarning: The default value of gamma will change from 'auto' to 'scale' in version 0.22 to account better for unscaled features. Set gamma explicitly to 'auto' or 'scale' to avoid this warning.\n",
      "  \"avoid this warning.\", FutureWarning)\n"
     ]
    }
   ],
   "source": [
    "modelsvm_train = modelsvm.fit(X_train, Y_train)"
   ]
  },
  {
   "cell_type": "code",
   "execution_count": 192,
   "metadata": {},
   "outputs": [
    {
     "data": {
      "text/plain": [
       "SVC(C=1.0, cache_size=200, class_weight=None, coef0=0.0,\n",
       "    decision_function_shape='ovr', degree=3, gamma='auto_deprecated',\n",
       "    kernel='rbf', max_iter=-1, probability=False, random_state=None,\n",
       "    shrinking=True, tol=0.001, verbose=False)"
      ]
     },
     "execution_count": 192,
     "metadata": {},
     "output_type": "execute_result"
    }
   ],
   "source": [
    "modelsvm"
   ]
  },
  {
   "cell_type": "code",
   "execution_count": 193,
   "metadata": {},
   "outputs": [],
   "source": [
    "modeldecisiontree = DecisionTreeClassifier(random_state=0)"
   ]
  },
  {
   "cell_type": "code",
   "execution_count": 194,
   "metadata": {},
   "outputs": [],
   "source": [
    "modeldecisiontree_train = modeldecisiontree.fit(X_train, Y_train)"
   ]
  },
  {
   "cell_type": "code",
   "execution_count": 195,
   "metadata": {},
   "outputs": [
    {
     "data": {
      "text/plain": [
       "DecisionTreeClassifier(class_weight=None, criterion='gini', max_depth=None,\n",
       "                       max_features=None, max_leaf_nodes=None,\n",
       "                       min_impurity_decrease=0.0, min_impurity_split=None,\n",
       "                       min_samples_leaf=1, min_samples_split=2,\n",
       "                       min_weight_fraction_leaf=0.0, presort=False,\n",
       "                       random_state=0, splitter='best')"
      ]
     },
     "execution_count": 195,
     "metadata": {},
     "output_type": "execute_result"
    }
   ],
   "source": [
    "modeldecisiontree"
   ]
  },
  {
   "cell_type": "code",
   "execution_count": 196,
   "metadata": {},
   "outputs": [],
   "source": [
    "modelgradient = SGDClassifier(loss=\"hinge\", penalty=\"l2\", max_iter=400)"
   ]
  },
  {
   "cell_type": "code",
   "execution_count": 197,
   "metadata": {},
   "outputs": [],
   "source": [
    "modelgradient_train = modelgradient.fit(X_train, Y_train)"
   ]
  },
  {
   "cell_type": "code",
   "execution_count": 198,
   "metadata": {},
   "outputs": [
    {
     "data": {
      "text/plain": [
       "SGDClassifier(alpha=0.0001, average=False, class_weight=None,\n",
       "              early_stopping=False, epsilon=0.1, eta0=0.0, fit_intercept=True,\n",
       "              l1_ratio=0.15, learning_rate='optimal', loss='hinge',\n",
       "              max_iter=400, n_iter_no_change=5, n_jobs=None, penalty='l2',\n",
       "              power_t=0.5, random_state=None, shuffle=True, tol=0.001,\n",
       "              validation_fraction=0.1, verbose=0, warm_start=False)"
      ]
     },
     "execution_count": 198,
     "metadata": {},
     "output_type": "execute_result"
    }
   ],
   "source": [
    "modelgradient"
   ]
  },
  {
   "cell_type": "code",
   "execution_count": 199,
   "metadata": {},
   "outputs": [],
   "source": [
    "modellogistic = LogisticRegression(max_iter=300, random_state=0, solver='lbfgs')"
   ]
  },
  {
   "cell_type": "code",
   "execution_count": 200,
   "metadata": {},
   "outputs": [],
   "source": [
    "modellogistic_train = modellogistic.fit(X_train, Y_train)"
   ]
  },
  {
   "cell_type": "code",
   "execution_count": 201,
   "metadata": {},
   "outputs": [
    {
     "data": {
      "text/plain": [
       "LogisticRegression(C=1.0, class_weight=None, dual=False, fit_intercept=True,\n",
       "                   intercept_scaling=1, l1_ratio=None, max_iter=300,\n",
       "                   multi_class='warn', n_jobs=None, penalty='l2',\n",
       "                   random_state=0, solver='lbfgs', tol=0.0001, verbose=0,\n",
       "                   warm_start=False)"
      ]
     },
     "execution_count": 201,
     "metadata": {},
     "output_type": "execute_result"
    }
   ],
   "source": [
    "modellogistic"
   ]
  },
  {
   "cell_type": "code",
   "execution_count": 202,
   "metadata": {},
   "outputs": [],
   "source": [
    "modelrandomf = RandomForestClassifier(n_estimators=400, random_state=0)"
   ]
  },
  {
   "cell_type": "code",
   "execution_count": 203,
   "metadata": {},
   "outputs": [],
   "source": [
    "modelrandomf_train = modelrandomf.fit(X_train, Y_train)"
   ]
  },
  {
   "cell_type": "code",
   "execution_count": 204,
   "metadata": {},
   "outputs": [
    {
     "data": {
      "text/plain": [
       "RandomForestClassifier(bootstrap=True, class_weight=None, criterion='gini',\n",
       "                       max_depth=None, max_features='auto', max_leaf_nodes=None,\n",
       "                       min_impurity_decrease=0.0, min_impurity_split=None,\n",
       "                       min_samples_leaf=1, min_samples_split=2,\n",
       "                       min_weight_fraction_leaf=0.0, n_estimators=400,\n",
       "                       n_jobs=None, oob_score=False, random_state=0, verbose=0,\n",
       "                       warm_start=False)"
      ]
     },
     "execution_count": 204,
     "metadata": {},
     "output_type": "execute_result"
    }
   ],
   "source": [
    "modelrandomf"
   ]
  },
  {
   "cell_type": "code",
   "execution_count": 205,
   "metadata": {},
   "outputs": [],
   "source": [
    "modelnet = MLPClassifier(solver='lbfgs', alpha=1e-5, random_state=0, max_iter=300)"
   ]
  },
  {
   "cell_type": "code",
   "execution_count": 206,
   "metadata": {},
   "outputs": [],
   "source": [
    "modelnet_train = modelnet.fit(X_train, Y_train)"
   ]
  },
  {
   "cell_type": "code",
   "execution_count": 207,
   "metadata": {},
   "outputs": [
    {
     "data": {
      "text/plain": [
       "MLPClassifier(activation='relu', alpha=1e-05, batch_size='auto', beta_1=0.9,\n",
       "              beta_2=0.999, early_stopping=False, epsilon=1e-08,\n",
       "              hidden_layer_sizes=(100,), learning_rate='constant',\n",
       "              learning_rate_init=0.001, max_iter=300, momentum=0.9,\n",
       "              n_iter_no_change=10, nesterovs_momentum=True, power_t=0.5,\n",
       "              random_state=0, shuffle=True, solver='lbfgs', tol=0.0001,\n",
       "              validation_fraction=0.1, verbose=False, warm_start=False)"
      ]
     },
     "execution_count": 207,
     "metadata": {},
     "output_type": "execute_result"
    }
   ],
   "source": [
    "modelnet"
   ]
  },
  {
   "cell_type": "code",
   "execution_count": 208,
   "metadata": {},
   "outputs": [
    {
     "name": "stderr",
     "output_type": "stream",
     "text": [
      "c:\\users\\tgarita\\appdata\\local\\programs\\python\\python37\\lib\\site-packages\\sklearn\\model_selection\\_split.py:1978: FutureWarning: The default value of cv will change from 3 to 5 in version 0.22. Specify it explicitly to silence this warning.\n",
      "  warnings.warn(CV_WARNING, FutureWarning)\n"
     ]
    },
    {
     "name": "stdout",
     "output_type": "stream",
     "text": [
      "[0.88901928 0.65157612 0.63464118]\n"
     ]
    }
   ],
   "source": [
    "#choosing the right model\n",
    "print(cross_val_score(modeltree, X_train, Y_train))"
   ]
  },
  {
   "cell_type": "code",
   "execution_count": 209,
   "metadata": {},
   "outputs": [
    {
     "name": "stderr",
     "output_type": "stream",
     "text": [
      "c:\\users\\tgarita\\appdata\\local\\programs\\python\\python37\\lib\\site-packages\\sklearn\\model_selection\\_split.py:1978: FutureWarning: The default value of cv will change from 3 to 5 in version 0.22. Specify it explicitly to silence this warning.\n",
      "  warnings.warn(CV_WARNING, FutureWarning)\n",
      "c:\\users\\tgarita\\appdata\\local\\programs\\python\\python37\\lib\\site-packages\\sklearn\\svm\\base.py:193: FutureWarning: The default value of gamma will change from 'auto' to 'scale' in version 0.22 to account better for unscaled features. Set gamma explicitly to 'auto' or 'scale' to avoid this warning.\n",
      "  \"avoid this warning.\", FutureWarning)\n",
      "c:\\users\\tgarita\\appdata\\local\\programs\\python\\python37\\lib\\site-packages\\sklearn\\svm\\base.py:193: FutureWarning: The default value of gamma will change from 'auto' to 'scale' in version 0.22 to account better for unscaled features. Set gamma explicitly to 'auto' or 'scale' to avoid this warning.\n",
      "  \"avoid this warning.\", FutureWarning)\n",
      "c:\\users\\tgarita\\appdata\\local\\programs\\python\\python37\\lib\\site-packages\\sklearn\\svm\\base.py:193: FutureWarning: The default value of gamma will change from 'auto' to 'scale' in version 0.22 to account better for unscaled features. Set gamma explicitly to 'auto' or 'scale' to avoid this warning.\n",
      "  \"avoid this warning.\", FutureWarning)\n"
     ]
    },
    {
     "name": "stdout",
     "output_type": "stream",
     "text": [
      "[0.90829841 0.90794769 0.90677398]\n"
     ]
    }
   ],
   "source": [
    "print(cross_val_score(modelsvm, X_train, Y_train))"
   ]
  },
  {
   "cell_type": "code",
   "execution_count": 210,
   "metadata": {},
   "outputs": [
    {
     "name": "stderr",
     "output_type": "stream",
     "text": [
      "c:\\users\\tgarita\\appdata\\local\\programs\\python\\python37\\lib\\site-packages\\sklearn\\model_selection\\_split.py:1978: FutureWarning: The default value of cv will change from 3 to 5 in version 0.22. Specify it explicitly to silence this warning.\n",
      "  warnings.warn(CV_WARNING, FutureWarning)\n"
     ]
    },
    {
     "name": "stdout",
     "output_type": "stream",
     "text": [
      "[0.90829841 0.90828303 0.90828303]\n"
     ]
    }
   ],
   "source": [
    "print(cross_val_score(modellogistic, X_train, Y_train))"
   ]
  },
  {
   "cell_type": "code",
   "execution_count": 211,
   "metadata": {},
   "outputs": [
    {
     "name": "stderr",
     "output_type": "stream",
     "text": [
      "c:\\users\\tgarita\\appdata\\local\\programs\\python\\python37\\lib\\site-packages\\sklearn\\model_selection\\_split.py:1978: FutureWarning: The default value of cv will change from 3 to 5 in version 0.22. Specify it explicitly to silence this warning.\n",
      "  warnings.warn(CV_WARNING, FutureWarning)\n"
     ]
    },
    {
     "name": "stdout",
     "output_type": "stream",
     "text": [
      "[0.88868399 0.65073776 0.65945674]\n"
     ]
    }
   ],
   "source": [
    "print(cross_val_score(modeldecisiontree, X_train, Y_train))"
   ]
  },
  {
   "cell_type": "code",
   "execution_count": 212,
   "metadata": {},
   "outputs": [
    {
     "name": "stderr",
     "output_type": "stream",
     "text": [
      "c:\\users\\tgarita\\appdata\\local\\programs\\python\\python37\\lib\\site-packages\\sklearn\\model_selection\\_split.py:1978: FutureWarning: The default value of cv will change from 3 to 5 in version 0.22. Specify it explicitly to silence this warning.\n",
      "  warnings.warn(CV_WARNING, FutureWarning)\n"
     ]
    },
    {
     "name": "stdout",
     "output_type": "stream",
     "text": [
      "[0.90813076 0.60311871 0.90828303]\n"
     ]
    }
   ],
   "source": [
    "print(cross_val_score(modelgradient, X_train, Y_train))"
   ]
  },
  {
   "cell_type": "code",
   "execution_count": 213,
   "metadata": {},
   "outputs": [
    {
     "name": "stderr",
     "output_type": "stream",
     "text": [
      "c:\\users\\tgarita\\appdata\\local\\programs\\python\\python37\\lib\\site-packages\\sklearn\\model_selection\\_split.py:1978: FutureWarning: The default value of cv will change from 3 to 5 in version 0.22. Specify it explicitly to silence this warning.\n",
      "  warnings.warn(CV_WARNING, FutureWarning)\n"
     ]
    },
    {
     "name": "stdout",
     "output_type": "stream",
     "text": [
      "[0.90829841 0.90828303 0.90828303]\n"
     ]
    }
   ],
   "source": [
    "print(cross_val_score(modellogistic, X_train, Y_train))"
   ]
  },
  {
   "cell_type": "code",
   "execution_count": 214,
   "metadata": {},
   "outputs": [
    {
     "name": "stderr",
     "output_type": "stream",
     "text": [
      "c:\\users\\tgarita\\appdata\\local\\programs\\python\\python37\\lib\\site-packages\\sklearn\\model_selection\\_split.py:1978: FutureWarning: The default value of cv will change from 3 to 5 in version 0.22. Specify it explicitly to silence this warning.\n",
      "  warnings.warn(CV_WARNING, FutureWarning)\n"
     ]
    },
    {
     "name": "stdout",
     "output_type": "stream",
     "text": [
      "[0.90829841 0.90761234 0.60680751]\n"
     ]
    }
   ],
   "source": [
    "print(cross_val_score(modelrandomf, X_train, Y_train))"
   ]
  },
  {
   "cell_type": "code",
   "execution_count": 215,
   "metadata": {},
   "outputs": [
    {
     "name": "stderr",
     "output_type": "stream",
     "text": [
      "c:\\users\\tgarita\\appdata\\local\\programs\\python\\python37\\lib\\site-packages\\sklearn\\model_selection\\_split.py:1978: FutureWarning: The default value of cv will change from 3 to 5 in version 0.22. Specify it explicitly to silence this warning.\n",
      "  warnings.warn(CV_WARNING, FutureWarning)\n"
     ]
    },
    {
     "name": "stdout",
     "output_type": "stream",
     "text": [
      "[0.86906957 0.86955064 0.85077129]\n"
     ]
    }
   ],
   "source": [
    "print(cross_val_score(modelnet, X_train, Y_train))"
   ]
  },
  {
   "cell_type": "code",
   "execution_count": 216,
   "metadata": {},
   "outputs": [
    {
     "data": {
      "text/plain": [
       "0.9997205611132846"
      ]
     },
     "execution_count": 216,
     "metadata": {},
     "output_type": "execute_result"
    }
   ],
   "source": [
    "modeltree.score(X_train,Y_train)"
   ]
  },
  {
   "cell_type": "code",
   "execution_count": 217,
   "metadata": {},
   "outputs": [
    {
     "data": {
      "text/plain": [
       "0.9851897390040798"
      ]
     },
     "execution_count": 217,
     "metadata": {},
     "output_type": "execute_result"
    }
   ],
   "source": [
    "modelsvm.score(X_train,Y_train)"
   ]
  },
  {
   "cell_type": "code",
   "execution_count": 218,
   "metadata": {},
   "outputs": [
    {
     "data": {
      "text/plain": [
       "0.9997205611132846"
      ]
     },
     "execution_count": 218,
     "metadata": {},
     "output_type": "execute_result"
    }
   ],
   "source": [
    "modeldecisiontree.score(X_train,Y_train)"
   ]
  },
  {
   "cell_type": "code",
   "execution_count": 219,
   "metadata": {},
   "outputs": [
    {
     "data": {
      "text/plain": [
       "0.9082322696026379"
      ]
     },
     "execution_count": 219,
     "metadata": {},
     "output_type": "execute_result"
    }
   ],
   "source": [
    "modelgradient.score(X_train,Y_train)"
   ]
  },
  {
   "cell_type": "code",
   "execution_count": 220,
   "metadata": {},
   "outputs": [
    {
     "data": {
      "text/plain": [
       "0.908288157379981"
      ]
     },
     "execution_count": 220,
     "metadata": {},
     "output_type": "execute_result"
    }
   ],
   "source": [
    "modellogistic.score(X_train,Y_train)"
   ]
  },
  {
   "cell_type": "code",
   "execution_count": 221,
   "metadata": {},
   "outputs": [
    {
     "data": {
      "text/plain": [
       "0.9997205611132846"
      ]
     },
     "execution_count": 221,
     "metadata": {},
     "output_type": "execute_result"
    }
   ],
   "source": [
    "modelrandomf.score(X_train,Y_train)"
   ]
  },
  {
   "cell_type": "code",
   "execution_count": 222,
   "metadata": {},
   "outputs": [
    {
     "data": {
      "text/plain": [
       "0.5763147599619963"
      ]
     },
     "execution_count": 222,
     "metadata": {},
     "output_type": "execute_result"
    }
   ],
   "source": [
    "modelnet.score(X_train,Y_train)"
   ]
  },
  {
   "cell_type": "code",
   "execution_count": 223,
   "metadata": {},
   "outputs": [],
   "source": [
    "predictionstree = modeltree.predict(X_test)"
   ]
  },
  {
   "cell_type": "code",
   "execution_count": 224,
   "metadata": {},
   "outputs": [],
   "source": [
    "# Creating the confusion matrix\n",
    "cm = metrics.confusion_matrix(Y_test, predictionstree)"
   ]
  },
  {
   "cell_type": "code",
   "execution_count": 225,
   "metadata": {},
   "outputs": [],
   "source": [
    "cm_df = pd.DataFrame(cm, \n",
    "            columns = ['Predicted Negative', 'Predicted Positive'],\n",
    "            index = ['Actual Negative', 'Actual Positive'])"
   ]
  },
  {
   "cell_type": "code",
   "execution_count": 226,
   "metadata": {},
   "outputs": [
    {
     "data": {
      "text/html": [
       "<div>\n",
       "<style scoped>\n",
       "    .dataframe tbody tr th:only-of-type {\n",
       "        vertical-align: middle;\n",
       "    }\n",
       "\n",
       "    .dataframe tbody tr th {\n",
       "        vertical-align: top;\n",
       "    }\n",
       "\n",
       "    .dataframe thead th {\n",
       "        text-align: right;\n",
       "    }\n",
       "</style>\n",
       "<table border=\"1\" class=\"dataframe\">\n",
       "  <thead>\n",
       "    <tr style=\"text-align: right;\">\n",
       "      <th></th>\n",
       "      <th>Predicted Negative</th>\n",
       "      <th>Predicted Positive</th>\n",
       "    </tr>\n",
       "  </thead>\n",
       "  <tbody>\n",
       "    <tr>\n",
       "      <th>Actual Negative</th>\n",
       "      <td>4620</td>\n",
       "      <td>2060</td>\n",
       "    </tr>\n",
       "    <tr>\n",
       "      <th>Actual Positive</th>\n",
       "      <td>681</td>\n",
       "      <td>307</td>\n",
       "    </tr>\n",
       "  </tbody>\n",
       "</table>\n",
       "</div>"
      ],
      "text/plain": [
       "                 Predicted Negative  Predicted Positive\n",
       "Actual Negative                4620                2060\n",
       "Actual Positive                 681                 307"
      ]
     },
     "execution_count": 226,
     "metadata": {},
     "output_type": "execute_result"
    }
   ],
   "source": [
    "cm_df"
   ]
  },
  {
   "cell_type": "code",
   "execution_count": 227,
   "metadata": {},
   "outputs": [],
   "source": [
    "predictionssvm = modelsvm.predict(X_test)"
   ]
  },
  {
   "cell_type": "code",
   "execution_count": 228,
   "metadata": {},
   "outputs": [],
   "source": [
    "cmsvm = metrics.confusion_matrix(Y_test, predictionssvm)"
   ]
  },
  {
   "cell_type": "code",
   "execution_count": 229,
   "metadata": {},
   "outputs": [],
   "source": [
    "cmsvm_df = pd.DataFrame(cmsvm, \n",
    "            columns = ['Predicted Negative', 'Predicted Positive'],\n",
    "            index = ['Actual Negative', 'Actual Positive'])"
   ]
  },
  {
   "cell_type": "code",
   "execution_count": 230,
   "metadata": {},
   "outputs": [
    {
     "data": {
      "text/html": [
       "<div>\n",
       "<style scoped>\n",
       "    .dataframe tbody tr th:only-of-type {\n",
       "        vertical-align: middle;\n",
       "    }\n",
       "\n",
       "    .dataframe tbody tr th {\n",
       "        vertical-align: top;\n",
       "    }\n",
       "\n",
       "    .dataframe thead th {\n",
       "        text-align: right;\n",
       "    }\n",
       "</style>\n",
       "<table border=\"1\" class=\"dataframe\">\n",
       "  <thead>\n",
       "    <tr style=\"text-align: right;\">\n",
       "      <th></th>\n",
       "      <th>Predicted Negative</th>\n",
       "      <th>Predicted Positive</th>\n",
       "    </tr>\n",
       "  </thead>\n",
       "  <tbody>\n",
       "    <tr>\n",
       "      <th>Actual Negative</th>\n",
       "      <td>6680</td>\n",
       "      <td>0</td>\n",
       "    </tr>\n",
       "    <tr>\n",
       "      <th>Actual Positive</th>\n",
       "      <td>988</td>\n",
       "      <td>0</td>\n",
       "    </tr>\n",
       "  </tbody>\n",
       "</table>\n",
       "</div>"
      ],
      "text/plain": [
       "                 Predicted Negative  Predicted Positive\n",
       "Actual Negative                6680                   0\n",
       "Actual Positive                 988                   0"
      ]
     },
     "execution_count": 230,
     "metadata": {},
     "output_type": "execute_result"
    }
   ],
   "source": [
    "cmsvm_df"
   ]
  },
  {
   "cell_type": "code",
   "execution_count": 231,
   "metadata": {},
   "outputs": [],
   "source": [
    "predictionsdecisiontree = modeldecisiontree.predict(X_test)"
   ]
  },
  {
   "cell_type": "code",
   "execution_count": 232,
   "metadata": {},
   "outputs": [],
   "source": [
    "cmdecisiontree = metrics.confusion_matrix(Y_test, predictionsdecisiontree)"
   ]
  },
  {
   "cell_type": "code",
   "execution_count": 233,
   "metadata": {},
   "outputs": [],
   "source": [
    "cmdecisiontree_df = pd.DataFrame(cmdecisiontree, \n",
    "            columns = ['Predicted Negative', 'Predicted Positive'],\n",
    "            index = ['Actual Negative', 'Actual Positive'])"
   ]
  },
  {
   "cell_type": "code",
   "execution_count": 234,
   "metadata": {},
   "outputs": [
    {
     "data": {
      "text/html": [
       "<div>\n",
       "<style scoped>\n",
       "    .dataframe tbody tr th:only-of-type {\n",
       "        vertical-align: middle;\n",
       "    }\n",
       "\n",
       "    .dataframe tbody tr th {\n",
       "        vertical-align: top;\n",
       "    }\n",
       "\n",
       "    .dataframe thead th {\n",
       "        text-align: right;\n",
       "    }\n",
       "</style>\n",
       "<table border=\"1\" class=\"dataframe\">\n",
       "  <thead>\n",
       "    <tr style=\"text-align: right;\">\n",
       "      <th></th>\n",
       "      <th>Predicted Negative</th>\n",
       "      <th>Predicted Positive</th>\n",
       "    </tr>\n",
       "  </thead>\n",
       "  <tbody>\n",
       "    <tr>\n",
       "      <th>Actual Negative</th>\n",
       "      <td>4672</td>\n",
       "      <td>2008</td>\n",
       "    </tr>\n",
       "    <tr>\n",
       "      <th>Actual Positive</th>\n",
       "      <td>692</td>\n",
       "      <td>296</td>\n",
       "    </tr>\n",
       "  </tbody>\n",
       "</table>\n",
       "</div>"
      ],
      "text/plain": [
       "                 Predicted Negative  Predicted Positive\n",
       "Actual Negative                4672                2008\n",
       "Actual Positive                 692                 296"
      ]
     },
     "execution_count": 234,
     "metadata": {},
     "output_type": "execute_result"
    }
   ],
   "source": [
    "cmdecisiontree_df"
   ]
  },
  {
   "cell_type": "code",
   "execution_count": 235,
   "metadata": {},
   "outputs": [],
   "source": [
    "predictionsgradient = modelgradient.predict(X_test)"
   ]
  },
  {
   "cell_type": "code",
   "execution_count": 236,
   "metadata": {},
   "outputs": [],
   "source": [
    "cmgradient = metrics.confusion_matrix(Y_test, predictionsgradient)"
   ]
  },
  {
   "cell_type": "code",
   "execution_count": 237,
   "metadata": {},
   "outputs": [],
   "source": [
    "cmgradient_df = pd.DataFrame(cmgradient, \n",
    "            columns = ['Predicted Negative', 'Predicted Positive'],\n",
    "            index = ['Actual Negative', 'Actual Positive'])"
   ]
  },
  {
   "cell_type": "code",
   "execution_count": 238,
   "metadata": {},
   "outputs": [
    {
     "data": {
      "text/html": [
       "<div>\n",
       "<style scoped>\n",
       "    .dataframe tbody tr th:only-of-type {\n",
       "        vertical-align: middle;\n",
       "    }\n",
       "\n",
       "    .dataframe tbody tr th {\n",
       "        vertical-align: top;\n",
       "    }\n",
       "\n",
       "    .dataframe thead th {\n",
       "        text-align: right;\n",
       "    }\n",
       "</style>\n",
       "<table border=\"1\" class=\"dataframe\">\n",
       "  <thead>\n",
       "    <tr style=\"text-align: right;\">\n",
       "      <th></th>\n",
       "      <th>Predicted Negative</th>\n",
       "      <th>Predicted Positive</th>\n",
       "    </tr>\n",
       "  </thead>\n",
       "  <tbody>\n",
       "    <tr>\n",
       "      <th>Actual Negative</th>\n",
       "      <td>6680</td>\n",
       "      <td>0</td>\n",
       "    </tr>\n",
       "    <tr>\n",
       "      <th>Actual Positive</th>\n",
       "      <td>988</td>\n",
       "      <td>0</td>\n",
       "    </tr>\n",
       "  </tbody>\n",
       "</table>\n",
       "</div>"
      ],
      "text/plain": [
       "                 Predicted Negative  Predicted Positive\n",
       "Actual Negative                6680                   0\n",
       "Actual Positive                 988                   0"
      ]
     },
     "execution_count": 238,
     "metadata": {},
     "output_type": "execute_result"
    }
   ],
   "source": [
    "cmgradient_df"
   ]
  },
  {
   "cell_type": "code",
   "execution_count": 239,
   "metadata": {},
   "outputs": [],
   "source": [
    "predictionslogistic = modellogistic.predict(X_test)"
   ]
  },
  {
   "cell_type": "code",
   "execution_count": 240,
   "metadata": {},
   "outputs": [],
   "source": [
    "cmlogistic = metrics.confusion_matrix(Y_test, predictionslogistic)"
   ]
  },
  {
   "cell_type": "code",
   "execution_count": 241,
   "metadata": {},
   "outputs": [],
   "source": [
    "cmlogistic_df = pd.DataFrame(cmlogistic, \n",
    "            columns = ['Predicted Negative', 'Predicted Positive'],\n",
    "            index = ['Actual Negative', 'Actual Positive'])"
   ]
  },
  {
   "cell_type": "code",
   "execution_count": 242,
   "metadata": {},
   "outputs": [
    {
     "data": {
      "text/html": [
       "<div>\n",
       "<style scoped>\n",
       "    .dataframe tbody tr th:only-of-type {\n",
       "        vertical-align: middle;\n",
       "    }\n",
       "\n",
       "    .dataframe tbody tr th {\n",
       "        vertical-align: top;\n",
       "    }\n",
       "\n",
       "    .dataframe thead th {\n",
       "        text-align: right;\n",
       "    }\n",
       "</style>\n",
       "<table border=\"1\" class=\"dataframe\">\n",
       "  <thead>\n",
       "    <tr style=\"text-align: right;\">\n",
       "      <th></th>\n",
       "      <th>Predicted Negative</th>\n",
       "      <th>Predicted Positive</th>\n",
       "    </tr>\n",
       "  </thead>\n",
       "  <tbody>\n",
       "    <tr>\n",
       "      <th>Actual Negative</th>\n",
       "      <td>6680</td>\n",
       "      <td>0</td>\n",
       "    </tr>\n",
       "    <tr>\n",
       "      <th>Actual Positive</th>\n",
       "      <td>988</td>\n",
       "      <td>0</td>\n",
       "    </tr>\n",
       "  </tbody>\n",
       "</table>\n",
       "</div>"
      ],
      "text/plain": [
       "                 Predicted Negative  Predicted Positive\n",
       "Actual Negative                6680                   0\n",
       "Actual Positive                 988                   0"
      ]
     },
     "execution_count": 242,
     "metadata": {},
     "output_type": "execute_result"
    }
   ],
   "source": [
    "cmlogistic_df"
   ]
  },
  {
   "cell_type": "code",
   "execution_count": 243,
   "metadata": {},
   "outputs": [],
   "source": [
    "predictionsrandom = modelrandomf.predict(X_test)"
   ]
  },
  {
   "cell_type": "code",
   "execution_count": 244,
   "metadata": {},
   "outputs": [],
   "source": [
    "cmrandom = metrics.confusion_matrix(Y_test, predictionsrandom)"
   ]
  },
  {
   "cell_type": "code",
   "execution_count": 245,
   "metadata": {},
   "outputs": [],
   "source": [
    "cmrandom_df = pd.DataFrame(cmrandom, \n",
    "            columns = ['Predicted Negative', 'Predicted Positive'],\n",
    "            index = ['Actual Negative', 'Actual Positive'])"
   ]
  },
  {
   "cell_type": "code",
   "execution_count": 246,
   "metadata": {},
   "outputs": [
    {
     "data": {
      "text/html": [
       "<div>\n",
       "<style scoped>\n",
       "    .dataframe tbody tr th:only-of-type {\n",
       "        vertical-align: middle;\n",
       "    }\n",
       "\n",
       "    .dataframe tbody tr th {\n",
       "        vertical-align: top;\n",
       "    }\n",
       "\n",
       "    .dataframe thead th {\n",
       "        text-align: right;\n",
       "    }\n",
       "</style>\n",
       "<table border=\"1\" class=\"dataframe\">\n",
       "  <thead>\n",
       "    <tr style=\"text-align: right;\">\n",
       "      <th></th>\n",
       "      <th>Predicted Negative</th>\n",
       "      <th>Predicted Positive</th>\n",
       "    </tr>\n",
       "  </thead>\n",
       "  <tbody>\n",
       "    <tr>\n",
       "      <th>Actual Negative</th>\n",
       "      <td>6611</td>\n",
       "      <td>69</td>\n",
       "    </tr>\n",
       "    <tr>\n",
       "      <th>Actual Positive</th>\n",
       "      <td>871</td>\n",
       "      <td>117</td>\n",
       "    </tr>\n",
       "  </tbody>\n",
       "</table>\n",
       "</div>"
      ],
      "text/plain": [
       "                 Predicted Negative  Predicted Positive\n",
       "Actual Negative                6611                  69\n",
       "Actual Positive                 871                 117"
      ]
     },
     "execution_count": 246,
     "metadata": {},
     "output_type": "execute_result"
    }
   ],
   "source": [
    "cmrandom_df"
   ]
  },
  {
   "cell_type": "code",
   "execution_count": 247,
   "metadata": {},
   "outputs": [],
   "source": [
    "predictionsnet = modelnet.predict(X_test)"
   ]
  },
  {
   "cell_type": "code",
   "execution_count": 248,
   "metadata": {},
   "outputs": [],
   "source": [
    "cmnet = metrics.confusion_matrix(Y_test, predictionsnet)"
   ]
  },
  {
   "cell_type": "code",
   "execution_count": 249,
   "metadata": {},
   "outputs": [],
   "source": [
    "cmnet_df = pd.DataFrame(cmnet, \n",
    "            columns = ['Predicted Negative', 'Predicted Positive'],\n",
    "            index = ['Actual Negative', 'Actual Positive'])"
   ]
  },
  {
   "cell_type": "code",
   "execution_count": 250,
   "metadata": {},
   "outputs": [
    {
     "data": {
      "text/html": [
       "<div>\n",
       "<style scoped>\n",
       "    .dataframe tbody tr th:only-of-type {\n",
       "        vertical-align: middle;\n",
       "    }\n",
       "\n",
       "    .dataframe tbody tr th {\n",
       "        vertical-align: top;\n",
       "    }\n",
       "\n",
       "    .dataframe thead th {\n",
       "        text-align: right;\n",
       "    }\n",
       "</style>\n",
       "<table border=\"1\" class=\"dataframe\">\n",
       "  <thead>\n",
       "    <tr style=\"text-align: right;\">\n",
       "      <th></th>\n",
       "      <th>Predicted Negative</th>\n",
       "      <th>Predicted Positive</th>\n",
       "    </tr>\n",
       "  </thead>\n",
       "  <tbody>\n",
       "    <tr>\n",
       "      <th>Actual Negative</th>\n",
       "      <td>4512</td>\n",
       "      <td>2168</td>\n",
       "    </tr>\n",
       "    <tr>\n",
       "      <th>Actual Positive</th>\n",
       "      <td>747</td>\n",
       "      <td>241</td>\n",
       "    </tr>\n",
       "  </tbody>\n",
       "</table>\n",
       "</div>"
      ],
      "text/plain": [
       "                 Predicted Negative  Predicted Positive\n",
       "Actual Negative                4512                2168\n",
       "Actual Positive                 747                 241"
      ]
     },
     "execution_count": 250,
     "metadata": {},
     "output_type": "execute_result"
    }
   ],
   "source": [
    "cmnet_df"
   ]
  },
  {
   "cell_type": "code",
   "execution_count": 251,
   "metadata": {},
   "outputs": [],
   "source": [
    "Base2=Sample8.filter([\"ATRASO\", \"EDAD\", \"SALDO\", \"ANTIGUEDAD\", \"sexo\", \"SUMA_QUEJAS\",\"MONETARY\", \"FREQUENCY\", \"RECENCY\",\n",
    "                \"CUOTA_MAXIMA\", \"SIN_SALDO_U12M\",\"LIMITE\",\"BAJA_SALDO_U6M\",\"MARCA_CONGELADA\",\"MAX_MORAU12M\",\"AREA_RIESGO\",\n",
    "                \"MARCA_SOLTERO\",\"TARJETA_ACTIVA\",\"MARCA_RESCATE\"])"
   ]
  },
  {
   "cell_type": "code",
   "execution_count": 252,
   "metadata": {},
   "outputs": [
    {
     "name": "stdout",
     "output_type": "stream",
     "text": [
      "<class 'pandas.core.frame.DataFrame'>\n",
      "Int64Index: 25561 entries, 0 to 26692\n",
      "Data columns (total 19 columns):\n",
      "ATRASO             25561 non-null int64\n",
      "EDAD               25561 non-null int64\n",
      "SALDO              25561 non-null float64\n",
      "ANTIGUEDAD         25561 non-null int64\n",
      "sexo               25561 non-null object\n",
      "SUMA_QUEJAS        25561 non-null int64\n",
      "MONETARY           25561 non-null float64\n",
      "FREQUENCY          25561 non-null int64\n",
      "RECENCY            25561 non-null int64\n",
      "CUOTA_MAXIMA       25561 non-null int64\n",
      "SIN_SALDO_U12M     25561 non-null int64\n",
      "LIMITE             25561 non-null float64\n",
      "BAJA_SALDO_U6M     25561 non-null int64\n",
      "MARCA_CONGELADA    25561 non-null object\n",
      "MAX_MORAU12M       25561 non-null int64\n",
      "AREA_RIESGO        25561 non-null object\n",
      "MARCA_SOLTERO      25561 non-null object\n",
      "TARJETA_ACTIVA     25561 non-null object\n",
      "MARCA_RESCATE      25561 non-null object\n",
      "dtypes: float64(3), int64(10), object(6)\n",
      "memory usage: 3.9+ MB\n"
     ]
    }
   ],
   "source": [
    "Base2.info()"
   ]
  },
  {
   "cell_type": "code",
   "execution_count": 253,
   "metadata": {},
   "outputs": [],
   "source": [
    "#features\n",
    "features2 = Base2.iloc[:,0:18]"
   ]
  },
  {
   "cell_type": "code",
   "execution_count": 254,
   "metadata": {},
   "outputs": [],
   "source": [
    "#dependent variable\n",
    "depVar2 = Base2['MARCA_RESCATE']"
   ]
  },
  {
   "cell_type": "code",
   "execution_count": 255,
   "metadata": {},
   "outputs": [],
   "source": [
    "X_train2 = (features2[0:17893])"
   ]
  },
  {
   "cell_type": "code",
   "execution_count": 256,
   "metadata": {},
   "outputs": [],
   "source": [
    "Y_train2 = depVar2[0:17893]"
   ]
  },
  {
   "cell_type": "code",
   "execution_count": 257,
   "metadata": {},
   "outputs": [],
   "source": [
    "X_test2 = features2[17893:25561]"
   ]
  },
  {
   "cell_type": "code",
   "execution_count": 258,
   "metadata": {},
   "outputs": [],
   "source": [
    "Y_test2 = depVar2[17893:25561]"
   ]
  },
  {
   "cell_type": "code",
   "execution_count": 259,
   "metadata": {},
   "outputs": [
    {
     "data": {
      "text/plain": [
       "((17893, 18), (7668, 18))"
      ]
     },
     "execution_count": 259,
     "metadata": {},
     "output_type": "execute_result"
    }
   ],
   "source": [
    "X_train2.shape, X_test2.shape"
   ]
  },
  {
   "cell_type": "code",
   "execution_count": 260,
   "metadata": {},
   "outputs": [],
   "source": [
    "modeltree_train2 = modeltree.fit(X_train2, Y_train2)"
   ]
  },
  {
   "cell_type": "code",
   "execution_count": 261,
   "metadata": {},
   "outputs": [],
   "source": [
    "modeldecisiontree_train2 = modeldecisiontree.fit(X_train2, Y_train2)"
   ]
  },
  {
   "cell_type": "code",
   "execution_count": 262,
   "metadata": {},
   "outputs": [],
   "source": [
    "modelgradient_train2 = modelgradient.fit(X_train2, Y_train2)"
   ]
  },
  {
   "cell_type": "code",
   "execution_count": 263,
   "metadata": {},
   "outputs": [],
   "source": [
    "modelrandomf_train2 = modelrandomf.fit(X_train2, Y_train2)"
   ]
  },
  {
   "cell_type": "code",
   "execution_count": 264,
   "metadata": {},
   "outputs": [],
   "source": [
    "modelnet_train2 = modelnet.fit(X_train2, Y_train2)"
   ]
  },
  {
   "cell_type": "code",
   "execution_count": 265,
   "metadata": {},
   "outputs": [
    {
     "name": "stderr",
     "output_type": "stream",
     "text": [
      "c:\\users\\tgarita\\appdata\\local\\programs\\python\\python37\\lib\\site-packages\\sklearn\\model_selection\\_split.py:1978: FutureWarning: The default value of cv will change from 3 to 5 in version 0.22. Specify it explicitly to silence this warning.\n",
      "  warnings.warn(CV_WARNING, FutureWarning)\n"
     ]
    },
    {
     "name": "stdout",
     "output_type": "stream",
     "text": [
      "[0.89019279 0.63615023 0.66431925]\n"
     ]
    }
   ],
   "source": [
    "print(cross_val_score(modeltree, X_train2, Y_train2))"
   ]
  },
  {
   "cell_type": "code",
   "execution_count": 266,
   "metadata": {},
   "outputs": [
    {
     "name": "stderr",
     "output_type": "stream",
     "text": [
      "c:\\users\\tgarita\\appdata\\local\\programs\\python\\python37\\lib\\site-packages\\sklearn\\model_selection\\_split.py:1978: FutureWarning: The default value of cv will change from 3 to 5 in version 0.22. Specify it explicitly to silence this warning.\n",
      "  warnings.warn(CV_WARNING, FutureWarning)\n"
     ]
    },
    {
     "name": "stdout",
     "output_type": "stream",
     "text": [
      "[0.88466052 0.64973172 0.66515761]\n"
     ]
    }
   ],
   "source": [
    "print(cross_val_score(modeldecisiontree, X_train2, Y_train2))"
   ]
  },
  {
   "cell_type": "code",
   "execution_count": 267,
   "metadata": {},
   "outputs": [
    {
     "name": "stderr",
     "output_type": "stream",
     "text": [
      "c:\\users\\tgarita\\appdata\\local\\programs\\python\\python37\\lib\\site-packages\\sklearn\\model_selection\\_split.py:1978: FutureWarning: The default value of cv will change from 3 to 5 in version 0.22. Specify it explicitly to silence this warning.\n",
      "  warnings.warn(CV_WARNING, FutureWarning)\n"
     ]
    },
    {
     "name": "stdout",
     "output_type": "stream",
     "text": [
      "[0.90746018 0.90744467 0.9084507 ]\n"
     ]
    }
   ],
   "source": [
    "print(cross_val_score(modelgradient, X_train2, Y_train2))"
   ]
  },
  {
   "cell_type": "code",
   "execution_count": 268,
   "metadata": {},
   "outputs": [
    {
     "name": "stderr",
     "output_type": "stream",
     "text": [
      "c:\\users\\tgarita\\appdata\\local\\programs\\python\\python37\\lib\\site-packages\\sklearn\\model_selection\\_split.py:1978: FutureWarning: The default value of cv will change from 3 to 5 in version 0.22. Specify it explicitly to silence this warning.\n",
      "  warnings.warn(CV_WARNING, FutureWarning)\n"
     ]
    },
    {
     "name": "stdout",
     "output_type": "stream",
     "text": [
      "[0.90796312 0.9102951  0.61653253]\n"
     ]
    }
   ],
   "source": [
    "print(cross_val_score(modelrandomf, X_train2, Y_train2))"
   ]
  },
  {
   "cell_type": "code",
   "execution_count": 269,
   "metadata": {},
   "outputs": [
    {
     "name": "stderr",
     "output_type": "stream",
     "text": [
      "c:\\users\\tgarita\\appdata\\local\\programs\\python\\python37\\lib\\site-packages\\sklearn\\model_selection\\_split.py:1978: FutureWarning: The default value of cv will change from 3 to 5 in version 0.22. Specify it explicitly to silence this warning.\n",
      "  warnings.warn(CV_WARNING, FutureWarning)\n"
     ]
    },
    {
     "name": "stdout",
     "output_type": "stream",
     "text": [
      "[0.78843252 0.73289738 0.75285044]\n"
     ]
    }
   ],
   "source": [
    "print(cross_val_score(modelnet, X_train2, Y_train2))"
   ]
  },
  {
   "cell_type": "code",
   "execution_count": 270,
   "metadata": {},
   "outputs": [
    {
     "data": {
      "text/plain": [
       "0.9998323366679707"
      ]
     },
     "execution_count": 270,
     "metadata": {},
     "output_type": "execute_result"
    }
   ],
   "source": [
    "modeltree.score(X_train2,Y_train2)"
   ]
  },
  {
   "cell_type": "code",
   "execution_count": 271,
   "metadata": {},
   "outputs": [
    {
     "data": {
      "text/plain": [
       "0.9998323366679707"
      ]
     },
     "execution_count": 271,
     "metadata": {},
     "output_type": "execute_result"
    }
   ],
   "source": [
    "modeldecisiontree.score(X_train2,Y_train2)"
   ]
  },
  {
   "cell_type": "code",
   "execution_count": 272,
   "metadata": {},
   "outputs": [
    {
     "data": {
      "text/plain": [
       "0.47582853629911137"
      ]
     },
     "execution_count": 272,
     "metadata": {},
     "output_type": "execute_result"
    }
   ],
   "source": [
    "modelgradient.score(X_train2,Y_train2)"
   ]
  },
  {
   "cell_type": "code",
   "execution_count": 273,
   "metadata": {},
   "outputs": [
    {
     "data": {
      "text/plain": [
       "0.9998323366679707"
      ]
     },
     "execution_count": 273,
     "metadata": {},
     "output_type": "execute_result"
    }
   ],
   "source": [
    "modelrandomf.score(X_train2,Y_train2)"
   ]
  },
  {
   "cell_type": "code",
   "execution_count": 274,
   "metadata": {},
   "outputs": [
    {
     "data": {
      "text/plain": [
       "0.7558263007880177"
      ]
     },
     "execution_count": 274,
     "metadata": {},
     "output_type": "execute_result"
    }
   ],
   "source": [
    "modelnet.score(X_train2,Y_train2)"
   ]
  },
  {
   "cell_type": "code",
   "execution_count": 275,
   "metadata": {},
   "outputs": [],
   "source": [
    "predictionstree2 = modeltree.predict(X_test2)"
   ]
  },
  {
   "cell_type": "code",
   "execution_count": 276,
   "metadata": {},
   "outputs": [],
   "source": [
    "cm2 = metrics.confusion_matrix(Y_test2, predictionstree2)"
   ]
  },
  {
   "cell_type": "code",
   "execution_count": 277,
   "metadata": {},
   "outputs": [],
   "source": [
    "cm_df2 = pd.DataFrame(cm2, \n",
    "            columns = ['Predicted Negative', 'Predicted Positive'],\n",
    "            index = ['Actual Negative', 'Actual Positive'])"
   ]
  },
  {
   "cell_type": "code",
   "execution_count": 278,
   "metadata": {},
   "outputs": [
    {
     "data": {
      "text/html": [
       "<div>\n",
       "<style scoped>\n",
       "    .dataframe tbody tr th:only-of-type {\n",
       "        vertical-align: middle;\n",
       "    }\n",
       "\n",
       "    .dataframe tbody tr th {\n",
       "        vertical-align: top;\n",
       "    }\n",
       "\n",
       "    .dataframe thead th {\n",
       "        text-align: right;\n",
       "    }\n",
       "</style>\n",
       "<table border=\"1\" class=\"dataframe\">\n",
       "  <thead>\n",
       "    <tr style=\"text-align: right;\">\n",
       "      <th></th>\n",
       "      <th>Predicted Negative</th>\n",
       "      <th>Predicted Positive</th>\n",
       "    </tr>\n",
       "  </thead>\n",
       "  <tbody>\n",
       "    <tr>\n",
       "      <th>Actual Negative</th>\n",
       "      <td>4397</td>\n",
       "      <td>2283</td>\n",
       "    </tr>\n",
       "    <tr>\n",
       "      <th>Actual Positive</th>\n",
       "      <td>699</td>\n",
       "      <td>289</td>\n",
       "    </tr>\n",
       "  </tbody>\n",
       "</table>\n",
       "</div>"
      ],
      "text/plain": [
       "                 Predicted Negative  Predicted Positive\n",
       "Actual Negative                4397                2283\n",
       "Actual Positive                 699                 289"
      ]
     },
     "execution_count": 278,
     "metadata": {},
     "output_type": "execute_result"
    }
   ],
   "source": [
    "cm_df2"
   ]
  },
  {
   "cell_type": "code",
   "execution_count": 279,
   "metadata": {},
   "outputs": [],
   "source": [
    "predictionsgradient2 = modelgradient.predict(X_test2)"
   ]
  },
  {
   "cell_type": "code",
   "execution_count": 280,
   "metadata": {},
   "outputs": [],
   "source": [
    "cmgradient2 = metrics.confusion_matrix(Y_test2, predictionsgradient2)"
   ]
  },
  {
   "cell_type": "code",
   "execution_count": 281,
   "metadata": {},
   "outputs": [],
   "source": [
    "cmgradient_df2 = pd.DataFrame(cmgradient2, \n",
    "            columns = ['Predicted Negative', 'Predicted Positive'],\n",
    "            index = ['Actual Negative', 'Actual Positive'])"
   ]
  },
  {
   "cell_type": "code",
   "execution_count": 282,
   "metadata": {},
   "outputs": [
    {
     "data": {
      "text/html": [
       "<div>\n",
       "<style scoped>\n",
       "    .dataframe tbody tr th:only-of-type {\n",
       "        vertical-align: middle;\n",
       "    }\n",
       "\n",
       "    .dataframe tbody tr th {\n",
       "        vertical-align: top;\n",
       "    }\n",
       "\n",
       "    .dataframe thead th {\n",
       "        text-align: right;\n",
       "    }\n",
       "</style>\n",
       "<table border=\"1\" class=\"dataframe\">\n",
       "  <thead>\n",
       "    <tr style=\"text-align: right;\">\n",
       "      <th></th>\n",
       "      <th>Predicted Negative</th>\n",
       "      <th>Predicted Positive</th>\n",
       "    </tr>\n",
       "  </thead>\n",
       "  <tbody>\n",
       "    <tr>\n",
       "      <th>Actual Negative</th>\n",
       "      <td>3943</td>\n",
       "      <td>2737</td>\n",
       "    </tr>\n",
       "    <tr>\n",
       "      <th>Actual Positive</th>\n",
       "      <td>459</td>\n",
       "      <td>529</td>\n",
       "    </tr>\n",
       "  </tbody>\n",
       "</table>\n",
       "</div>"
      ],
      "text/plain": [
       "                 Predicted Negative  Predicted Positive\n",
       "Actual Negative                3943                2737\n",
       "Actual Positive                 459                 529"
      ]
     },
     "execution_count": 282,
     "metadata": {},
     "output_type": "execute_result"
    }
   ],
   "source": [
    "cmgradient_df2"
   ]
  },
  {
   "cell_type": "code",
   "execution_count": 283,
   "metadata": {},
   "outputs": [
    {
     "data": {
      "text/plain": [
       "0.5902694610778443"
      ]
     },
     "execution_count": 283,
     "metadata": {},
     "output_type": "execute_result"
    }
   ],
   "source": [
    "3943/6680"
   ]
  },
  {
   "cell_type": "code",
   "execution_count": 284,
   "metadata": {},
   "outputs": [
    {
     "data": {
      "text/plain": [
       "0.5354251012145749"
      ]
     },
     "execution_count": 284,
     "metadata": {},
     "output_type": "execute_result"
    }
   ],
   "source": [
    "529/988"
   ]
  },
  {
   "cell_type": "code",
   "execution_count": 285,
   "metadata": {},
   "outputs": [],
   "source": [
    "predictionsrandom2 = modelrandomf.predict(X_test2)"
   ]
  },
  {
   "cell_type": "code",
   "execution_count": 286,
   "metadata": {},
   "outputs": [],
   "source": [
    "cmrandom2 = metrics.confusion_matrix(Y_test2, predictionsrandom2)"
   ]
  },
  {
   "cell_type": "code",
   "execution_count": 287,
   "metadata": {},
   "outputs": [],
   "source": [
    "cmrandom_df2 = pd.DataFrame(cmrandom2, \n",
    "            columns = ['Predicted Negative', 'Predicted Positive'],\n",
    "            index = ['Actual Negative', 'Actual Positive'])"
   ]
  },
  {
   "cell_type": "code",
   "execution_count": 288,
   "metadata": {},
   "outputs": [
    {
     "data": {
      "text/html": [
       "<div>\n",
       "<style scoped>\n",
       "    .dataframe tbody tr th:only-of-type {\n",
       "        vertical-align: middle;\n",
       "    }\n",
       "\n",
       "    .dataframe tbody tr th {\n",
       "        vertical-align: top;\n",
       "    }\n",
       "\n",
       "    .dataframe thead th {\n",
       "        text-align: right;\n",
       "    }\n",
       "</style>\n",
       "<table border=\"1\" class=\"dataframe\">\n",
       "  <thead>\n",
       "    <tr style=\"text-align: right;\">\n",
       "      <th></th>\n",
       "      <th>Predicted Negative</th>\n",
       "      <th>Predicted Positive</th>\n",
       "    </tr>\n",
       "  </thead>\n",
       "  <tbody>\n",
       "    <tr>\n",
       "      <th>Actual Negative</th>\n",
       "      <td>6606</td>\n",
       "      <td>74</td>\n",
       "    </tr>\n",
       "    <tr>\n",
       "      <th>Actual Positive</th>\n",
       "      <td>883</td>\n",
       "      <td>105</td>\n",
       "    </tr>\n",
       "  </tbody>\n",
       "</table>\n",
       "</div>"
      ],
      "text/plain": [
       "                 Predicted Negative  Predicted Positive\n",
       "Actual Negative                6606                  74\n",
       "Actual Positive                 883                 105"
      ]
     },
     "execution_count": 288,
     "metadata": {},
     "output_type": "execute_result"
    }
   ],
   "source": [
    "cmrandom_df2"
   ]
  },
  {
   "cell_type": "code",
   "execution_count": 289,
   "metadata": {},
   "outputs": [],
   "source": [
    "predictionsnet2 = modelnet.predict(X_test2)"
   ]
  },
  {
   "cell_type": "code",
   "execution_count": 290,
   "metadata": {},
   "outputs": [],
   "source": [
    "cmnet2 = metrics.confusion_matrix(Y_test2, predictionsnet2)"
   ]
  },
  {
   "cell_type": "code",
   "execution_count": 291,
   "metadata": {},
   "outputs": [],
   "source": [
    "cmnet_df2 = pd.DataFrame(cmnet2, \n",
    "            columns = ['Predicted Negative', 'Predicted Positive'],\n",
    "            index = ['Actual Negative', 'Actual Positive'])"
   ]
  },
  {
   "cell_type": "code",
   "execution_count": 292,
   "metadata": {},
   "outputs": [
    {
     "data": {
      "text/html": [
       "<div>\n",
       "<style scoped>\n",
       "    .dataframe tbody tr th:only-of-type {\n",
       "        vertical-align: middle;\n",
       "    }\n",
       "\n",
       "    .dataframe tbody tr th {\n",
       "        vertical-align: top;\n",
       "    }\n",
       "\n",
       "    .dataframe thead th {\n",
       "        text-align: right;\n",
       "    }\n",
       "</style>\n",
       "<table border=\"1\" class=\"dataframe\">\n",
       "  <thead>\n",
       "    <tr style=\"text-align: right;\">\n",
       "      <th></th>\n",
       "      <th>Predicted Negative</th>\n",
       "      <th>Predicted Positive</th>\n",
       "    </tr>\n",
       "  </thead>\n",
       "  <tbody>\n",
       "    <tr>\n",
       "      <th>Actual Negative</th>\n",
       "      <td>6416</td>\n",
       "      <td>264</td>\n",
       "    </tr>\n",
       "    <tr>\n",
       "      <th>Actual Positive</th>\n",
       "      <td>948</td>\n",
       "      <td>40</td>\n",
       "    </tr>\n",
       "  </tbody>\n",
       "</table>\n",
       "</div>"
      ],
      "text/plain": [
       "                 Predicted Negative  Predicted Positive\n",
       "Actual Negative                6416                 264\n",
       "Actual Positive                 948                  40"
      ]
     },
     "execution_count": 292,
     "metadata": {},
     "output_type": "execute_result"
    }
   ],
   "source": [
    "cmnet_df2"
   ]
  },
  {
   "cell_type": "code",
   "execution_count": 293,
   "metadata": {},
   "outputs": [],
   "source": [
    "Base3=Sample8.filter([\"ATRASO\", \"EDAD\", \"SIN_SALDO_HOY\", \"ANTIGUEDAD\", \"sexo\", \"MARCA_QUEJAS\",\"Q_MONETARY\", \"Q_FREQUENCY\", \n",
    "                \"Q_RECENCY\",\"CUOTA_MAXIMA\", \"MARCA_SIN_SALDO_U12M\",\"USO_0\",\"MARCA_BAJA_U3M\",\"MARCA_CONGELADA\",\"MAX_MORAU12M\",\n",
    "                \"AREA_RIESGO\",\"MARCA_SOLTERO\",\"LIMITE\",\"TARJETA_ACTIVA\",\"MARCA_RESCATE\"])"
   ]
  },
  {
   "cell_type": "code",
   "execution_count": 294,
   "metadata": {},
   "outputs": [],
   "source": [
    "features3 = Base3.iloc[:,0:19]"
   ]
  },
  {
   "cell_type": "code",
   "execution_count": 295,
   "metadata": {},
   "outputs": [],
   "source": [
    "depVar3 = Base3['MARCA_RESCATE']"
   ]
  },
  {
   "cell_type": "code",
   "execution_count": 296,
   "metadata": {},
   "outputs": [],
   "source": [
    "X_train3 = (features3[0:17893])"
   ]
  },
  {
   "cell_type": "code",
   "execution_count": 297,
   "metadata": {},
   "outputs": [],
   "source": [
    "Y_train3 = depVar3[0:17893]"
   ]
  },
  {
   "cell_type": "code",
   "execution_count": 298,
   "metadata": {},
   "outputs": [],
   "source": [
    "X_test3 = features3[17893:25561]"
   ]
  },
  {
   "cell_type": "code",
   "execution_count": 299,
   "metadata": {},
   "outputs": [],
   "source": [
    "Y_test3 = depVar3[17893:25561]"
   ]
  },
  {
   "cell_type": "code",
   "execution_count": 300,
   "metadata": {},
   "outputs": [],
   "source": [
    "modeltree_train3 = modeltree.fit(X_train3, Y_train3)"
   ]
  },
  {
   "cell_type": "code",
   "execution_count": 301,
   "metadata": {},
   "outputs": [],
   "source": [
    "modeldecisiontree_train3 = modeldecisiontree.fit(X_train3, Y_train3)"
   ]
  },
  {
   "cell_type": "code",
   "execution_count": 302,
   "metadata": {},
   "outputs": [],
   "source": [
    "modelrandomf_train3 = modelrandomf.fit(X_train3, Y_train3)"
   ]
  },
  {
   "cell_type": "code",
   "execution_count": 303,
   "metadata": {},
   "outputs": [],
   "source": [
    "modelgradient_train3 = modelgradient.fit(X_train3, Y_train3)"
   ]
  },
  {
   "cell_type": "code",
   "execution_count": 304,
   "metadata": {},
   "outputs": [
    {
     "name": "stderr",
     "output_type": "stream",
     "text": [
      "c:\\users\\tgarita\\appdata\\local\\programs\\python\\python37\\lib\\site-packages\\sklearn\\model_selection\\_split.py:1978: FutureWarning: The default value of cv will change from 3 to 5 in version 0.22. Specify it explicitly to silence this warning.\n",
      "  warnings.warn(CV_WARNING, FutureWarning)\n"
     ]
    },
    {
     "name": "stdout",
     "output_type": "stream",
     "text": [
      "[0.88717519 0.6676727  0.62055667]\n"
     ]
    }
   ],
   "source": [
    "print(cross_val_score(modeltree, X_train3, Y_train3))"
   ]
  },
  {
   "cell_type": "code",
   "execution_count": 305,
   "metadata": {},
   "outputs": [
    {
     "name": "stderr",
     "output_type": "stream",
     "text": [
      "c:\\users\\tgarita\\appdata\\local\\programs\\python\\python37\\lib\\site-packages\\sklearn\\model_selection\\_split.py:1978: FutureWarning: The default value of cv will change from 3 to 5 in version 0.22. Specify it explicitly to silence this warning.\n",
      "  warnings.warn(CV_WARNING, FutureWarning)\n"
     ]
    },
    {
     "name": "stdout",
     "output_type": "stream",
     "text": [
      "[0.88499581 0.67018779 0.60949027]\n"
     ]
    }
   ],
   "source": [
    "print(cross_val_score(modeldecisiontree, X_train3, Y_train3))"
   ]
  },
  {
   "cell_type": "code",
   "execution_count": 306,
   "metadata": {},
   "outputs": [
    {
     "name": "stderr",
     "output_type": "stream",
     "text": [
      "c:\\users\\tgarita\\appdata\\local\\programs\\python\\python37\\lib\\site-packages\\sklearn\\model_selection\\_split.py:1978: FutureWarning: The default value of cv will change from 3 to 5 in version 0.22. Specify it explicitly to silence this warning.\n",
      "  warnings.warn(CV_WARNING, FutureWarning)\n"
     ]
    },
    {
     "name": "stdout",
     "output_type": "stream",
     "text": [
      "[0.90796312 0.90761234 0.61401744]\n"
     ]
    }
   ],
   "source": [
    "print(cross_val_score(modelrandomf, X_train3, Y_train3))"
   ]
  },
  {
   "cell_type": "code",
   "execution_count": 307,
   "metadata": {},
   "outputs": [
    {
     "name": "stderr",
     "output_type": "stream",
     "text": [
      "c:\\users\\tgarita\\appdata\\local\\programs\\python\\python37\\lib\\site-packages\\sklearn\\model_selection\\_split.py:1978: FutureWarning: The default value of cv will change from 3 to 5 in version 0.22. Specify it explicitly to silence this warning.\n",
      "  warnings.warn(CV_WARNING, FutureWarning)\n"
     ]
    },
    {
     "name": "stdout",
     "output_type": "stream",
     "text": [
      "[0.90829841 0.90828303 0.90828303]\n"
     ]
    }
   ],
   "source": [
    "print(cross_val_score(modelgradient, X_train3, Y_train3))"
   ]
  },
  {
   "cell_type": "code",
   "execution_count": 308,
   "metadata": {},
   "outputs": [
    {
     "data": {
      "text/plain": [
       "0.9998323366679707"
      ]
     },
     "execution_count": 308,
     "metadata": {},
     "output_type": "execute_result"
    }
   ],
   "source": [
    "modeltree.score(X_train3,Y_train3)"
   ]
  },
  {
   "cell_type": "code",
   "execution_count": 309,
   "metadata": {},
   "outputs": [
    {
     "data": {
      "text/plain": [
       "0.9998323366679707"
      ]
     },
     "execution_count": 309,
     "metadata": {},
     "output_type": "execute_result"
    }
   ],
   "source": [
    "modeldecisiontree.score(X_train3,Y_train3)"
   ]
  },
  {
   "cell_type": "code",
   "execution_count": 310,
   "metadata": {},
   "outputs": [
    {
     "data": {
      "text/plain": [
       "0.9998323366679707"
      ]
     },
     "execution_count": 310,
     "metadata": {},
     "output_type": "execute_result"
    }
   ],
   "source": [
    "modelrandomf.score(X_train3,Y_train3)"
   ]
  },
  {
   "cell_type": "code",
   "execution_count": 311,
   "metadata": {},
   "outputs": [
    {
     "data": {
      "text/plain": [
       "0.091711842620019"
      ]
     },
     "execution_count": 311,
     "metadata": {},
     "output_type": "execute_result"
    }
   ],
   "source": [
    "modelgradient.score(X_train3,Y_train3)"
   ]
  },
  {
   "cell_type": "code",
   "execution_count": 312,
   "metadata": {},
   "outputs": [],
   "source": [
    "predictionstree3 = modeltree.predict(X_test3)"
   ]
  },
  {
   "cell_type": "code",
   "execution_count": 313,
   "metadata": {},
   "outputs": [],
   "source": [
    "cm3= metrics.confusion_matrix(Y_test3, predictionstree3)"
   ]
  },
  {
   "cell_type": "code",
   "execution_count": 314,
   "metadata": {},
   "outputs": [],
   "source": [
    "cm_df3 = pd.DataFrame(cm3, \n",
    "            columns = ['Predicted Negative', 'Predicted Positive'],\n",
    "            index = ['Actual Negative', 'Actual Positive'])"
   ]
  },
  {
   "cell_type": "code",
   "execution_count": 315,
   "metadata": {},
   "outputs": [
    {
     "data": {
      "text/html": [
       "<div>\n",
       "<style scoped>\n",
       "    .dataframe tbody tr th:only-of-type {\n",
       "        vertical-align: middle;\n",
       "    }\n",
       "\n",
       "    .dataframe tbody tr th {\n",
       "        vertical-align: top;\n",
       "    }\n",
       "\n",
       "    .dataframe thead th {\n",
       "        text-align: right;\n",
       "    }\n",
       "</style>\n",
       "<table border=\"1\" class=\"dataframe\">\n",
       "  <thead>\n",
       "    <tr style=\"text-align: right;\">\n",
       "      <th></th>\n",
       "      <th>Predicted Negative</th>\n",
       "      <th>Predicted Positive</th>\n",
       "    </tr>\n",
       "  </thead>\n",
       "  <tbody>\n",
       "    <tr>\n",
       "      <th>Actual Negative</th>\n",
       "      <td>5469</td>\n",
       "      <td>1211</td>\n",
       "    </tr>\n",
       "    <tr>\n",
       "      <th>Actual Positive</th>\n",
       "      <td>728</td>\n",
       "      <td>260</td>\n",
       "    </tr>\n",
       "  </tbody>\n",
       "</table>\n",
       "</div>"
      ],
      "text/plain": [
       "                 Predicted Negative  Predicted Positive\n",
       "Actual Negative                5469                1211\n",
       "Actual Positive                 728                 260"
      ]
     },
     "execution_count": 315,
     "metadata": {},
     "output_type": "execute_result"
    }
   ],
   "source": [
    "cm_df3"
   ]
  },
  {
   "cell_type": "code",
   "execution_count": 316,
   "metadata": {},
   "outputs": [],
   "source": [
    "predictionsdecisiontree3 = modeldecisiontree.predict(X_test3)"
   ]
  },
  {
   "cell_type": "code",
   "execution_count": 317,
   "metadata": {},
   "outputs": [],
   "source": [
    "cmdecisiontree3= metrics.confusion_matrix(Y_test3, predictionsdecisiontree3)"
   ]
  },
  {
   "cell_type": "code",
   "execution_count": 318,
   "metadata": {},
   "outputs": [],
   "source": [
    "cmdecisiontree_df3 = pd.DataFrame(cmdecisiontree3, \n",
    "            columns = ['Predicted Negative', 'Predicted Positive'],\n",
    "            index = ['Actual Negative', 'Actual Positive'])"
   ]
  },
  {
   "cell_type": "code",
   "execution_count": 319,
   "metadata": {},
   "outputs": [
    {
     "data": {
      "text/html": [
       "<div>\n",
       "<style scoped>\n",
       "    .dataframe tbody tr th:only-of-type {\n",
       "        vertical-align: middle;\n",
       "    }\n",
       "\n",
       "    .dataframe tbody tr th {\n",
       "        vertical-align: top;\n",
       "    }\n",
       "\n",
       "    .dataframe thead th {\n",
       "        text-align: right;\n",
       "    }\n",
       "</style>\n",
       "<table border=\"1\" class=\"dataframe\">\n",
       "  <thead>\n",
       "    <tr style=\"text-align: right;\">\n",
       "      <th></th>\n",
       "      <th>Predicted Negative</th>\n",
       "      <th>Predicted Positive</th>\n",
       "    </tr>\n",
       "  </thead>\n",
       "  <tbody>\n",
       "    <tr>\n",
       "      <th>Actual Negative</th>\n",
       "      <td>5695</td>\n",
       "      <td>985</td>\n",
       "    </tr>\n",
       "    <tr>\n",
       "      <th>Actual Positive</th>\n",
       "      <td>769</td>\n",
       "      <td>219</td>\n",
       "    </tr>\n",
       "  </tbody>\n",
       "</table>\n",
       "</div>"
      ],
      "text/plain": [
       "                 Predicted Negative  Predicted Positive\n",
       "Actual Negative                5695                 985\n",
       "Actual Positive                 769                 219"
      ]
     },
     "execution_count": 319,
     "metadata": {},
     "output_type": "execute_result"
    }
   ],
   "source": [
    "cmdecisiontree_df3"
   ]
  },
  {
   "cell_type": "code",
   "execution_count": 320,
   "metadata": {},
   "outputs": [],
   "source": [
    "predictionsgradient3 = modelgradient.predict(X_test3)"
   ]
  },
  {
   "cell_type": "code",
   "execution_count": 323,
   "metadata": {},
   "outputs": [],
   "source": [
    "cmgradient3= metrics.confusion_matrix(Y_test3, predictionsgradient3)"
   ]
  },
  {
   "cell_type": "code",
   "execution_count": 324,
   "metadata": {},
   "outputs": [],
   "source": [
    "cmgradient_df3 = pd.DataFrame(cmgradient3, \n",
    "            columns = ['Predicted Negative', 'Predicted Positive'],\n",
    "            index = ['Actual Negative', 'Actual Positive'])"
   ]
  },
  {
   "cell_type": "code",
   "execution_count": 325,
   "metadata": {},
   "outputs": [
    {
     "data": {
      "text/html": [
       "<div>\n",
       "<style scoped>\n",
       "    .dataframe tbody tr th:only-of-type {\n",
       "        vertical-align: middle;\n",
       "    }\n",
       "\n",
       "    .dataframe tbody tr th {\n",
       "        vertical-align: top;\n",
       "    }\n",
       "\n",
       "    .dataframe thead th {\n",
       "        text-align: right;\n",
       "    }\n",
       "</style>\n",
       "<table border=\"1\" class=\"dataframe\">\n",
       "  <thead>\n",
       "    <tr style=\"text-align: right;\">\n",
       "      <th></th>\n",
       "      <th>Predicted Negative</th>\n",
       "      <th>Predicted Positive</th>\n",
       "    </tr>\n",
       "  </thead>\n",
       "  <tbody>\n",
       "    <tr>\n",
       "      <th>Actual Negative</th>\n",
       "      <td>0</td>\n",
       "      <td>6680</td>\n",
       "    </tr>\n",
       "    <tr>\n",
       "      <th>Actual Positive</th>\n",
       "      <td>0</td>\n",
       "      <td>988</td>\n",
       "    </tr>\n",
       "  </tbody>\n",
       "</table>\n",
       "</div>"
      ],
      "text/plain": [
       "                 Predicted Negative  Predicted Positive\n",
       "Actual Negative                   0                6680\n",
       "Actual Positive                   0                 988"
      ]
     },
     "execution_count": 325,
     "metadata": {},
     "output_type": "execute_result"
    }
   ],
   "source": [
    "cmgradient_df3"
   ]
  },
  {
   "cell_type": "code",
   "execution_count": 326,
   "metadata": {},
   "outputs": [],
   "source": [
    "Base4=Sample8.filter([\"ATRASO\", \"EDAD\", \"SALDO\", \"ANTIGUEDAD\", \"sexo\", \"SUMA_QUEJAS\",\"MONETARY\", \"FREQUENCY\", \"RECENCY\",\n",
    "                \"CUOTA_MAXIMA\", \"SIN_SALDO_U12M\",\"LIMITE\",\"BAJA_SALDO_U6M\",\"MARCA_CONGELADA\",\"MAX_MORAU12M\",\"AREA_RIESGO\",\n",
    "                \"MARCA_SOLTERO\",\"TARJETA_ACTIVA\",\"MARCA_RESCATE\"])"
   ]
  },
  {
   "cell_type": "code",
   "execution_count": 327,
   "metadata": {},
   "outputs": [],
   "source": [
    "from sklearn.preprocessing import StandardScaler"
   ]
  },
  {
   "cell_type": "code",
   "execution_count": 328,
   "metadata": {},
   "outputs": [],
   "source": [
    "sc_x = StandardScaler()"
   ]
  },
  {
   "cell_type": "code",
   "execution_count": 333,
   "metadata": {},
   "outputs": [],
   "source": [
    "features4 = Base4.iloc[:,0:18]"
   ]
  },
  {
   "cell_type": "code",
   "execution_count": 334,
   "metadata": {},
   "outputs": [],
   "source": [
    "depVar4 = Base4['MARCA_RESCATE']"
   ]
  },
  {
   "cell_type": "code",
   "execution_count": 335,
   "metadata": {},
   "outputs": [],
   "source": [
    "X_train4 = (features4[0:17893])"
   ]
  },
  {
   "cell_type": "code",
   "execution_count": 336,
   "metadata": {},
   "outputs": [],
   "source": [
    "Y_train4 = depVar4[0:17893]"
   ]
  },
  {
   "cell_type": "code",
   "execution_count": 337,
   "metadata": {},
   "outputs": [],
   "source": [
    "X_test4 = features4[17893:25561]"
   ]
  },
  {
   "cell_type": "code",
   "execution_count": 338,
   "metadata": {},
   "outputs": [],
   "source": [
    "Y_test4 = depVar4[17893:25561]"
   ]
  },
  {
   "cell_type": "code",
   "execution_count": 339,
   "metadata": {},
   "outputs": [
    {
     "data": {
      "text/plain": [
       "((17893, 18), (7668, 18))"
      ]
     },
     "execution_count": 339,
     "metadata": {},
     "output_type": "execute_result"
    }
   ],
   "source": [
    "X_train4.shape, X_test4.shape"
   ]
  },
  {
   "cell_type": "code",
   "execution_count": 340,
   "metadata": {},
   "outputs": [],
   "source": [
    "X_train4_2 = sc_x.fit_transform(X_train4)"
   ]
  },
  {
   "cell_type": "code",
   "execution_count": 344,
   "metadata": {},
   "outputs": [],
   "source": [
    "X_test4_2 = sc_x.fit_transform(X_test4)"
   ]
  },
  {
   "cell_type": "code",
   "execution_count": 345,
   "metadata": {},
   "outputs": [],
   "source": [
    "modeltree_train4 = modeltree.fit(X_train4_2, Y_train4)"
   ]
  },
  {
   "cell_type": "code",
   "execution_count": 346,
   "metadata": {},
   "outputs": [],
   "source": [
    "modelsvm_train4 = modelsvm.fit(X_train4_2, Y_train4)"
   ]
  },
  {
   "cell_type": "code",
   "execution_count": 347,
   "metadata": {},
   "outputs": [],
   "source": [
    "modeldecisiontree_train4 = modeldecisiontree.fit(X_train4_2, Y_train4)"
   ]
  },
  {
   "cell_type": "code",
   "execution_count": 348,
   "metadata": {},
   "outputs": [],
   "source": [
    "modelgradient_train4 = modelgradient.fit(X_train4_2, Y_train4)"
   ]
  },
  {
   "cell_type": "code",
   "execution_count": 349,
   "metadata": {},
   "outputs": [],
   "source": [
    "modellogistic_train4 = modellogistic.fit(X_train4_2, Y_train4)"
   ]
  },
  {
   "cell_type": "code",
   "execution_count": 350,
   "metadata": {},
   "outputs": [],
   "source": [
    "modelrandomf_train4 = modelrandomf.fit(X_train4_2, Y_train2)"
   ]
  },
  {
   "cell_type": "code",
   "execution_count": 351,
   "metadata": {},
   "outputs": [],
   "source": [
    "modelnet_train4 = modelnet.fit(X_train4_2, Y_train4)"
   ]
  },
  {
   "cell_type": "code",
   "execution_count": 352,
   "metadata": {},
   "outputs": [
    {
     "name": "stderr",
     "output_type": "stream",
     "text": [
      "c:\\users\\tgarita\\appdata\\local\\programs\\python\\python37\\lib\\site-packages\\sklearn\\model_selection\\_split.py:1978: FutureWarning: The default value of cv will change from 3 to 5 in version 0.22. Specify it explicitly to silence this warning.\n",
      "  warnings.warn(CV_WARNING, FutureWarning)\n"
     ]
    },
    {
     "name": "stdout",
     "output_type": "stream",
     "text": [
      "[0.89304275 0.63983903 0.65677398]\n"
     ]
    }
   ],
   "source": [
    "print(cross_val_score(modeltree, X_train4_2, Y_train4))"
   ]
  },
  {
   "cell_type": "code",
   "execution_count": 353,
   "metadata": {},
   "outputs": [
    {
     "name": "stderr",
     "output_type": "stream",
     "text": [
      "c:\\users\\tgarita\\appdata\\local\\programs\\python\\python37\\lib\\site-packages\\sklearn\\model_selection\\_split.py:1978: FutureWarning: The default value of cv will change from 3 to 5 in version 0.22. Specify it explicitly to silence this warning.\n",
      "  warnings.warn(CV_WARNING, FutureWarning)\n",
      "c:\\users\\tgarita\\appdata\\local\\programs\\python\\python37\\lib\\site-packages\\sklearn\\svm\\base.py:193: FutureWarning: The default value of gamma will change from 'auto' to 'scale' in version 0.22 to account better for unscaled features. Set gamma explicitly to 'auto' or 'scale' to avoid this warning.\n",
      "  \"avoid this warning.\", FutureWarning)\n",
      "c:\\users\\tgarita\\appdata\\local\\programs\\python\\python37\\lib\\site-packages\\sklearn\\svm\\base.py:193: FutureWarning: The default value of gamma will change from 'auto' to 'scale' in version 0.22 to account better for unscaled features. Set gamma explicitly to 'auto' or 'scale' to avoid this warning.\n",
      "  \"avoid this warning.\", FutureWarning)\n",
      "c:\\users\\tgarita\\appdata\\local\\programs\\python\\python37\\lib\\site-packages\\sklearn\\svm\\base.py:193: FutureWarning: The default value of gamma will change from 'auto' to 'scale' in version 0.22 to account better for unscaled features. Set gamma explicitly to 'auto' or 'scale' to avoid this warning.\n",
      "  \"avoid this warning.\", FutureWarning)\n"
     ]
    },
    {
     "name": "stdout",
     "output_type": "stream",
     "text": [
      "[0.90578374 0.91281019 0.90979209]\n"
     ]
    }
   ],
   "source": [
    "print(cross_val_score(modelsvm, X_train4_2, Y_train4))"
   ]
  },
  {
   "cell_type": "code",
   "execution_count": 354,
   "metadata": {},
   "outputs": [
    {
     "name": "stderr",
     "output_type": "stream",
     "text": [
      "c:\\users\\tgarita\\appdata\\local\\programs\\python\\python37\\lib\\site-packages\\sklearn\\model_selection\\_split.py:1978: FutureWarning: The default value of cv will change from 3 to 5 in version 0.22. Specify it explicitly to silence this warning.\n",
      "  warnings.warn(CV_WARNING, FutureWarning)\n"
     ]
    },
    {
     "name": "stdout",
     "output_type": "stream",
     "text": [
      "[0.88784577 0.63397049 0.55566734]\n"
     ]
    }
   ],
   "source": [
    "print(cross_val_score(modeldecisiontree, X_train4_2, Y_train4))"
   ]
  },
  {
   "cell_type": "code",
   "execution_count": 355,
   "metadata": {},
   "outputs": [
    {
     "name": "stderr",
     "output_type": "stream",
     "text": [
      "c:\\users\\tgarita\\appdata\\local\\programs\\python\\python37\\lib\\site-packages\\sklearn\\model_selection\\_split.py:1978: FutureWarning: The default value of cv will change from 3 to 5 in version 0.22. Specify it explicitly to silence this warning.\n",
      "  warnings.warn(CV_WARNING, FutureWarning)\n"
     ]
    },
    {
     "name": "stdout",
     "output_type": "stream",
     "text": [
      "[0.88583403 0.90828303 0.90593561]\n"
     ]
    }
   ],
   "source": [
    "print(cross_val_score(modelgradient, X_train4_2, Y_train4))"
   ]
  },
  {
   "cell_type": "code",
   "execution_count": 356,
   "metadata": {},
   "outputs": [
    {
     "name": "stderr",
     "output_type": "stream",
     "text": [
      "c:\\users\\tgarita\\appdata\\local\\programs\\python\\python37\\lib\\site-packages\\sklearn\\model_selection\\_split.py:1978: FutureWarning: The default value of cv will change from 3 to 5 in version 0.22. Specify it explicitly to silence this warning.\n",
      "  warnings.warn(CV_WARNING, FutureWarning)\n"
     ]
    },
    {
     "name": "stdout",
     "output_type": "stream",
     "text": [
      "[0.9086337  0.91264252 0.9066063 ]\n"
     ]
    }
   ],
   "source": [
    "print(cross_val_score(modellogistic, X_train4_2, Y_train4))"
   ]
  },
  {
   "cell_type": "code",
   "execution_count": 357,
   "metadata": {},
   "outputs": [
    {
     "name": "stderr",
     "output_type": "stream",
     "text": [
      "c:\\users\\tgarita\\appdata\\local\\programs\\python\\python37\\lib\\site-packages\\sklearn\\model_selection\\_split.py:1978: FutureWarning: The default value of cv will change from 3 to 5 in version 0.22. Specify it explicitly to silence this warning.\n",
      "  warnings.warn(CV_WARNING, FutureWarning)\n"
     ]
    },
    {
     "name": "stdout",
     "output_type": "stream",
     "text": [
      "[0.90813076 0.90828303 0.6130114 ]\n"
     ]
    }
   ],
   "source": [
    "print(cross_val_score(modelrandomf, X_train4_2, Y_train4))"
   ]
  },
  {
   "cell_type": "code",
   "execution_count": 358,
   "metadata": {},
   "outputs": [
    {
     "name": "stderr",
     "output_type": "stream",
     "text": [
      "c:\\users\\tgarita\\appdata\\local\\programs\\python\\python37\\lib\\site-packages\\sklearn\\model_selection\\_split.py:1978: FutureWarning: The default value of cv will change from 3 to 5 in version 0.22. Specify it explicitly to silence this warning.\n",
      "  warnings.warn(CV_WARNING, FutureWarning)\n"
     ]
    },
    {
     "name": "stdout",
     "output_type": "stream",
     "text": [
      "[0.89823973 0.87558685 0.54946345]\n"
     ]
    }
   ],
   "source": [
    "print(cross_val_score(modelnet, X_train4_2, Y_train4))"
   ]
  },
  {
   "cell_type": "code",
   "execution_count": 359,
   "metadata": {},
   "outputs": [
    {
     "data": {
      "text/plain": [
       "0.9998323366679707"
      ]
     },
     "execution_count": 359,
     "metadata": {},
     "output_type": "execute_result"
    }
   ],
   "source": [
    "modeltree.score(X_train4_2,Y_train4)"
   ]
  },
  {
   "cell_type": "code",
   "execution_count": 360,
   "metadata": {},
   "outputs": [
    {
     "data": {
      "text/plain": [
       "0.9158330073212988"
      ]
     },
     "execution_count": 360,
     "metadata": {},
     "output_type": "execute_result"
    }
   ],
   "source": [
    "modelsvm.score(X_train4_2,Y_train4)"
   ]
  },
  {
   "cell_type": "code",
   "execution_count": 361,
   "metadata": {},
   "outputs": [
    {
     "data": {
      "text/plain": [
       "0.9998323366679707"
      ]
     },
     "execution_count": 361,
     "metadata": {},
     "output_type": "execute_result"
    }
   ],
   "source": [
    "modeldecisiontree.score(X_train4_2,Y_train4)"
   ]
  },
  {
   "cell_type": "code",
   "execution_count": 362,
   "metadata": {},
   "outputs": [
    {
     "data": {
      "text/plain": [
       "0.908288157379981"
      ]
     },
     "execution_count": 362,
     "metadata": {},
     "output_type": "execute_result"
    }
   ],
   "source": [
    "modelgradient.score(X_train4_2,Y_train4)"
   ]
  },
  {
   "cell_type": "code",
   "execution_count": 363,
   "metadata": {},
   "outputs": [
    {
     "data": {
      "text/plain": [
       "0.9123679651260269"
      ]
     },
     "execution_count": 363,
     "metadata": {},
     "output_type": "execute_result"
    }
   ],
   "source": [
    "modellogistic.score(X_train4_2,Y_train4)"
   ]
  },
  {
   "cell_type": "code",
   "execution_count": 364,
   "metadata": {},
   "outputs": [
    {
     "data": {
      "text/plain": [
       "0.9998323366679707"
      ]
     },
     "execution_count": 364,
     "metadata": {},
     "output_type": "execute_result"
    }
   ],
   "source": [
    "modelrandomf.score(X_train4_2,Y_train4)"
   ]
  },
  {
   "cell_type": "code",
   "execution_count": 365,
   "metadata": {},
   "outputs": [
    {
     "data": {
      "text/plain": [
       "0.9343318616218633"
      ]
     },
     "execution_count": 365,
     "metadata": {},
     "output_type": "execute_result"
    }
   ],
   "source": [
    "modelnet.score(X_train4_2,Y_train4)"
   ]
  },
  {
   "cell_type": "code",
   "execution_count": 366,
   "metadata": {},
   "outputs": [],
   "source": [
    "predictionstree4 = modeltree.predict(X_test4_2)"
   ]
  },
  {
   "cell_type": "code",
   "execution_count": 367,
   "metadata": {},
   "outputs": [],
   "source": [
    "cmtree4= metrics.confusion_matrix(Y_test4, predictionstree4)"
   ]
  },
  {
   "cell_type": "code",
   "execution_count": 368,
   "metadata": {},
   "outputs": [],
   "source": [
    "cmtree_df4 = pd.DataFrame(cmtree4, \n",
    "            columns = ['Predicted Negative', 'Predicted Positive'],\n",
    "            index = ['Actual Negative', 'Actual Positive'])"
   ]
  },
  {
   "cell_type": "code",
   "execution_count": 369,
   "metadata": {},
   "outputs": [
    {
     "data": {
      "text/html": [
       "<div>\n",
       "<style scoped>\n",
       "    .dataframe tbody tr th:only-of-type {\n",
       "        vertical-align: middle;\n",
       "    }\n",
       "\n",
       "    .dataframe tbody tr th {\n",
       "        vertical-align: top;\n",
       "    }\n",
       "\n",
       "    .dataframe thead th {\n",
       "        text-align: right;\n",
       "    }\n",
       "</style>\n",
       "<table border=\"1\" class=\"dataframe\">\n",
       "  <thead>\n",
       "    <tr style=\"text-align: right;\">\n",
       "      <th></th>\n",
       "      <th>Predicted Negative</th>\n",
       "      <th>Predicted Positive</th>\n",
       "    </tr>\n",
       "  </thead>\n",
       "  <tbody>\n",
       "    <tr>\n",
       "      <th>Actual Negative</th>\n",
       "      <td>5762</td>\n",
       "      <td>918</td>\n",
       "    </tr>\n",
       "    <tr>\n",
       "      <th>Actual Positive</th>\n",
       "      <td>751</td>\n",
       "      <td>237</td>\n",
       "    </tr>\n",
       "  </tbody>\n",
       "</table>\n",
       "</div>"
      ],
      "text/plain": [
       "                 Predicted Negative  Predicted Positive\n",
       "Actual Negative                5762                 918\n",
       "Actual Positive                 751                 237"
      ]
     },
     "execution_count": 369,
     "metadata": {},
     "output_type": "execute_result"
    }
   ],
   "source": [
    "cmtree_df4"
   ]
  },
  {
   "cell_type": "code",
   "execution_count": 370,
   "metadata": {},
   "outputs": [],
   "source": [
    "predictionssvm4 = modelsvm.predict(X_test4_2)"
   ]
  },
  {
   "cell_type": "code",
   "execution_count": 371,
   "metadata": {},
   "outputs": [],
   "source": [
    "cmsvm4= metrics.confusion_matrix(Y_test4, predictionssvm4)"
   ]
  },
  {
   "cell_type": "code",
   "execution_count": 372,
   "metadata": {},
   "outputs": [],
   "source": [
    "cmsvm_df4 = pd.DataFrame(cmsvm4, \n",
    "            columns = ['Predicted Negative', 'Predicted Positive'],\n",
    "            index = ['Actual Negative', 'Actual Positive'])"
   ]
  },
  {
   "cell_type": "code",
   "execution_count": 373,
   "metadata": {},
   "outputs": [
    {
     "data": {
      "text/html": [
       "<div>\n",
       "<style scoped>\n",
       "    .dataframe tbody tr th:only-of-type {\n",
       "        vertical-align: middle;\n",
       "    }\n",
       "\n",
       "    .dataframe tbody tr th {\n",
       "        vertical-align: top;\n",
       "    }\n",
       "\n",
       "    .dataframe thead th {\n",
       "        text-align: right;\n",
       "    }\n",
       "</style>\n",
       "<table border=\"1\" class=\"dataframe\">\n",
       "  <thead>\n",
       "    <tr style=\"text-align: right;\">\n",
       "      <th></th>\n",
       "      <th>Predicted Negative</th>\n",
       "      <th>Predicted Positive</th>\n",
       "    </tr>\n",
       "  </thead>\n",
       "  <tbody>\n",
       "    <tr>\n",
       "      <th>Actual Negative</th>\n",
       "      <td>6608</td>\n",
       "      <td>72</td>\n",
       "    </tr>\n",
       "    <tr>\n",
       "      <th>Actual Positive</th>\n",
       "      <td>892</td>\n",
       "      <td>96</td>\n",
       "    </tr>\n",
       "  </tbody>\n",
       "</table>\n",
       "</div>"
      ],
      "text/plain": [
       "                 Predicted Negative  Predicted Positive\n",
       "Actual Negative                6608                  72\n",
       "Actual Positive                 892                  96"
      ]
     },
     "execution_count": 373,
     "metadata": {},
     "output_type": "execute_result"
    }
   ],
   "source": [
    "cmsvm_df4"
   ]
  },
  {
   "cell_type": "code",
   "execution_count": 374,
   "metadata": {},
   "outputs": [],
   "source": [
    "predictionsdecisiontree4 = modeldecisiontree.predict(X_test4_2)"
   ]
  },
  {
   "cell_type": "code",
   "execution_count": 375,
   "metadata": {},
   "outputs": [],
   "source": [
    "cmdecisiontree4= metrics.confusion_matrix(Y_test4, predictionsdecisiontree4)"
   ]
  },
  {
   "cell_type": "code",
   "execution_count": 376,
   "metadata": {},
   "outputs": [],
   "source": [
    "cmdecisiontree_df4 = pd.DataFrame(cmdecisiontree4, \n",
    "            columns = ['Predicted Negative', 'Predicted Positive'],\n",
    "            index = ['Actual Negative', 'Actual Positive'])"
   ]
  },
  {
   "cell_type": "code",
   "execution_count": 377,
   "metadata": {},
   "outputs": [
    {
     "data": {
      "text/html": [
       "<div>\n",
       "<style scoped>\n",
       "    .dataframe tbody tr th:only-of-type {\n",
       "        vertical-align: middle;\n",
       "    }\n",
       "\n",
       "    .dataframe tbody tr th {\n",
       "        vertical-align: top;\n",
       "    }\n",
       "\n",
       "    .dataframe thead th {\n",
       "        text-align: right;\n",
       "    }\n",
       "</style>\n",
       "<table border=\"1\" class=\"dataframe\">\n",
       "  <thead>\n",
       "    <tr style=\"text-align: right;\">\n",
       "      <th></th>\n",
       "      <th>Predicted Negative</th>\n",
       "      <th>Predicted Positive</th>\n",
       "    </tr>\n",
       "  </thead>\n",
       "  <tbody>\n",
       "    <tr>\n",
       "      <th>Actual Negative</th>\n",
       "      <td>5787</td>\n",
       "      <td>893</td>\n",
       "    </tr>\n",
       "    <tr>\n",
       "      <th>Actual Positive</th>\n",
       "      <td>753</td>\n",
       "      <td>235</td>\n",
       "    </tr>\n",
       "  </tbody>\n",
       "</table>\n",
       "</div>"
      ],
      "text/plain": [
       "                 Predicted Negative  Predicted Positive\n",
       "Actual Negative                5787                 893\n",
       "Actual Positive                 753                 235"
      ]
     },
     "execution_count": 377,
     "metadata": {},
     "output_type": "execute_result"
    }
   ],
   "source": [
    "cmdecisiontree_df4"
   ]
  },
  {
   "cell_type": "code",
   "execution_count": 378,
   "metadata": {},
   "outputs": [],
   "source": [
    "predictionsgradient4 = modelgradient.predict(X_test4_2)"
   ]
  },
  {
   "cell_type": "code",
   "execution_count": 379,
   "metadata": {},
   "outputs": [],
   "source": [
    "cmgradient4= metrics.confusion_matrix(Y_test4, predictionsgradient4)"
   ]
  },
  {
   "cell_type": "code",
   "execution_count": 380,
   "metadata": {},
   "outputs": [],
   "source": [
    "cmgradient_df4 = pd.DataFrame(cmgradient4, \n",
    "            columns = ['Predicted Negative', 'Predicted Positive'],\n",
    "            index = ['Actual Negative', 'Actual Positive'])"
   ]
  },
  {
   "cell_type": "code",
   "execution_count": 381,
   "metadata": {},
   "outputs": [
    {
     "data": {
      "text/html": [
       "<div>\n",
       "<style scoped>\n",
       "    .dataframe tbody tr th:only-of-type {\n",
       "        vertical-align: middle;\n",
       "    }\n",
       "\n",
       "    .dataframe tbody tr th {\n",
       "        vertical-align: top;\n",
       "    }\n",
       "\n",
       "    .dataframe thead th {\n",
       "        text-align: right;\n",
       "    }\n",
       "</style>\n",
       "<table border=\"1\" class=\"dataframe\">\n",
       "  <thead>\n",
       "    <tr style=\"text-align: right;\">\n",
       "      <th></th>\n",
       "      <th>Predicted Negative</th>\n",
       "      <th>Predicted Positive</th>\n",
       "    </tr>\n",
       "  </thead>\n",
       "  <tbody>\n",
       "    <tr>\n",
       "      <th>Actual Negative</th>\n",
       "      <td>6680</td>\n",
       "      <td>0</td>\n",
       "    </tr>\n",
       "    <tr>\n",
       "      <th>Actual Positive</th>\n",
       "      <td>988</td>\n",
       "      <td>0</td>\n",
       "    </tr>\n",
       "  </tbody>\n",
       "</table>\n",
       "</div>"
      ],
      "text/plain": [
       "                 Predicted Negative  Predicted Positive\n",
       "Actual Negative                6680                   0\n",
       "Actual Positive                 988                   0"
      ]
     },
     "execution_count": 381,
     "metadata": {},
     "output_type": "execute_result"
    }
   ],
   "source": [
    "cmgradient_df4"
   ]
  },
  {
   "cell_type": "code",
   "execution_count": 382,
   "metadata": {},
   "outputs": [],
   "source": [
    "predictionslogistic4 = modellogistic.predict(X_test4_2)"
   ]
  },
  {
   "cell_type": "code",
   "execution_count": 383,
   "metadata": {},
   "outputs": [],
   "source": [
    "cmlogistic4= metrics.confusion_matrix(Y_test4, predictionslogistic4)"
   ]
  },
  {
   "cell_type": "code",
   "execution_count": 384,
   "metadata": {},
   "outputs": [],
   "source": [
    "cmlogistic_df4 = pd.DataFrame(cmlogistic4, \n",
    "            columns = ['Predicted Negative', 'Predicted Positive'],\n",
    "            index = ['Actual Negative', 'Actual Positive'])"
   ]
  },
  {
   "cell_type": "code",
   "execution_count": 385,
   "metadata": {},
   "outputs": [
    {
     "data": {
      "text/html": [
       "<div>\n",
       "<style scoped>\n",
       "    .dataframe tbody tr th:only-of-type {\n",
       "        vertical-align: middle;\n",
       "    }\n",
       "\n",
       "    .dataframe tbody tr th {\n",
       "        vertical-align: top;\n",
       "    }\n",
       "\n",
       "    .dataframe thead th {\n",
       "        text-align: right;\n",
       "    }\n",
       "</style>\n",
       "<table border=\"1\" class=\"dataframe\">\n",
       "  <thead>\n",
       "    <tr style=\"text-align: right;\">\n",
       "      <th></th>\n",
       "      <th>Predicted Negative</th>\n",
       "      <th>Predicted Positive</th>\n",
       "    </tr>\n",
       "  </thead>\n",
       "  <tbody>\n",
       "    <tr>\n",
       "      <th>Actual Negative</th>\n",
       "      <td>6616</td>\n",
       "      <td>64</td>\n",
       "    </tr>\n",
       "    <tr>\n",
       "      <th>Actual Positive</th>\n",
       "      <td>895</td>\n",
       "      <td>93</td>\n",
       "    </tr>\n",
       "  </tbody>\n",
       "</table>\n",
       "</div>"
      ],
      "text/plain": [
       "                 Predicted Negative  Predicted Positive\n",
       "Actual Negative                6616                  64\n",
       "Actual Positive                 895                  93"
      ]
     },
     "execution_count": 385,
     "metadata": {},
     "output_type": "execute_result"
    }
   ],
   "source": [
    "cmlogistic_df4"
   ]
  },
  {
   "cell_type": "code",
   "execution_count": 386,
   "metadata": {},
   "outputs": [],
   "source": [
    "predictionsrandomf4 = modelrandomf.predict(X_test4_2)"
   ]
  },
  {
   "cell_type": "code",
   "execution_count": 387,
   "metadata": {},
   "outputs": [],
   "source": [
    "cmrandomf4= metrics.confusion_matrix(Y_test4, predictionsrandomf4)"
   ]
  },
  {
   "cell_type": "code",
   "execution_count": 388,
   "metadata": {},
   "outputs": [],
   "source": [
    "cmrandomf_df4 = pd.DataFrame(cmrandomf4, \n",
    "            columns = ['Predicted Negative', 'Predicted Positive'],\n",
    "            index = ['Actual Negative', 'Actual Positive'])"
   ]
  },
  {
   "cell_type": "code",
   "execution_count": 389,
   "metadata": {},
   "outputs": [
    {
     "data": {
      "text/html": [
       "<div>\n",
       "<style scoped>\n",
       "    .dataframe tbody tr th:only-of-type {\n",
       "        vertical-align: middle;\n",
       "    }\n",
       "\n",
       "    .dataframe tbody tr th {\n",
       "        vertical-align: top;\n",
       "    }\n",
       "\n",
       "    .dataframe thead th {\n",
       "        text-align: right;\n",
       "    }\n",
       "</style>\n",
       "<table border=\"1\" class=\"dataframe\">\n",
       "  <thead>\n",
       "    <tr style=\"text-align: right;\">\n",
       "      <th></th>\n",
       "      <th>Predicted Negative</th>\n",
       "      <th>Predicted Positive</th>\n",
       "    </tr>\n",
       "  </thead>\n",
       "  <tbody>\n",
       "    <tr>\n",
       "      <th>Actual Negative</th>\n",
       "      <td>6601</td>\n",
       "      <td>79</td>\n",
       "    </tr>\n",
       "    <tr>\n",
       "      <th>Actual Positive</th>\n",
       "      <td>882</td>\n",
       "      <td>106</td>\n",
       "    </tr>\n",
       "  </tbody>\n",
       "</table>\n",
       "</div>"
      ],
      "text/plain": [
       "                 Predicted Negative  Predicted Positive\n",
       "Actual Negative                6601                  79\n",
       "Actual Positive                 882                 106"
      ]
     },
     "execution_count": 389,
     "metadata": {},
     "output_type": "execute_result"
    }
   ],
   "source": [
    "cmrandomf_df4"
   ]
  },
  {
   "cell_type": "code",
   "execution_count": 390,
   "metadata": {},
   "outputs": [],
   "source": [
    "predictionsnet4 = modelnet.predict(X_test4_2)"
   ]
  },
  {
   "cell_type": "code",
   "execution_count": 391,
   "metadata": {},
   "outputs": [],
   "source": [
    "cmnet4= metrics.confusion_matrix(Y_test4, predictionsnet4)"
   ]
  },
  {
   "cell_type": "code",
   "execution_count": 392,
   "metadata": {},
   "outputs": [],
   "source": [
    "cmnet_df4 = pd.DataFrame(cmnet4, \n",
    "            columns = ['Predicted Negative', 'Predicted Positive'],\n",
    "            index = ['Actual Negative', 'Actual Positive'])"
   ]
  },
  {
   "cell_type": "code",
   "execution_count": 393,
   "metadata": {},
   "outputs": [
    {
     "data": {
      "text/html": [
       "<div>\n",
       "<style scoped>\n",
       "    .dataframe tbody tr th:only-of-type {\n",
       "        vertical-align: middle;\n",
       "    }\n",
       "\n",
       "    .dataframe tbody tr th {\n",
       "        vertical-align: top;\n",
       "    }\n",
       "\n",
       "    .dataframe thead th {\n",
       "        text-align: right;\n",
       "    }\n",
       "</style>\n",
       "<table border=\"1\" class=\"dataframe\">\n",
       "  <thead>\n",
       "    <tr style=\"text-align: right;\">\n",
       "      <th></th>\n",
       "      <th>Predicted Negative</th>\n",
       "      <th>Predicted Positive</th>\n",
       "    </tr>\n",
       "  </thead>\n",
       "  <tbody>\n",
       "    <tr>\n",
       "      <th>Actual Negative</th>\n",
       "      <td>6374</td>\n",
       "      <td>306</td>\n",
       "    </tr>\n",
       "    <tr>\n",
       "      <th>Actual Positive</th>\n",
       "      <td>858</td>\n",
       "      <td>130</td>\n",
       "    </tr>\n",
       "  </tbody>\n",
       "</table>\n",
       "</div>"
      ],
      "text/plain": [
       "                 Predicted Negative  Predicted Positive\n",
       "Actual Negative                6374                 306\n",
       "Actual Positive                 858                 130"
      ]
     },
     "execution_count": 393,
     "metadata": {},
     "output_type": "execute_result"
    }
   ],
   "source": [
    "cmnet_df4"
   ]
  },
  {
   "cell_type": "code",
   "execution_count": null,
   "metadata": {},
   "outputs": [],
   "source": []
  }
 ],
 "metadata": {
  "kernelspec": {
   "display_name": "Python 3",
   "language": "python",
   "name": "python3"
  },
  "language_info": {
   "codemirror_mode": {
    "name": "ipython",
    "version": 3
   },
   "file_extension": ".py",
   "mimetype": "text/x-python",
   "name": "python",
   "nbconvert_exporter": "python",
   "pygments_lexer": "ipython3",
   "version": "3.7.3"
  }
 },
 "nbformat": 4,
 "nbformat_minor": 2
}
